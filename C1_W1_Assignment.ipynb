{
 "cells": [
  {
   "cell_type": "markdown",
   "metadata": {},
   "source": [
    "# Register and visualize dataset\n",
    "\n",
    "### Introduction\n",
    "\n",
    "In this lab you will ingest and transform the customer product reviews dataset. Then you will use AWS data stack services such as AWS Glue and Amazon Athena for ingesting and querying the dataset. Finally you will use AWS Data Wrangler to analyze the dataset and plot some visuals extracting insights."
   ]
  },
  {
   "cell_type": "markdown",
   "metadata": {},
   "source": [
    "### Table of Contents\n",
    "\n",
    "- [1. Ingest and transform the public dataset](#c1w1-1.)\n",
    "  - [1.1. List the dataset files in the public S3 bucket](#c1w1-1.1.)\n",
    "    - [Exercise 1](#c1w1-ex-1)\n",
    "  - [1.2. Copy the data locally to the notebook](#c1w1-1.2.)\n",
    "  - [1.3. Transform the data](#c1w1-1.3.)\n",
    "  - [1.4 Write the data to a CSV file](#c1w1-1.4.)\n",
    "- [2. Register the public dataset for querying and visualizing](#c1w1-2.)\n",
    "  - [2.1. Register S3 dataset files as a table for querying](#c1w1-2.1.)\n",
    "    - [Exercise 2](#c1w1-ex-2)\n",
    "  - [2.2. Create default S3 bucket for Amazon Athena](#c1w1-2.2.)\n",
    "- [3. Visualize data](#c1w1-3.)\n",
    "  - [3.1. Preparation for data visualization](#c1w1-3.1.)\n",
    "  - [3.2. How many reviews per sentiment?](#c1w1-3.2.)\n",
    "    - [Exercise 3](#c1w1-ex-3)\n",
    "  - [3.3. Which product categories are highest rated by average sentiment?](#c1w1-3.3.)\n",
    "  - [3.4. Which product categories have the most reviews?](#c1w1-3.4.)\n",
    "    - [Exercise 4](#c1w1-ex-4)\n",
    "  - [3.5. What is the breakdown of sentiments per product category?](#c1w1-3.5.)\n",
    "  - [3.6. Analyze the distribution of review word counts](#c1w1-3.6.)"
   ]
  },
  {
   "cell_type": "markdown",
   "metadata": {},
   "source": [
    "Let's install the required modules first."
   ]
  },
  {
   "cell_type": "code",
   "execution_count": 1,
   "metadata": {
    "tags": []
   },
   "outputs": [
    {
     "name": "stdout",
     "output_type": "stream",
     "text": [
      "\u001b[33mWARNING: Running pip as the 'root' user can result in broken permissions and conflicting behaviour with the system package manager. It is recommended to use a virtual environment instead: https://pip.pypa.io/warnings/venv\u001b[0m\u001b[33m\n",
      "\u001b[0m  \u001b[1;31merror\u001b[0m: \u001b[1msubprocess-exited-with-error\u001b[0m\n",
      "  \n",
      "  \u001b[31m×\u001b[0m \u001b[32mBuilding wheel for pandas \u001b[0m\u001b[1;32m(\u001b[0m\u001b[32mpyproject.toml\u001b[0m\u001b[1;32m)\u001b[0m did not run successfully.\n",
      "  \u001b[31m│\u001b[0m exit code: \u001b[1;36m1\u001b[0m\n",
      "  \u001b[31m╰─>\u001b[0m \u001b[31m[1284 lines of output]\u001b[0m\n",
      "  \u001b[31m   \u001b[0m <string>:19: DeprecationWarning: pkg_resources is deprecated as an API. See https://setuptools.pypa.io/en/latest/pkg_resources.html\n",
      "  \u001b[31m   \u001b[0m <string>:45: DeprecationWarning: distutils Version classes are deprecated. Use packaging.version instead.\n",
      "  \u001b[31m   \u001b[0m <string>:492: DeprecationWarning: distutils Version classes are deprecated. Use packaging.version instead.\n",
      "  \u001b[31m   \u001b[0m running bdist_wheel\n",
      "  \u001b[31m   \u001b[0m running build\n",
      "  \u001b[31m   \u001b[0m running build_py\n",
      "  \u001b[31m   \u001b[0m creating build\n",
      "  \u001b[31m   \u001b[0m creating build/lib.linux-x86_64-cpython-310\n",
      "  \u001b[31m   \u001b[0m creating build/lib.linux-x86_64-cpython-310/pandas\n",
      "  \u001b[31m   \u001b[0m copying pandas/__init__.py -> build/lib.linux-x86_64-cpython-310/pandas\n",
      "  \u001b[31m   \u001b[0m copying pandas/_testing.py -> build/lib.linux-x86_64-cpython-310/pandas\n",
      "  \u001b[31m   \u001b[0m copying pandas/_typing.py -> build/lib.linux-x86_64-cpython-310/pandas\n",
      "  \u001b[31m   \u001b[0m copying pandas/_version.py -> build/lib.linux-x86_64-cpython-310/pandas\n",
      "  \u001b[31m   \u001b[0m copying pandas/conftest.py -> build/lib.linux-x86_64-cpython-310/pandas\n",
      "  \u001b[31m   \u001b[0m copying pandas/testing.py -> build/lib.linux-x86_64-cpython-310/pandas\n",
      "  \u001b[31m   \u001b[0m creating build/lib.linux-x86_64-cpython-310/pandas/_config\n",
      "  \u001b[31m   \u001b[0m copying pandas/_config/__init__.py -> build/lib.linux-x86_64-cpython-310/pandas/_config\n",
      "  \u001b[31m   \u001b[0m copying pandas/_config/config.py -> build/lib.linux-x86_64-cpython-310/pandas/_config\n",
      "  \u001b[31m   \u001b[0m copying pandas/_config/dates.py -> build/lib.linux-x86_64-cpython-310/pandas/_config\n",
      "  \u001b[31m   \u001b[0m copying pandas/_config/display.py -> build/lib.linux-x86_64-cpython-310/pandas/_config\n",
      "  \u001b[31m   \u001b[0m copying pandas/_config/localization.py -> build/lib.linux-x86_64-cpython-310/pandas/_config\n",
      "  \u001b[31m   \u001b[0m creating build/lib.linux-x86_64-cpython-310/pandas/_libs\n",
      "  \u001b[31m   \u001b[0m copying pandas/_libs/__init__.py -> build/lib.linux-x86_64-cpython-310/pandas/_libs\n",
      "  \u001b[31m   \u001b[0m creating build/lib.linux-x86_64-cpython-310/pandas/api\n",
      "  \u001b[31m   \u001b[0m copying pandas/api/__init__.py -> build/lib.linux-x86_64-cpython-310/pandas/api\n",
      "  \u001b[31m   \u001b[0m creating build/lib.linux-x86_64-cpython-310/pandas/arrays\n",
      "  \u001b[31m   \u001b[0m copying pandas/arrays/__init__.py -> build/lib.linux-x86_64-cpython-310/pandas/arrays\n",
      "  \u001b[31m   \u001b[0m creating build/lib.linux-x86_64-cpython-310/pandas/compat\n",
      "  \u001b[31m   \u001b[0m copying pandas/compat/__init__.py -> build/lib.linux-x86_64-cpython-310/pandas/compat\n",
      "  \u001b[31m   \u001b[0m copying pandas/compat/_optional.py -> build/lib.linux-x86_64-cpython-310/pandas/compat\n",
      "  \u001b[31m   \u001b[0m copying pandas/compat/chainmap.py -> build/lib.linux-x86_64-cpython-310/pandas/compat\n",
      "  \u001b[31m   \u001b[0m copying pandas/compat/pickle_compat.py -> build/lib.linux-x86_64-cpython-310/pandas/compat\n",
      "  \u001b[31m   \u001b[0m creating build/lib.linux-x86_64-cpython-310/pandas/core\n",
      "  \u001b[31m   \u001b[0m copying pandas/core/__init__.py -> build/lib.linux-x86_64-cpython-310/pandas/core\n",
      "  \u001b[31m   \u001b[0m copying pandas/core/accessor.py -> build/lib.linux-x86_64-cpython-310/pandas/core\n",
      "  \u001b[31m   \u001b[0m copying pandas/core/aggregation.py -> build/lib.linux-x86_64-cpython-310/pandas/core\n",
      "  \u001b[31m   \u001b[0m copying pandas/core/algorithms.py -> build/lib.linux-x86_64-cpython-310/pandas/core\n",
      "  \u001b[31m   \u001b[0m copying pandas/core/api.py -> build/lib.linux-x86_64-cpython-310/pandas/core\n",
      "  \u001b[31m   \u001b[0m copying pandas/core/apply.py -> build/lib.linux-x86_64-cpython-310/pandas/core\n",
      "  \u001b[31m   \u001b[0m copying pandas/core/base.py -> build/lib.linux-x86_64-cpython-310/pandas/core\n",
      "  \u001b[31m   \u001b[0m copying pandas/core/common.py -> build/lib.linux-x86_64-cpython-310/pandas/core\n",
      "  \u001b[31m   \u001b[0m copying pandas/core/config_init.py -> build/lib.linux-x86_64-cpython-310/pandas/core\n",
      "  \u001b[31m   \u001b[0m copying pandas/core/construction.py -> build/lib.linux-x86_64-cpython-310/pandas/core\n",
      "  \u001b[31m   \u001b[0m copying pandas/core/frame.py -> build/lib.linux-x86_64-cpython-310/pandas/core\n",
      "  \u001b[31m   \u001b[0m copying pandas/core/generic.py -> build/lib.linux-x86_64-cpython-310/pandas/core\n",
      "  \u001b[31m   \u001b[0m copying pandas/core/index.py -> build/lib.linux-x86_64-cpython-310/pandas/core\n",
      "  \u001b[31m   \u001b[0m copying pandas/core/indexers.py -> build/lib.linux-x86_64-cpython-310/pandas/core\n",
      "  \u001b[31m   \u001b[0m copying pandas/core/indexing.py -> build/lib.linux-x86_64-cpython-310/pandas/core\n",
      "  \u001b[31m   \u001b[0m copying pandas/core/missing.py -> build/lib.linux-x86_64-cpython-310/pandas/core\n",
      "  \u001b[31m   \u001b[0m copying pandas/core/nanops.py -> build/lib.linux-x86_64-cpython-310/pandas/core\n",
      "  \u001b[31m   \u001b[0m copying pandas/core/resample.py -> build/lib.linux-x86_64-cpython-310/pandas/core\n",
      "  \u001b[31m   \u001b[0m copying pandas/core/series.py -> build/lib.linux-x86_64-cpython-310/pandas/core\n",
      "  \u001b[31m   \u001b[0m copying pandas/core/shared_docs.py -> build/lib.linux-x86_64-cpython-310/pandas/core\n",
      "  \u001b[31m   \u001b[0m copying pandas/core/sorting.py -> build/lib.linux-x86_64-cpython-310/pandas/core\n",
      "  \u001b[31m   \u001b[0m copying pandas/core/strings.py -> build/lib.linux-x86_64-cpython-310/pandas/core\n",
      "  \u001b[31m   \u001b[0m creating build/lib.linux-x86_64-cpython-310/pandas/errors\n",
      "  \u001b[31m   \u001b[0m copying pandas/errors/__init__.py -> build/lib.linux-x86_64-cpython-310/pandas/errors\n",
      "  \u001b[31m   \u001b[0m creating build/lib.linux-x86_64-cpython-310/pandas/io\n",
      "  \u001b[31m   \u001b[0m copying pandas/io/__init__.py -> build/lib.linux-x86_64-cpython-310/pandas/io\n",
      "  \u001b[31m   \u001b[0m copying pandas/io/api.py -> build/lib.linux-x86_64-cpython-310/pandas/io\n",
      "  \u001b[31m   \u001b[0m copying pandas/io/clipboards.py -> build/lib.linux-x86_64-cpython-310/pandas/io\n",
      "  \u001b[31m   \u001b[0m copying pandas/io/common.py -> build/lib.linux-x86_64-cpython-310/pandas/io\n",
      "  \u001b[31m   \u001b[0m copying pandas/io/date_converters.py -> build/lib.linux-x86_64-cpython-310/pandas/io\n",
      "  \u001b[31m   \u001b[0m copying pandas/io/feather_format.py -> build/lib.linux-x86_64-cpython-310/pandas/io\n",
      "  \u001b[31m   \u001b[0m copying pandas/io/gbq.py -> build/lib.linux-x86_64-cpython-310/pandas/io\n",
      "  \u001b[31m   \u001b[0m copying pandas/io/html.py -> build/lib.linux-x86_64-cpython-310/pandas/io\n",
      "  \u001b[31m   \u001b[0m copying pandas/io/orc.py -> build/lib.linux-x86_64-cpython-310/pandas/io\n",
      "  \u001b[31m   \u001b[0m copying pandas/io/parquet.py -> build/lib.linux-x86_64-cpython-310/pandas/io\n",
      "  \u001b[31m   \u001b[0m copying pandas/io/parsers.py -> build/lib.linux-x86_64-cpython-310/pandas/io\n",
      "  \u001b[31m   \u001b[0m copying pandas/io/pickle.py -> build/lib.linux-x86_64-cpython-310/pandas/io\n",
      "  \u001b[31m   \u001b[0m copying pandas/io/pytables.py -> build/lib.linux-x86_64-cpython-310/pandas/io\n",
      "  \u001b[31m   \u001b[0m copying pandas/io/spss.py -> build/lib.linux-x86_64-cpython-310/pandas/io\n",
      "  \u001b[31m   \u001b[0m copying pandas/io/sql.py -> build/lib.linux-x86_64-cpython-310/pandas/io\n",
      "  \u001b[31m   \u001b[0m copying pandas/io/stata.py -> build/lib.linux-x86_64-cpython-310/pandas/io\n",
      "  \u001b[31m   \u001b[0m creating build/lib.linux-x86_64-cpython-310/pandas/plotting\n",
      "  \u001b[31m   \u001b[0m copying pandas/plotting/__init__.py -> build/lib.linux-x86_64-cpython-310/pandas/plotting\n",
      "  \u001b[31m   \u001b[0m copying pandas/plotting/_core.py -> build/lib.linux-x86_64-cpython-310/pandas/plotting\n",
      "  \u001b[31m   \u001b[0m copying pandas/plotting/_misc.py -> build/lib.linux-x86_64-cpython-310/pandas/plotting\n",
      "  \u001b[31m   \u001b[0m creating build/lib.linux-x86_64-cpython-310/pandas/tests\n",
      "  \u001b[31m   \u001b[0m copying pandas/tests/__init__.py -> build/lib.linux-x86_64-cpython-310/pandas/tests\n",
      "  \u001b[31m   \u001b[0m copying pandas/tests/test_aggregation.py -> build/lib.linux-x86_64-cpython-310/pandas/tests\n",
      "  \u001b[31m   \u001b[0m copying pandas/tests/test_algos.py -> build/lib.linux-x86_64-cpython-310/pandas/tests\n",
      "  \u001b[31m   \u001b[0m copying pandas/tests/test_common.py -> build/lib.linux-x86_64-cpython-310/pandas/tests\n",
      "  \u001b[31m   \u001b[0m copying pandas/tests/test_downstream.py -> build/lib.linux-x86_64-cpython-310/pandas/tests\n",
      "  \u001b[31m   \u001b[0m copying pandas/tests/test_errors.py -> build/lib.linux-x86_64-cpython-310/pandas/tests\n",
      "  \u001b[31m   \u001b[0m copying pandas/tests/test_expressions.py -> build/lib.linux-x86_64-cpython-310/pandas/tests\n",
      "  \u001b[31m   \u001b[0m copying pandas/tests/test_join.py -> build/lib.linux-x86_64-cpython-310/pandas/tests\n",
      "  \u001b[31m   \u001b[0m copying pandas/tests/test_lib.py -> build/lib.linux-x86_64-cpython-310/pandas/tests\n",
      "  \u001b[31m   \u001b[0m copying pandas/tests/test_multilevel.py -> build/lib.linux-x86_64-cpython-310/pandas/tests\n",
      "  \u001b[31m   \u001b[0m copying pandas/tests/test_nanops.py -> build/lib.linux-x86_64-cpython-310/pandas/tests\n",
      "  \u001b[31m   \u001b[0m copying pandas/tests/test_optional_dependency.py -> build/lib.linux-x86_64-cpython-310/pandas/tests\n",
      "  \u001b[31m   \u001b[0m copying pandas/tests/test_register_accessor.py -> build/lib.linux-x86_64-cpython-310/pandas/tests\n",
      "  \u001b[31m   \u001b[0m copying pandas/tests/test_sorting.py -> build/lib.linux-x86_64-cpython-310/pandas/tests\n",
      "  \u001b[31m   \u001b[0m copying pandas/tests/test_strings.py -> build/lib.linux-x86_64-cpython-310/pandas/tests\n",
      "  \u001b[31m   \u001b[0m copying pandas/tests/test_take.py -> build/lib.linux-x86_64-cpython-310/pandas/tests\n",
      "  \u001b[31m   \u001b[0m creating build/lib.linux-x86_64-cpython-310/pandas/tseries\n",
      "  \u001b[31m   \u001b[0m copying pandas/tseries/__init__.py -> build/lib.linux-x86_64-cpython-310/pandas/tseries\n",
      "  \u001b[31m   \u001b[0m copying pandas/tseries/api.py -> build/lib.linux-x86_64-cpython-310/pandas/tseries\n",
      "  \u001b[31m   \u001b[0m copying pandas/tseries/frequencies.py -> build/lib.linux-x86_64-cpython-310/pandas/tseries\n",
      "  \u001b[31m   \u001b[0m copying pandas/tseries/holiday.py -> build/lib.linux-x86_64-cpython-310/pandas/tseries\n",
      "  \u001b[31m   \u001b[0m copying pandas/tseries/offsets.py -> build/lib.linux-x86_64-cpython-310/pandas/tseries\n",
      "  \u001b[31m   \u001b[0m creating build/lib.linux-x86_64-cpython-310/pandas/util\n",
      "  \u001b[31m   \u001b[0m copying pandas/util/__init__.py -> build/lib.linux-x86_64-cpython-310/pandas/util\n",
      "  \u001b[31m   \u001b[0m copying pandas/util/_decorators.py -> build/lib.linux-x86_64-cpython-310/pandas/util\n",
      "  \u001b[31m   \u001b[0m copying pandas/util/_depr_module.py -> build/lib.linux-x86_64-cpython-310/pandas/util\n",
      "  \u001b[31m   \u001b[0m copying pandas/util/_doctools.py -> build/lib.linux-x86_64-cpython-310/pandas/util\n",
      "  \u001b[31m   \u001b[0m copying pandas/util/_exceptions.py -> build/lib.linux-x86_64-cpython-310/pandas/util\n",
      "  \u001b[31m   \u001b[0m copying pandas/util/_print_versions.py -> build/lib.linux-x86_64-cpython-310/pandas/util\n",
      "  \u001b[31m   \u001b[0m copying pandas/util/_test_decorators.py -> build/lib.linux-x86_64-cpython-310/pandas/util\n",
      "  \u001b[31m   \u001b[0m copying pandas/util/_tester.py -> build/lib.linux-x86_64-cpython-310/pandas/util\n",
      "  \u001b[31m   \u001b[0m copying pandas/util/_validators.py -> build/lib.linux-x86_64-cpython-310/pandas/util\n",
      "  \u001b[31m   \u001b[0m copying pandas/util/testing.py -> build/lib.linux-x86_64-cpython-310/pandas/util\n",
      "  \u001b[31m   \u001b[0m creating build/lib.linux-x86_64-cpython-310/pandas/_libs/tslibs\n",
      "  \u001b[31m   \u001b[0m copying pandas/_libs/tslibs/__init__.py -> build/lib.linux-x86_64-cpython-310/pandas/_libs/tslibs\n",
      "  \u001b[31m   \u001b[0m creating build/lib.linux-x86_64-cpython-310/pandas/_libs/window\n",
      "  \u001b[31m   \u001b[0m copying pandas/_libs/window/__init__.py -> build/lib.linux-x86_64-cpython-310/pandas/_libs/window\n",
      "  \u001b[31m   \u001b[0m creating build/lib.linux-x86_64-cpython-310/pandas/api/extensions\n",
      "  \u001b[31m   \u001b[0m copying pandas/api/extensions/__init__.py -> build/lib.linux-x86_64-cpython-310/pandas/api/extensions\n",
      "  \u001b[31m   \u001b[0m creating build/lib.linux-x86_64-cpython-310/pandas/api/indexers\n",
      "  \u001b[31m   \u001b[0m copying pandas/api/indexers/__init__.py -> build/lib.linux-x86_64-cpython-310/pandas/api/indexers\n",
      "  \u001b[31m   \u001b[0m creating build/lib.linux-x86_64-cpython-310/pandas/api/types\n",
      "  \u001b[31m   \u001b[0m copying pandas/api/types/__init__.py -> build/lib.linux-x86_64-cpython-310/pandas/api/types\n",
      "  \u001b[31m   \u001b[0m creating build/lib.linux-x86_64-cpython-310/pandas/compat/numpy\n",
      "  \u001b[31m   \u001b[0m copying pandas/compat/numpy/__init__.py -> build/lib.linux-x86_64-cpython-310/pandas/compat/numpy\n",
      "  \u001b[31m   \u001b[0m copying pandas/compat/numpy/function.py -> build/lib.linux-x86_64-cpython-310/pandas/compat/numpy\n",
      "  \u001b[31m   \u001b[0m creating build/lib.linux-x86_64-cpython-310/pandas/core/array_algos\n",
      "  \u001b[31m   \u001b[0m copying pandas/core/array_algos/__init__.py -> build/lib.linux-x86_64-cpython-310/pandas/core/array_algos\n",
      "  \u001b[31m   \u001b[0m copying pandas/core/array_algos/masked_reductions.py -> build/lib.linux-x86_64-cpython-310/pandas/core/array_algos\n",
      "  \u001b[31m   \u001b[0m copying pandas/core/array_algos/transforms.py -> build/lib.linux-x86_64-cpython-310/pandas/core/array_algos\n",
      "  \u001b[31m   \u001b[0m creating build/lib.linux-x86_64-cpython-310/pandas/core/arrays\n",
      "  \u001b[31m   \u001b[0m copying pandas/core/arrays/__init__.py -> build/lib.linux-x86_64-cpython-310/pandas/core/arrays\n",
      "  \u001b[31m   \u001b[0m copying pandas/core/arrays/_arrow_utils.py -> build/lib.linux-x86_64-cpython-310/pandas/core/arrays\n",
      "  \u001b[31m   \u001b[0m copying pandas/core/arrays/_mixins.py -> build/lib.linux-x86_64-cpython-310/pandas/core/arrays\n",
      "  \u001b[31m   \u001b[0m copying pandas/core/arrays/_ranges.py -> build/lib.linux-x86_64-cpython-310/pandas/core/arrays\n",
      "  \u001b[31m   \u001b[0m copying pandas/core/arrays/base.py -> build/lib.linux-x86_64-cpython-310/pandas/core/arrays\n",
      "  \u001b[31m   \u001b[0m copying pandas/core/arrays/boolean.py -> build/lib.linux-x86_64-cpython-310/pandas/core/arrays\n",
      "  \u001b[31m   \u001b[0m copying pandas/core/arrays/categorical.py -> build/lib.linux-x86_64-cpython-310/pandas/core/arrays\n",
      "  \u001b[31m   \u001b[0m copying pandas/core/arrays/datetimelike.py -> build/lib.linux-x86_64-cpython-310/pandas/core/arrays\n",
      "  \u001b[31m   \u001b[0m copying pandas/core/arrays/datetimes.py -> build/lib.linux-x86_64-cpython-310/pandas/core/arrays\n",
      "  \u001b[31m   \u001b[0m copying pandas/core/arrays/integer.py -> build/lib.linux-x86_64-cpython-310/pandas/core/arrays\n",
      "  \u001b[31m   \u001b[0m copying pandas/core/arrays/interval.py -> build/lib.linux-x86_64-cpython-310/pandas/core/arrays\n",
      "  \u001b[31m   \u001b[0m copying pandas/core/arrays/masked.py -> build/lib.linux-x86_64-cpython-310/pandas/core/arrays\n",
      "  \u001b[31m   \u001b[0m copying pandas/core/arrays/numpy_.py -> build/lib.linux-x86_64-cpython-310/pandas/core/arrays\n",
      "  \u001b[31m   \u001b[0m copying pandas/core/arrays/period.py -> build/lib.linux-x86_64-cpython-310/pandas/core/arrays\n",
      "  \u001b[31m   \u001b[0m copying pandas/core/arrays/string_.py -> build/lib.linux-x86_64-cpython-310/pandas/core/arrays\n",
      "  \u001b[31m   \u001b[0m copying pandas/core/arrays/timedeltas.py -> build/lib.linux-x86_64-cpython-310/pandas/core/arrays\n",
      "  \u001b[31m   \u001b[0m creating build/lib.linux-x86_64-cpython-310/pandas/core/computation\n",
      "  \u001b[31m   \u001b[0m copying pandas/core/computation/__init__.py -> build/lib.linux-x86_64-cpython-310/pandas/core/computation\n",
      "  \u001b[31m   \u001b[0m copying pandas/core/computation/align.py -> build/lib.linux-x86_64-cpython-310/pandas/core/computation\n",
      "  \u001b[31m   \u001b[0m copying pandas/core/computation/api.py -> build/lib.linux-x86_64-cpython-310/pandas/core/computation\n",
      "  \u001b[31m   \u001b[0m copying pandas/core/computation/check.py -> build/lib.linux-x86_64-cpython-310/pandas/core/computation\n",
      "  \u001b[31m   \u001b[0m copying pandas/core/computation/common.py -> build/lib.linux-x86_64-cpython-310/pandas/core/computation\n",
      "  \u001b[31m   \u001b[0m copying pandas/core/computation/engines.py -> build/lib.linux-x86_64-cpython-310/pandas/core/computation\n",
      "  \u001b[31m   \u001b[0m copying pandas/core/computation/eval.py -> build/lib.linux-x86_64-cpython-310/pandas/core/computation\n",
      "  \u001b[31m   \u001b[0m copying pandas/core/computation/expr.py -> build/lib.linux-x86_64-cpython-310/pandas/core/computation\n",
      "  \u001b[31m   \u001b[0m copying pandas/core/computation/expressions.py -> build/lib.linux-x86_64-cpython-310/pandas/core/computation\n",
      "  \u001b[31m   \u001b[0m copying pandas/core/computation/ops.py -> build/lib.linux-x86_64-cpython-310/pandas/core/computation\n",
      "  \u001b[31m   \u001b[0m copying pandas/core/computation/parsing.py -> build/lib.linux-x86_64-cpython-310/pandas/core/computation\n",
      "  \u001b[31m   \u001b[0m copying pandas/core/computation/pytables.py -> build/lib.linux-x86_64-cpython-310/pandas/core/computation\n",
      "  \u001b[31m   \u001b[0m copying pandas/core/computation/scope.py -> build/lib.linux-x86_64-cpython-310/pandas/core/computation\n",
      "  \u001b[31m   \u001b[0m creating build/lib.linux-x86_64-cpython-310/pandas/core/dtypes\n",
      "  \u001b[31m   \u001b[0m copying pandas/core/dtypes/__init__.py -> build/lib.linux-x86_64-cpython-310/pandas/core/dtypes\n",
      "  \u001b[31m   \u001b[0m copying pandas/core/dtypes/api.py -> build/lib.linux-x86_64-cpython-310/pandas/core/dtypes\n",
      "  \u001b[31m   \u001b[0m copying pandas/core/dtypes/base.py -> build/lib.linux-x86_64-cpython-310/pandas/core/dtypes\n",
      "  \u001b[31m   \u001b[0m copying pandas/core/dtypes/cast.py -> build/lib.linux-x86_64-cpython-310/pandas/core/dtypes\n",
      "  \u001b[31m   \u001b[0m copying pandas/core/dtypes/common.py -> build/lib.linux-x86_64-cpython-310/pandas/core/dtypes\n",
      "  \u001b[31m   \u001b[0m copying pandas/core/dtypes/concat.py -> build/lib.linux-x86_64-cpython-310/pandas/core/dtypes\n",
      "  \u001b[31m   \u001b[0m copying pandas/core/dtypes/dtypes.py -> build/lib.linux-x86_64-cpython-310/pandas/core/dtypes\n",
      "  \u001b[31m   \u001b[0m copying pandas/core/dtypes/generic.py -> build/lib.linux-x86_64-cpython-310/pandas/core/dtypes\n",
      "  \u001b[31m   \u001b[0m copying pandas/core/dtypes/inference.py -> build/lib.linux-x86_64-cpython-310/pandas/core/dtypes\n",
      "  \u001b[31m   \u001b[0m copying pandas/core/dtypes/missing.py -> build/lib.linux-x86_64-cpython-310/pandas/core/dtypes\n",
      "  \u001b[31m   \u001b[0m creating build/lib.linux-x86_64-cpython-310/pandas/core/groupby\n",
      "  \u001b[31m   \u001b[0m copying pandas/core/groupby/__init__.py -> build/lib.linux-x86_64-cpython-310/pandas/core/groupby\n",
      "  \u001b[31m   \u001b[0m copying pandas/core/groupby/base.py -> build/lib.linux-x86_64-cpython-310/pandas/core/groupby\n",
      "  \u001b[31m   \u001b[0m copying pandas/core/groupby/categorical.py -> build/lib.linux-x86_64-cpython-310/pandas/core/groupby\n",
      "  \u001b[31m   \u001b[0m copying pandas/core/groupby/generic.py -> build/lib.linux-x86_64-cpython-310/pandas/core/groupby\n",
      "  \u001b[31m   \u001b[0m copying pandas/core/groupby/groupby.py -> build/lib.linux-x86_64-cpython-310/pandas/core/groupby\n",
      "  \u001b[31m   \u001b[0m copying pandas/core/groupby/grouper.py -> build/lib.linux-x86_64-cpython-310/pandas/core/groupby\n",
      "  \u001b[31m   \u001b[0m copying pandas/core/groupby/ops.py -> build/lib.linux-x86_64-cpython-310/pandas/core/groupby\n",
      "  \u001b[31m   \u001b[0m creating build/lib.linux-x86_64-cpython-310/pandas/core/indexes\n",
      "  \u001b[31m   \u001b[0m copying pandas/core/indexes/__init__.py -> build/lib.linux-x86_64-cpython-310/pandas/core/indexes\n",
      "  \u001b[31m   \u001b[0m copying pandas/core/indexes/accessors.py -> build/lib.linux-x86_64-cpython-310/pandas/core/indexes\n",
      "  \u001b[31m   \u001b[0m copying pandas/core/indexes/api.py -> build/lib.linux-x86_64-cpython-310/pandas/core/indexes\n",
      "  \u001b[31m   \u001b[0m copying pandas/core/indexes/base.py -> build/lib.linux-x86_64-cpython-310/pandas/core/indexes\n",
      "  \u001b[31m   \u001b[0m copying pandas/core/indexes/category.py -> build/lib.linux-x86_64-cpython-310/pandas/core/indexes\n",
      "  \u001b[31m   \u001b[0m copying pandas/core/indexes/datetimelike.py -> build/lib.linux-x86_64-cpython-310/pandas/core/indexes\n",
      "  \u001b[31m   \u001b[0m copying pandas/core/indexes/datetimes.py -> build/lib.linux-x86_64-cpython-310/pandas/core/indexes\n",
      "  \u001b[31m   \u001b[0m copying pandas/core/indexes/extension.py -> build/lib.linux-x86_64-cpython-310/pandas/core/indexes\n",
      "  \u001b[31m   \u001b[0m copying pandas/core/indexes/frozen.py -> build/lib.linux-x86_64-cpython-310/pandas/core/indexes\n",
      "  \u001b[31m   \u001b[0m copying pandas/core/indexes/interval.py -> build/lib.linux-x86_64-cpython-310/pandas/core/indexes\n",
      "  \u001b[31m   \u001b[0m copying pandas/core/indexes/multi.py -> build/lib.linux-x86_64-cpython-310/pandas/core/indexes\n",
      "  \u001b[31m   \u001b[0m copying pandas/core/indexes/numeric.py -> build/lib.linux-x86_64-cpython-310/pandas/core/indexes\n",
      "  \u001b[31m   \u001b[0m copying pandas/core/indexes/period.py -> build/lib.linux-x86_64-cpython-310/pandas/core/indexes\n",
      "  \u001b[31m   \u001b[0m copying pandas/core/indexes/range.py -> build/lib.linux-x86_64-cpython-310/pandas/core/indexes\n",
      "  \u001b[31m   \u001b[0m copying pandas/core/indexes/timedeltas.py -> build/lib.linux-x86_64-cpython-310/pandas/core/indexes\n",
      "  \u001b[31m   \u001b[0m creating build/lib.linux-x86_64-cpython-310/pandas/core/internals\n",
      "  \u001b[31m   \u001b[0m copying pandas/core/internals/__init__.py -> build/lib.linux-x86_64-cpython-310/pandas/core/internals\n",
      "  \u001b[31m   \u001b[0m copying pandas/core/internals/blocks.py -> build/lib.linux-x86_64-cpython-310/pandas/core/internals\n",
      "  \u001b[31m   \u001b[0m copying pandas/core/internals/concat.py -> build/lib.linux-x86_64-cpython-310/pandas/core/internals\n",
      "  \u001b[31m   \u001b[0m copying pandas/core/internals/construction.py -> build/lib.linux-x86_64-cpython-310/pandas/core/internals\n",
      "  \u001b[31m   \u001b[0m copying pandas/core/internals/managers.py -> build/lib.linux-x86_64-cpython-310/pandas/core/internals\n",
      "  \u001b[31m   \u001b[0m copying pandas/core/internals/ops.py -> build/lib.linux-x86_64-cpython-310/pandas/core/internals\n",
      "  \u001b[31m   \u001b[0m creating build/lib.linux-x86_64-cpython-310/pandas/core/ops\n",
      "  \u001b[31m   \u001b[0m copying pandas/core/ops/__init__.py -> build/lib.linux-x86_64-cpython-310/pandas/core/ops\n",
      "  \u001b[31m   \u001b[0m copying pandas/core/ops/array_ops.py -> build/lib.linux-x86_64-cpython-310/pandas/core/ops\n",
      "  \u001b[31m   \u001b[0m copying pandas/core/ops/common.py -> build/lib.linux-x86_64-cpython-310/pandas/core/ops\n",
      "  \u001b[31m   \u001b[0m copying pandas/core/ops/dispatch.py -> build/lib.linux-x86_64-cpython-310/pandas/core/ops\n",
      "  \u001b[31m   \u001b[0m copying pandas/core/ops/docstrings.py -> build/lib.linux-x86_64-cpython-310/pandas/core/ops\n",
      "  \u001b[31m   \u001b[0m copying pandas/core/ops/invalid.py -> build/lib.linux-x86_64-cpython-310/pandas/core/ops\n",
      "  \u001b[31m   \u001b[0m copying pandas/core/ops/mask_ops.py -> build/lib.linux-x86_64-cpython-310/pandas/core/ops\n",
      "  \u001b[31m   \u001b[0m copying pandas/core/ops/methods.py -> build/lib.linux-x86_64-cpython-310/pandas/core/ops\n",
      "  \u001b[31m   \u001b[0m copying pandas/core/ops/missing.py -> build/lib.linux-x86_64-cpython-310/pandas/core/ops\n",
      "  \u001b[31m   \u001b[0m copying pandas/core/ops/roperator.py -> build/lib.linux-x86_64-cpython-310/pandas/core/ops\n",
      "  \u001b[31m   \u001b[0m creating build/lib.linux-x86_64-cpython-310/pandas/core/reshape\n",
      "  \u001b[31m   \u001b[0m copying pandas/core/reshape/__init__.py -> build/lib.linux-x86_64-cpython-310/pandas/core/reshape\n",
      "  \u001b[31m   \u001b[0m copying pandas/core/reshape/api.py -> build/lib.linux-x86_64-cpython-310/pandas/core/reshape\n",
      "  \u001b[31m   \u001b[0m copying pandas/core/reshape/concat.py -> build/lib.linux-x86_64-cpython-310/pandas/core/reshape\n",
      "  \u001b[31m   \u001b[0m copying pandas/core/reshape/melt.py -> build/lib.linux-x86_64-cpython-310/pandas/core/reshape\n",
      "  \u001b[31m   \u001b[0m copying pandas/core/reshape/merge.py -> build/lib.linux-x86_64-cpython-310/pandas/core/reshape\n",
      "  \u001b[31m   \u001b[0m copying pandas/core/reshape/pivot.py -> build/lib.linux-x86_64-cpython-310/pandas/core/reshape\n",
      "  \u001b[31m   \u001b[0m copying pandas/core/reshape/reshape.py -> build/lib.linux-x86_64-cpython-310/pandas/core/reshape\n",
      "  \u001b[31m   \u001b[0m copying pandas/core/reshape/tile.py -> build/lib.linux-x86_64-cpython-310/pandas/core/reshape\n",
      "  \u001b[31m   \u001b[0m copying pandas/core/reshape/util.py -> build/lib.linux-x86_64-cpython-310/pandas/core/reshape\n",
      "  \u001b[31m   \u001b[0m creating build/lib.linux-x86_64-cpython-310/pandas/core/sparse\n",
      "  \u001b[31m   \u001b[0m copying pandas/core/sparse/__init__.py -> build/lib.linux-x86_64-cpython-310/pandas/core/sparse\n",
      "  \u001b[31m   \u001b[0m copying pandas/core/sparse/api.py -> build/lib.linux-x86_64-cpython-310/pandas/core/sparse\n",
      "  \u001b[31m   \u001b[0m creating build/lib.linux-x86_64-cpython-310/pandas/core/tools\n",
      "  \u001b[31m   \u001b[0m copying pandas/core/tools/__init__.py -> build/lib.linux-x86_64-cpython-310/pandas/core/tools\n",
      "  \u001b[31m   \u001b[0m copying pandas/core/tools/datetimes.py -> build/lib.linux-x86_64-cpython-310/pandas/core/tools\n",
      "  \u001b[31m   \u001b[0m copying pandas/core/tools/numeric.py -> build/lib.linux-x86_64-cpython-310/pandas/core/tools\n",
      "  \u001b[31m   \u001b[0m copying pandas/core/tools/timedeltas.py -> build/lib.linux-x86_64-cpython-310/pandas/core/tools\n",
      "  \u001b[31m   \u001b[0m copying pandas/core/tools/times.py -> build/lib.linux-x86_64-cpython-310/pandas/core/tools\n",
      "  \u001b[31m   \u001b[0m creating build/lib.linux-x86_64-cpython-310/pandas/core/util\n",
      "  \u001b[31m   \u001b[0m copying pandas/core/util/__init__.py -> build/lib.linux-x86_64-cpython-310/pandas/core/util\n",
      "  \u001b[31m   \u001b[0m copying pandas/core/util/hashing.py -> build/lib.linux-x86_64-cpython-310/pandas/core/util\n",
      "  \u001b[31m   \u001b[0m copying pandas/core/util/numba_.py -> build/lib.linux-x86_64-cpython-310/pandas/core/util\n",
      "  \u001b[31m   \u001b[0m creating build/lib.linux-x86_64-cpython-310/pandas/core/window\n",
      "  \u001b[31m   \u001b[0m copying pandas/core/window/__init__.py -> build/lib.linux-x86_64-cpython-310/pandas/core/window\n",
      "  \u001b[31m   \u001b[0m copying pandas/core/window/common.py -> build/lib.linux-x86_64-cpython-310/pandas/core/window\n",
      "  \u001b[31m   \u001b[0m copying pandas/core/window/ewm.py -> build/lib.linux-x86_64-cpython-310/pandas/core/window\n",
      "  \u001b[31m   \u001b[0m copying pandas/core/window/expanding.py -> build/lib.linux-x86_64-cpython-310/pandas/core/window\n",
      "  \u001b[31m   \u001b[0m copying pandas/core/window/indexers.py -> build/lib.linux-x86_64-cpython-310/pandas/core/window\n",
      "  \u001b[31m   \u001b[0m copying pandas/core/window/numba_.py -> build/lib.linux-x86_64-cpython-310/pandas/core/window\n",
      "  \u001b[31m   \u001b[0m copying pandas/core/window/rolling.py -> build/lib.linux-x86_64-cpython-310/pandas/core/window\n",
      "  \u001b[31m   \u001b[0m creating build/lib.linux-x86_64-cpython-310/pandas/core/arrays/sparse\n",
      "  \u001b[31m   \u001b[0m copying pandas/core/arrays/sparse/__init__.py -> build/lib.linux-x86_64-cpython-310/pandas/core/arrays/sparse\n",
      "  \u001b[31m   \u001b[0m copying pandas/core/arrays/sparse/accessor.py -> build/lib.linux-x86_64-cpython-310/pandas/core/arrays/sparse\n",
      "  \u001b[31m   \u001b[0m copying pandas/core/arrays/sparse/array.py -> build/lib.linux-x86_64-cpython-310/pandas/core/arrays/sparse\n",
      "  \u001b[31m   \u001b[0m copying pandas/core/arrays/sparse/dtype.py -> build/lib.linux-x86_64-cpython-310/pandas/core/arrays/sparse\n",
      "  \u001b[31m   \u001b[0m copying pandas/core/arrays/sparse/scipy_sparse.py -> build/lib.linux-x86_64-cpython-310/pandas/core/arrays/sparse\n",
      "  \u001b[31m   \u001b[0m creating build/lib.linux-x86_64-cpython-310/pandas/io/clipboard\n",
      "  \u001b[31m   \u001b[0m copying pandas/io/clipboard/__init__.py -> build/lib.linux-x86_64-cpython-310/pandas/io/clipboard\n",
      "  \u001b[31m   \u001b[0m creating build/lib.linux-x86_64-cpython-310/pandas/io/excel\n",
      "  \u001b[31m   \u001b[0m copying pandas/io/excel/__init__.py -> build/lib.linux-x86_64-cpython-310/pandas/io/excel\n",
      "  \u001b[31m   \u001b[0m copying pandas/io/excel/_base.py -> build/lib.linux-x86_64-cpython-310/pandas/io/excel\n",
      "  \u001b[31m   \u001b[0m copying pandas/io/excel/_odfreader.py -> build/lib.linux-x86_64-cpython-310/pandas/io/excel\n",
      "  \u001b[31m   \u001b[0m copying pandas/io/excel/_odswriter.py -> build/lib.linux-x86_64-cpython-310/pandas/io/excel\n",
      "  \u001b[31m   \u001b[0m copying pandas/io/excel/_openpyxl.py -> build/lib.linux-x86_64-cpython-310/pandas/io/excel\n",
      "  \u001b[31m   \u001b[0m copying pandas/io/excel/_pyxlsb.py -> build/lib.linux-x86_64-cpython-310/pandas/io/excel\n",
      "  \u001b[31m   \u001b[0m copying pandas/io/excel/_util.py -> build/lib.linux-x86_64-cpython-310/pandas/io/excel\n",
      "  \u001b[31m   \u001b[0m copying pandas/io/excel/_xlrd.py -> build/lib.linux-x86_64-cpython-310/pandas/io/excel\n",
      "  \u001b[31m   \u001b[0m copying pandas/io/excel/_xlsxwriter.py -> build/lib.linux-x86_64-cpython-310/pandas/io/excel\n",
      "  \u001b[31m   \u001b[0m copying pandas/io/excel/_xlwt.py -> build/lib.linux-x86_64-cpython-310/pandas/io/excel\n",
      "  \u001b[31m   \u001b[0m creating build/lib.linux-x86_64-cpython-310/pandas/io/formats\n",
      "  \u001b[31m   \u001b[0m copying pandas/io/formats/__init__.py -> build/lib.linux-x86_64-cpython-310/pandas/io/formats\n",
      "  \u001b[31m   \u001b[0m copying pandas/io/formats/console.py -> build/lib.linux-x86_64-cpython-310/pandas/io/formats\n",
      "  \u001b[31m   \u001b[0m copying pandas/io/formats/css.py -> build/lib.linux-x86_64-cpython-310/pandas/io/formats\n",
      "  \u001b[31m   \u001b[0m copying pandas/io/formats/csvs.py -> build/lib.linux-x86_64-cpython-310/pandas/io/formats\n",
      "  \u001b[31m   \u001b[0m copying pandas/io/formats/excel.py -> build/lib.linux-x86_64-cpython-310/pandas/io/formats\n",
      "  \u001b[31m   \u001b[0m copying pandas/io/formats/format.py -> build/lib.linux-x86_64-cpython-310/pandas/io/formats\n",
      "  \u001b[31m   \u001b[0m copying pandas/io/formats/html.py -> build/lib.linux-x86_64-cpython-310/pandas/io/formats\n",
      "  \u001b[31m   \u001b[0m copying pandas/io/formats/info.py -> build/lib.linux-x86_64-cpython-310/pandas/io/formats\n",
      "  \u001b[31m   \u001b[0m copying pandas/io/formats/latex.py -> build/lib.linux-x86_64-cpython-310/pandas/io/formats\n",
      "  \u001b[31m   \u001b[0m copying pandas/io/formats/printing.py -> build/lib.linux-x86_64-cpython-310/pandas/io/formats\n",
      "  \u001b[31m   \u001b[0m copying pandas/io/formats/style.py -> build/lib.linux-x86_64-cpython-310/pandas/io/formats\n",
      "  \u001b[31m   \u001b[0m creating build/lib.linux-x86_64-cpython-310/pandas/io/json\n",
      "  \u001b[31m   \u001b[0m copying pandas/io/json/__init__.py -> build/lib.linux-x86_64-cpython-310/pandas/io/json\n",
      "  \u001b[31m   \u001b[0m copying pandas/io/json/_json.py -> build/lib.linux-x86_64-cpython-310/pandas/io/json\n",
      "  \u001b[31m   \u001b[0m copying pandas/io/json/_normalize.py -> build/lib.linux-x86_64-cpython-310/pandas/io/json\n",
      "  \u001b[31m   \u001b[0m copying pandas/io/json/_table_schema.py -> build/lib.linux-x86_64-cpython-310/pandas/io/json\n",
      "  \u001b[31m   \u001b[0m creating build/lib.linux-x86_64-cpython-310/pandas/io/sas\n",
      "  \u001b[31m   \u001b[0m copying pandas/io/sas/__init__.py -> build/lib.linux-x86_64-cpython-310/pandas/io/sas\n",
      "  \u001b[31m   \u001b[0m copying pandas/io/sas/sas7bdat.py -> build/lib.linux-x86_64-cpython-310/pandas/io/sas\n",
      "  \u001b[31m   \u001b[0m copying pandas/io/sas/sas_constants.py -> build/lib.linux-x86_64-cpython-310/pandas/io/sas\n",
      "  \u001b[31m   \u001b[0m copying pandas/io/sas/sas_xport.py -> build/lib.linux-x86_64-cpython-310/pandas/io/sas\n",
      "  \u001b[31m   \u001b[0m copying pandas/io/sas/sasreader.py -> build/lib.linux-x86_64-cpython-310/pandas/io/sas\n",
      "  \u001b[31m   \u001b[0m creating build/lib.linux-x86_64-cpython-310/pandas/plotting/_matplotlib\n",
      "  \u001b[31m   \u001b[0m copying pandas/plotting/_matplotlib/__init__.py -> build/lib.linux-x86_64-cpython-310/pandas/plotting/_matplotlib\n",
      "  \u001b[31m   \u001b[0m copying pandas/plotting/_matplotlib/boxplot.py -> build/lib.linux-x86_64-cpython-310/pandas/plotting/_matplotlib\n",
      "  \u001b[31m   \u001b[0m copying pandas/plotting/_matplotlib/compat.py -> build/lib.linux-x86_64-cpython-310/pandas/plotting/_matplotlib\n",
      "  \u001b[31m   \u001b[0m copying pandas/plotting/_matplotlib/converter.py -> build/lib.linux-x86_64-cpython-310/pandas/plotting/_matplotlib\n",
      "  \u001b[31m   \u001b[0m copying pandas/plotting/_matplotlib/core.py -> build/lib.linux-x86_64-cpython-310/pandas/plotting/_matplotlib\n",
      "  \u001b[31m   \u001b[0m copying pandas/plotting/_matplotlib/hist.py -> build/lib.linux-x86_64-cpython-310/pandas/plotting/_matplotlib\n",
      "  \u001b[31m   \u001b[0m copying pandas/plotting/_matplotlib/misc.py -> build/lib.linux-x86_64-cpython-310/pandas/plotting/_matplotlib\n",
      "  \u001b[31m   \u001b[0m copying pandas/plotting/_matplotlib/style.py -> build/lib.linux-x86_64-cpython-310/pandas/plotting/_matplotlib\n",
      "  \u001b[31m   \u001b[0m copying pandas/plotting/_matplotlib/timeseries.py -> build/lib.linux-x86_64-cpython-310/pandas/plotting/_matplotlib\n",
      "  \u001b[31m   \u001b[0m copying pandas/plotting/_matplotlib/tools.py -> build/lib.linux-x86_64-cpython-310/pandas/plotting/_matplotlib\n",
      "  \u001b[31m   \u001b[0m creating build/lib.linux-x86_64-cpython-310/pandas/tests/api\n",
      "  \u001b[31m   \u001b[0m copying pandas/tests/api/__init__.py -> build/lib.linux-x86_64-cpython-310/pandas/tests/api\n",
      "  \u001b[31m   \u001b[0m copying pandas/tests/api/test_api.py -> build/lib.linux-x86_64-cpython-310/pandas/tests/api\n",
      "  \u001b[31m   \u001b[0m copying pandas/tests/api/test_types.py -> build/lib.linux-x86_64-cpython-310/pandas/tests/api\n",
      "  \u001b[31m   \u001b[0m creating build/lib.linux-x86_64-cpython-310/pandas/tests/arithmetic\n",
      "  \u001b[31m   \u001b[0m copying pandas/tests/arithmetic/__init__.py -> build/lib.linux-x86_64-cpython-310/pandas/tests/arithmetic\n",
      "  \u001b[31m   \u001b[0m copying pandas/tests/arithmetic/common.py -> build/lib.linux-x86_64-cpython-310/pandas/tests/arithmetic\n",
      "  \u001b[31m   \u001b[0m copying pandas/tests/arithmetic/conftest.py -> build/lib.linux-x86_64-cpython-310/pandas/tests/arithmetic\n",
      "  \u001b[31m   \u001b[0m copying pandas/tests/arithmetic/test_array_ops.py -> build/lib.linux-x86_64-cpython-310/pandas/tests/arithmetic\n",
      "  \u001b[31m   \u001b[0m copying pandas/tests/arithmetic/test_datetime64.py -> build/lib.linux-x86_64-cpython-310/pandas/tests/arithmetic\n",
      "  \u001b[31m   \u001b[0m copying pandas/tests/arithmetic/test_interval.py -> build/lib.linux-x86_64-cpython-310/pandas/tests/arithmetic\n",
      "  \u001b[31m   \u001b[0m copying pandas/tests/arithmetic/test_numeric.py -> build/lib.linux-x86_64-cpython-310/pandas/tests/arithmetic\n",
      "  \u001b[31m   \u001b[0m copying pandas/tests/arithmetic/test_object.py -> build/lib.linux-x86_64-cpython-310/pandas/tests/arithmetic\n",
      "  \u001b[31m   \u001b[0m copying pandas/tests/arithmetic/test_period.py -> build/lib.linux-x86_64-cpython-310/pandas/tests/arithmetic\n",
      "  \u001b[31m   \u001b[0m copying pandas/tests/arithmetic/test_timedelta64.py -> build/lib.linux-x86_64-cpython-310/pandas/tests/arithmetic\n",
      "  \u001b[31m   \u001b[0m creating build/lib.linux-x86_64-cpython-310/pandas/tests/arrays\n",
      "  \u001b[31m   \u001b[0m copying pandas/tests/arrays/__init__.py -> build/lib.linux-x86_64-cpython-310/pandas/tests/arrays\n",
      "  \u001b[31m   \u001b[0m copying pandas/tests/arrays/test_array.py -> build/lib.linux-x86_64-cpython-310/pandas/tests/arrays\n",
      "  \u001b[31m   \u001b[0m copying pandas/tests/arrays/test_datetimelike.py -> build/lib.linux-x86_64-cpython-310/pandas/tests/arrays\n",
      "  \u001b[31m   \u001b[0m copying pandas/tests/arrays/test_datetimes.py -> build/lib.linux-x86_64-cpython-310/pandas/tests/arrays\n",
      "  \u001b[31m   \u001b[0m copying pandas/tests/arrays/test_numpy.py -> build/lib.linux-x86_64-cpython-310/pandas/tests/arrays\n",
      "  \u001b[31m   \u001b[0m copying pandas/tests/arrays/test_period.py -> build/lib.linux-x86_64-cpython-310/pandas/tests/arrays\n",
      "  \u001b[31m   \u001b[0m copying pandas/tests/arrays/test_timedeltas.py -> build/lib.linux-x86_64-cpython-310/pandas/tests/arrays\n",
      "  \u001b[31m   \u001b[0m creating build/lib.linux-x86_64-cpython-310/pandas/tests/base\n",
      "  \u001b[31m   \u001b[0m copying pandas/tests/base/__init__.py -> build/lib.linux-x86_64-cpython-310/pandas/tests/base\n",
      "  \u001b[31m   \u001b[0m copying pandas/tests/base/common.py -> build/lib.linux-x86_64-cpython-310/pandas/tests/base\n",
      "  \u001b[31m   \u001b[0m copying pandas/tests/base/test_constructors.py -> build/lib.linux-x86_64-cpython-310/pandas/tests/base\n",
      "  \u001b[31m   \u001b[0m copying pandas/tests/base/test_conversion.py -> build/lib.linux-x86_64-cpython-310/pandas/tests/base\n",
      "  \u001b[31m   \u001b[0m copying pandas/tests/base/test_drop_duplicates.py -> build/lib.linux-x86_64-cpython-310/pandas/tests/base\n",
      "  \u001b[31m   \u001b[0m copying pandas/tests/base/test_factorize.py -> build/lib.linux-x86_64-cpython-310/pandas/tests/base\n",
      "  \u001b[31m   \u001b[0m copying pandas/tests/base/test_fillna.py -> build/lib.linux-x86_64-cpython-310/pandas/tests/base\n",
      "  \u001b[31m   \u001b[0m copying pandas/tests/base/test_misc.py -> build/lib.linux-x86_64-cpython-310/pandas/tests/base\n",
      "  \u001b[31m   \u001b[0m copying pandas/tests/base/test_transpose.py -> build/lib.linux-x86_64-cpython-310/pandas/tests/base\n",
      "  \u001b[31m   \u001b[0m copying pandas/tests/base/test_unique.py -> build/lib.linux-x86_64-cpython-310/pandas/tests/base\n",
      "  \u001b[31m   \u001b[0m copying pandas/tests/base/test_value_counts.py -> build/lib.linux-x86_64-cpython-310/pandas/tests/base\n",
      "  \u001b[31m   \u001b[0m creating build/lib.linux-x86_64-cpython-310/pandas/tests/computation\n",
      "  \u001b[31m   \u001b[0m copying pandas/tests/computation/__init__.py -> build/lib.linux-x86_64-cpython-310/pandas/tests/computation\n",
      "  \u001b[31m   \u001b[0m copying pandas/tests/computation/test_compat.py -> build/lib.linux-x86_64-cpython-310/pandas/tests/computation\n",
      "  \u001b[31m   \u001b[0m copying pandas/tests/computation/test_eval.py -> build/lib.linux-x86_64-cpython-310/pandas/tests/computation\n",
      "  \u001b[31m   \u001b[0m creating build/lib.linux-x86_64-cpython-310/pandas/tests/config\n",
      "  \u001b[31m   \u001b[0m copying pandas/tests/config/__init__.py -> build/lib.linux-x86_64-cpython-310/pandas/tests/config\n",
      "  \u001b[31m   \u001b[0m copying pandas/tests/config/test_config.py -> build/lib.linux-x86_64-cpython-310/pandas/tests/config\n",
      "  \u001b[31m   \u001b[0m copying pandas/tests/config/test_localization.py -> build/lib.linux-x86_64-cpython-310/pandas/tests/config\n",
      "  \u001b[31m   \u001b[0m creating build/lib.linux-x86_64-cpython-310/pandas/tests/dtypes\n",
      "  \u001b[31m   \u001b[0m copying pandas/tests/dtypes/__init__.py -> build/lib.linux-x86_64-cpython-310/pandas/tests/dtypes\n",
      "  \u001b[31m   \u001b[0m copying pandas/tests/dtypes/test_common.py -> build/lib.linux-x86_64-cpython-310/pandas/tests/dtypes\n",
      "  \u001b[31m   \u001b[0m copying pandas/tests/dtypes/test_concat.py -> build/lib.linux-x86_64-cpython-310/pandas/tests/dtypes\n",
      "  \u001b[31m   \u001b[0m copying pandas/tests/dtypes/test_dtypes.py -> build/lib.linux-x86_64-cpython-310/pandas/tests/dtypes\n",
      "  \u001b[31m   \u001b[0m copying pandas/tests/dtypes/test_generic.py -> build/lib.linux-x86_64-cpython-310/pandas/tests/dtypes\n",
      "  \u001b[31m   \u001b[0m copying pandas/tests/dtypes/test_inference.py -> build/lib.linux-x86_64-cpython-310/pandas/tests/dtypes\n",
      "  \u001b[31m   \u001b[0m copying pandas/tests/dtypes/test_missing.py -> build/lib.linux-x86_64-cpython-310/pandas/tests/dtypes\n",
      "  \u001b[31m   \u001b[0m creating build/lib.linux-x86_64-cpython-310/pandas/tests/extension\n",
      "  \u001b[31m   \u001b[0m copying pandas/tests/extension/__init__.py -> build/lib.linux-x86_64-cpython-310/pandas/tests/extension\n",
      "  \u001b[31m   \u001b[0m copying pandas/tests/extension/conftest.py -> build/lib.linux-x86_64-cpython-310/pandas/tests/extension\n",
      "  \u001b[31m   \u001b[0m copying pandas/tests/extension/test_boolean.py -> build/lib.linux-x86_64-cpython-310/pandas/tests/extension\n",
      "  \u001b[31m   \u001b[0m copying pandas/tests/extension/test_categorical.py -> build/lib.linux-x86_64-cpython-310/pandas/tests/extension\n",
      "  \u001b[31m   \u001b[0m copying pandas/tests/extension/test_common.py -> build/lib.linux-x86_64-cpython-310/pandas/tests/extension\n",
      "  \u001b[31m   \u001b[0m copying pandas/tests/extension/test_datetime.py -> build/lib.linux-x86_64-cpython-310/pandas/tests/extension\n",
      "  \u001b[31m   \u001b[0m copying pandas/tests/extension/test_external_block.py -> build/lib.linux-x86_64-cpython-310/pandas/tests/extension\n",
      "  \u001b[31m   \u001b[0m copying pandas/tests/extension/test_integer.py -> build/lib.linux-x86_64-cpython-310/pandas/tests/extension\n",
      "  \u001b[31m   \u001b[0m copying pandas/tests/extension/test_interval.py -> build/lib.linux-x86_64-cpython-310/pandas/tests/extension\n",
      "  \u001b[31m   \u001b[0m copying pandas/tests/extension/test_numpy.py -> build/lib.linux-x86_64-cpython-310/pandas/tests/extension\n",
      "  \u001b[31m   \u001b[0m copying pandas/tests/extension/test_period.py -> build/lib.linux-x86_64-cpython-310/pandas/tests/extension\n",
      "  \u001b[31m   \u001b[0m copying pandas/tests/extension/test_sparse.py -> build/lib.linux-x86_64-cpython-310/pandas/tests/extension\n",
      "  \u001b[31m   \u001b[0m copying pandas/tests/extension/test_string.py -> build/lib.linux-x86_64-cpython-310/pandas/tests/extension\n",
      "  \u001b[31m   \u001b[0m creating build/lib.linux-x86_64-cpython-310/pandas/tests/frame\n",
      "  \u001b[31m   \u001b[0m copying pandas/tests/frame/__init__.py -> build/lib.linux-x86_64-cpython-310/pandas/tests/frame\n",
      "  \u001b[31m   \u001b[0m copying pandas/tests/frame/common.py -> build/lib.linux-x86_64-cpython-310/pandas/tests/frame\n",
      "  \u001b[31m   \u001b[0m copying pandas/tests/frame/conftest.py -> build/lib.linux-x86_64-cpython-310/pandas/tests/frame\n",
      "  \u001b[31m   \u001b[0m copying pandas/tests/frame/test_alter_axes.py -> build/lib.linux-x86_64-cpython-310/pandas/tests/frame\n",
      "  \u001b[31m   \u001b[0m copying pandas/tests/frame/test_analytics.py -> build/lib.linux-x86_64-cpython-310/pandas/tests/frame\n",
      "  \u001b[31m   \u001b[0m copying pandas/tests/frame/test_api.py -> build/lib.linux-x86_64-cpython-310/pandas/tests/frame\n",
      "  \u001b[31m   \u001b[0m copying pandas/tests/frame/test_arithmetic.py -> build/lib.linux-x86_64-cpython-310/pandas/tests/frame\n",
      "  \u001b[31m   \u001b[0m copying pandas/tests/frame/test_axis_select_reindex.py -> build/lib.linux-x86_64-cpython-310/pandas/tests/frame\n",
      "  \u001b[31m   \u001b[0m copying pandas/tests/frame/test_block_internals.py -> build/lib.linux-x86_64-cpython-310/pandas/tests/frame\n",
      "  \u001b[31m   \u001b[0m copying pandas/tests/frame/test_combine_concat.py -> build/lib.linux-x86_64-cpython-310/pandas/tests/frame\n",
      "  \u001b[31m   \u001b[0m copying pandas/tests/frame/test_constructors.py -> build/lib.linux-x86_64-cpython-310/pandas/tests/frame\n",
      "  \u001b[31m   \u001b[0m copying pandas/tests/frame/test_cumulative.py -> build/lib.linux-x86_64-cpython-310/pandas/tests/frame\n",
      "  \u001b[31m   \u001b[0m copying pandas/tests/frame/test_dtypes.py -> build/lib.linux-x86_64-cpython-310/pandas/tests/frame\n",
      "  \u001b[31m   \u001b[0m copying pandas/tests/frame/test_join.py -> build/lib.linux-x86_64-cpython-310/pandas/tests/frame\n",
      "  \u001b[31m   \u001b[0m copying pandas/tests/frame/test_missing.py -> build/lib.linux-x86_64-cpython-310/pandas/tests/frame\n",
      "  \u001b[31m   \u001b[0m copying pandas/tests/frame/test_nonunique_indexes.py -> build/lib.linux-x86_64-cpython-310/pandas/tests/frame\n",
      "  \u001b[31m   \u001b[0m copying pandas/tests/frame/test_operators.py -> build/lib.linux-x86_64-cpython-310/pandas/tests/frame\n",
      "  \u001b[31m   \u001b[0m copying pandas/tests/frame/test_period.py -> build/lib.linux-x86_64-cpython-310/pandas/tests/frame\n",
      "  \u001b[31m   \u001b[0m copying pandas/tests/frame/test_query_eval.py -> build/lib.linux-x86_64-cpython-310/pandas/tests/frame\n",
      "  \u001b[31m   \u001b[0m copying pandas/tests/frame/test_repr_info.py -> build/lib.linux-x86_64-cpython-310/pandas/tests/frame\n",
      "  \u001b[31m   \u001b[0m copying pandas/tests/frame/test_reshape.py -> build/lib.linux-x86_64-cpython-310/pandas/tests/frame\n",
      "  \u001b[31m   \u001b[0m copying pandas/tests/frame/test_sort_values_level_as_str.py -> build/lib.linux-x86_64-cpython-310/pandas/tests/frame\n",
      "  \u001b[31m   \u001b[0m copying pandas/tests/frame/test_subclass.py -> build/lib.linux-x86_64-cpython-310/pandas/tests/frame\n",
      "  \u001b[31m   \u001b[0m copying pandas/tests/frame/test_timeseries.py -> build/lib.linux-x86_64-cpython-310/pandas/tests/frame\n",
      "  \u001b[31m   \u001b[0m copying pandas/tests/frame/test_timezones.py -> build/lib.linux-x86_64-cpython-310/pandas/tests/frame\n",
      "  \u001b[31m   \u001b[0m copying pandas/tests/frame/test_to_csv.py -> build/lib.linux-x86_64-cpython-310/pandas/tests/frame\n",
      "  \u001b[31m   \u001b[0m copying pandas/tests/frame/test_validate.py -> build/lib.linux-x86_64-cpython-310/pandas/tests/frame\n",
      "  \u001b[31m   \u001b[0m creating build/lib.linux-x86_64-cpython-310/pandas/tests/generic\n",
      "  \u001b[31m   \u001b[0m copying pandas/tests/generic/__init__.py -> build/lib.linux-x86_64-cpython-310/pandas/tests/generic\n",
      "  \u001b[31m   \u001b[0m copying pandas/tests/generic/test_finalize.py -> build/lib.linux-x86_64-cpython-310/pandas/tests/generic\n",
      "  \u001b[31m   \u001b[0m copying pandas/tests/generic/test_frame.py -> build/lib.linux-x86_64-cpython-310/pandas/tests/generic\n",
      "  \u001b[31m   \u001b[0m copying pandas/tests/generic/test_generic.py -> build/lib.linux-x86_64-cpython-310/pandas/tests/generic\n",
      "  \u001b[31m   \u001b[0m copying pandas/tests/generic/test_label_or_level_utils.py -> build/lib.linux-x86_64-cpython-310/pandas/tests/generic\n",
      "  \u001b[31m   \u001b[0m copying pandas/tests/generic/test_series.py -> build/lib.linux-x86_64-cpython-310/pandas/tests/generic\n",
      "  \u001b[31m   \u001b[0m copying pandas/tests/generic/test_to_xarray.py -> build/lib.linux-x86_64-cpython-310/pandas/tests/generic\n",
      "  \u001b[31m   \u001b[0m creating build/lib.linux-x86_64-cpython-310/pandas/tests/groupby\n",
      "  \u001b[31m   \u001b[0m copying pandas/tests/groupby/__init__.py -> build/lib.linux-x86_64-cpython-310/pandas/tests/groupby\n",
      "  \u001b[31m   \u001b[0m copying pandas/tests/groupby/conftest.py -> build/lib.linux-x86_64-cpython-310/pandas/tests/groupby\n",
      "  \u001b[31m   \u001b[0m copying pandas/tests/groupby/test_allowlist.py -> build/lib.linux-x86_64-cpython-310/pandas/tests/groupby\n",
      "  \u001b[31m   \u001b[0m copying pandas/tests/groupby/test_apply.py -> build/lib.linux-x86_64-cpython-310/pandas/tests/groupby\n",
      "  \u001b[31m   \u001b[0m copying pandas/tests/groupby/test_apply_mutate.py -> build/lib.linux-x86_64-cpython-310/pandas/tests/groupby\n",
      "  \u001b[31m   \u001b[0m copying pandas/tests/groupby/test_bin_groupby.py -> build/lib.linux-x86_64-cpython-310/pandas/tests/groupby\n",
      "  \u001b[31m   \u001b[0m copying pandas/tests/groupby/test_categorical.py -> build/lib.linux-x86_64-cpython-310/pandas/tests/groupby\n",
      "  \u001b[31m   \u001b[0m copying pandas/tests/groupby/test_counting.py -> build/lib.linux-x86_64-cpython-310/pandas/tests/groupby\n",
      "  \u001b[31m   \u001b[0m copying pandas/tests/groupby/test_filters.py -> build/lib.linux-x86_64-cpython-310/pandas/tests/groupby\n",
      "  \u001b[31m   \u001b[0m copying pandas/tests/groupby/test_function.py -> build/lib.linux-x86_64-cpython-310/pandas/tests/groupby\n",
      "  \u001b[31m   \u001b[0m copying pandas/tests/groupby/test_groupby.py -> build/lib.linux-x86_64-cpython-310/pandas/tests/groupby\n",
      "  \u001b[31m   \u001b[0m copying pandas/tests/groupby/test_groupby_dropna.py -> build/lib.linux-x86_64-cpython-310/pandas/tests/groupby\n",
      "  \u001b[31m   \u001b[0m copying pandas/tests/groupby/test_groupby_subclass.py -> build/lib.linux-x86_64-cpython-310/pandas/tests/groupby\n",
      "  \u001b[31m   \u001b[0m copying pandas/tests/groupby/test_grouping.py -> build/lib.linux-x86_64-cpython-310/pandas/tests/groupby\n",
      "  \u001b[31m   \u001b[0m copying pandas/tests/groupby/test_index_as_string.py -> build/lib.linux-x86_64-cpython-310/pandas/tests/groupby\n",
      "  \u001b[31m   \u001b[0m copying pandas/tests/groupby/test_nth.py -> build/lib.linux-x86_64-cpython-310/pandas/tests/groupby\n",
      "  \u001b[31m   \u001b[0m copying pandas/tests/groupby/test_nunique.py -> build/lib.linux-x86_64-cpython-310/pandas/tests/groupby\n",
      "  \u001b[31m   \u001b[0m copying pandas/tests/groupby/test_pipe.py -> build/lib.linux-x86_64-cpython-310/pandas/tests/groupby\n",
      "  \u001b[31m   \u001b[0m copying pandas/tests/groupby/test_quantile.py -> build/lib.linux-x86_64-cpython-310/pandas/tests/groupby\n",
      "  \u001b[31m   \u001b[0m copying pandas/tests/groupby/test_rank.py -> build/lib.linux-x86_64-cpython-310/pandas/tests/groupby\n",
      "  \u001b[31m   \u001b[0m copying pandas/tests/groupby/test_sample.py -> build/lib.linux-x86_64-cpython-310/pandas/tests/groupby\n",
      "  \u001b[31m   \u001b[0m copying pandas/tests/groupby/test_size.py -> build/lib.linux-x86_64-cpython-310/pandas/tests/groupby\n",
      "  \u001b[31m   \u001b[0m copying pandas/tests/groupby/test_timegrouper.py -> build/lib.linux-x86_64-cpython-310/pandas/tests/groupby\n",
      "  \u001b[31m   \u001b[0m copying pandas/tests/groupby/test_value_counts.py -> build/lib.linux-x86_64-cpython-310/pandas/tests/groupby\n",
      "  \u001b[31m   \u001b[0m creating build/lib.linux-x86_64-cpython-310/pandas/tests/indexes\n",
      "  \u001b[31m   \u001b[0m copying pandas/tests/indexes/__init__.py -> build/lib.linux-x86_64-cpython-310/pandas/tests/indexes\n",
      "  \u001b[31m   \u001b[0m copying pandas/tests/indexes/common.py -> build/lib.linux-x86_64-cpython-310/pandas/tests/indexes\n",
      "  \u001b[31m   \u001b[0m copying pandas/tests/indexes/conftest.py -> build/lib.linux-x86_64-cpython-310/pandas/tests/indexes\n",
      "  \u001b[31m   \u001b[0m copying pandas/tests/indexes/datetimelike.py -> build/lib.linux-x86_64-cpython-310/pandas/tests/indexes\n",
      "  \u001b[31m   \u001b[0m copying pandas/tests/indexes/test_any_index.py -> build/lib.linux-x86_64-cpython-310/pandas/tests/indexes\n",
      "  \u001b[31m   \u001b[0m copying pandas/tests/indexes/test_base.py -> build/lib.linux-x86_64-cpython-310/pandas/tests/indexes\n",
      "  \u001b[31m   \u001b[0m copying pandas/tests/indexes/test_common.py -> build/lib.linux-x86_64-cpython-310/pandas/tests/indexes\n",
      "  \u001b[31m   \u001b[0m copying pandas/tests/indexes/test_engines.py -> build/lib.linux-x86_64-cpython-310/pandas/tests/indexes\n",
      "  \u001b[31m   \u001b[0m copying pandas/tests/indexes/test_frozen.py -> build/lib.linux-x86_64-cpython-310/pandas/tests/indexes\n",
      "  \u001b[31m   \u001b[0m copying pandas/tests/indexes/test_index_new.py -> build/lib.linux-x86_64-cpython-310/pandas/tests/indexes\n",
      "  \u001b[31m   \u001b[0m copying pandas/tests/indexes/test_indexing.py -> build/lib.linux-x86_64-cpython-310/pandas/tests/indexes\n",
      "  \u001b[31m   \u001b[0m copying pandas/tests/indexes/test_numeric.py -> build/lib.linux-x86_64-cpython-310/pandas/tests/indexes\n",
      "  \u001b[31m   \u001b[0m copying pandas/tests/indexes/test_numpy_compat.py -> build/lib.linux-x86_64-cpython-310/pandas/tests/indexes\n",
      "  \u001b[31m   \u001b[0m copying pandas/tests/indexes/test_setops.py -> build/lib.linux-x86_64-cpython-310/pandas/tests/indexes\n",
      "  \u001b[31m   \u001b[0m creating build/lib.linux-x86_64-cpython-310/pandas/tests/indexing\n",
      "  \u001b[31m   \u001b[0m copying pandas/tests/indexing/__init__.py -> build/lib.linux-x86_64-cpython-310/pandas/tests/indexing\n",
      "  \u001b[31m   \u001b[0m copying pandas/tests/indexing/common.py -> build/lib.linux-x86_64-cpython-310/pandas/tests/indexing\n",
      "  \u001b[31m   \u001b[0m copying pandas/tests/indexing/test_callable.py -> build/lib.linux-x86_64-cpython-310/pandas/tests/indexing\n",
      "  \u001b[31m   \u001b[0m copying pandas/tests/indexing/test_categorical.py -> build/lib.linux-x86_64-cpython-310/pandas/tests/indexing\n",
      "  \u001b[31m   \u001b[0m copying pandas/tests/indexing/test_chaining_and_caching.py -> build/lib.linux-x86_64-cpython-310/pandas/tests/indexing\n",
      "  \u001b[31m   \u001b[0m copying pandas/tests/indexing/test_check_indexer.py -> build/lib.linux-x86_64-cpython-310/pandas/tests/indexing\n",
      "  \u001b[31m   \u001b[0m copying pandas/tests/indexing/test_coercion.py -> build/lib.linux-x86_64-cpython-310/pandas/tests/indexing\n",
      "  \u001b[31m   \u001b[0m copying pandas/tests/indexing/test_datetime.py -> build/lib.linux-x86_64-cpython-310/pandas/tests/indexing\n",
      "  \u001b[31m   \u001b[0m copying pandas/tests/indexing/test_floats.py -> build/lib.linux-x86_64-cpython-310/pandas/tests/indexing\n",
      "  \u001b[31m   \u001b[0m copying pandas/tests/indexing/test_iloc.py -> build/lib.linux-x86_64-cpython-310/pandas/tests/indexing\n",
      "  \u001b[31m   \u001b[0m copying pandas/tests/indexing/test_indexers.py -> build/lib.linux-x86_64-cpython-310/pandas/tests/indexing\n",
      "  \u001b[31m   \u001b[0m copying pandas/tests/indexing/test_indexing.py -> build/lib.linux-x86_64-cpython-310/pandas/tests/indexing\n",
      "  \u001b[31m   \u001b[0m copying pandas/tests/indexing/test_indexing_slow.py -> build/lib.linux-x86_64-cpython-310/pandas/tests/indexing\n",
      "  \u001b[31m   \u001b[0m copying pandas/tests/indexing/test_loc.py -> build/lib.linux-x86_64-cpython-310/pandas/tests/indexing\n",
      "  \u001b[31m   \u001b[0m copying pandas/tests/indexing/test_na_indexing.py -> build/lib.linux-x86_64-cpython-310/pandas/tests/indexing\n",
      "  \u001b[31m   \u001b[0m copying pandas/tests/indexing/test_partial.py -> build/lib.linux-x86_64-cpython-310/pandas/tests/indexing\n",
      "  \u001b[31m   \u001b[0m copying pandas/tests/indexing/test_scalar.py -> build/lib.linux-x86_64-cpython-310/pandas/tests/indexing\n",
      "  \u001b[31m   \u001b[0m copying pandas/tests/indexing/test_timedelta.py -> build/lib.linux-x86_64-cpython-310/pandas/tests/indexing\n",
      "  \u001b[31m   \u001b[0m creating build/lib.linux-x86_64-cpython-310/pandas/tests/internals\n",
      "  \u001b[31m   \u001b[0m copying pandas/tests/internals/__init__.py -> build/lib.linux-x86_64-cpython-310/pandas/tests/internals\n",
      "  \u001b[31m   \u001b[0m copying pandas/tests/internals/test_internals.py -> build/lib.linux-x86_64-cpython-310/pandas/tests/internals\n",
      "  \u001b[31m   \u001b[0m creating build/lib.linux-x86_64-cpython-310/pandas/tests/io\n",
      "  \u001b[31m   \u001b[0m copying pandas/tests/io/__init__.py -> build/lib.linux-x86_64-cpython-310/pandas/tests/io\n",
      "  \u001b[31m   \u001b[0m copying pandas/tests/io/conftest.py -> build/lib.linux-x86_64-cpython-310/pandas/tests/io\n",
      "  \u001b[31m   \u001b[0m copying pandas/tests/io/generate_legacy_storage_files.py -> build/lib.linux-x86_64-cpython-310/pandas/tests/io\n",
      "  \u001b[31m   \u001b[0m copying pandas/tests/io/test_clipboard.py -> build/lib.linux-x86_64-cpython-310/pandas/tests/io\n",
      "  \u001b[31m   \u001b[0m copying pandas/tests/io/test_common.py -> build/lib.linux-x86_64-cpython-310/pandas/tests/io\n",
      "  \u001b[31m   \u001b[0m copying pandas/tests/io/test_compression.py -> build/lib.linux-x86_64-cpython-310/pandas/tests/io\n",
      "  \u001b[31m   \u001b[0m copying pandas/tests/io/test_date_converters.py -> build/lib.linux-x86_64-cpython-310/pandas/tests/io\n",
      "  \u001b[31m   \u001b[0m copying pandas/tests/io/test_feather.py -> build/lib.linux-x86_64-cpython-310/pandas/tests/io\n",
      "  \u001b[31m   \u001b[0m copying pandas/tests/io/test_fsspec.py -> build/lib.linux-x86_64-cpython-310/pandas/tests/io\n",
      "  \u001b[31m   \u001b[0m copying pandas/tests/io/test_gbq.py -> build/lib.linux-x86_64-cpython-310/pandas/tests/io\n",
      "  \u001b[31m   \u001b[0m copying pandas/tests/io/test_gcs.py -> build/lib.linux-x86_64-cpython-310/pandas/tests/io\n",
      "  \u001b[31m   \u001b[0m copying pandas/tests/io/test_html.py -> build/lib.linux-x86_64-cpython-310/pandas/tests/io\n",
      "  \u001b[31m   \u001b[0m copying pandas/tests/io/test_orc.py -> build/lib.linux-x86_64-cpython-310/pandas/tests/io\n",
      "  \u001b[31m   \u001b[0m copying pandas/tests/io/test_parquet.py -> build/lib.linux-x86_64-cpython-310/pandas/tests/io\n",
      "  \u001b[31m   \u001b[0m copying pandas/tests/io/test_pickle.py -> build/lib.linux-x86_64-cpython-310/pandas/tests/io\n",
      "  \u001b[31m   \u001b[0m copying pandas/tests/io/test_s3.py -> build/lib.linux-x86_64-cpython-310/pandas/tests/io\n",
      "  \u001b[31m   \u001b[0m copying pandas/tests/io/test_spss.py -> build/lib.linux-x86_64-cpython-310/pandas/tests/io\n",
      "  \u001b[31m   \u001b[0m copying pandas/tests/io/test_sql.py -> build/lib.linux-x86_64-cpython-310/pandas/tests/io\n",
      "  \u001b[31m   \u001b[0m copying pandas/tests/io/test_stata.py -> build/lib.linux-x86_64-cpython-310/pandas/tests/io\n",
      "  \u001b[31m   \u001b[0m creating build/lib.linux-x86_64-cpython-310/pandas/tests/plotting\n",
      "  \u001b[31m   \u001b[0m copying pandas/tests/plotting/__init__.py -> build/lib.linux-x86_64-cpython-310/pandas/tests/plotting\n",
      "  \u001b[31m   \u001b[0m copying pandas/tests/plotting/common.py -> build/lib.linux-x86_64-cpython-310/pandas/tests/plotting\n",
      "  \u001b[31m   \u001b[0m copying pandas/tests/plotting/test_backend.py -> build/lib.linux-x86_64-cpython-310/pandas/tests/plotting\n",
      "  \u001b[31m   \u001b[0m copying pandas/tests/plotting/test_boxplot_method.py -> build/lib.linux-x86_64-cpython-310/pandas/tests/plotting\n",
      "  \u001b[31m   \u001b[0m copying pandas/tests/plotting/test_common.py -> build/lib.linux-x86_64-cpython-310/pandas/tests/plotting\n",
      "  \u001b[31m   \u001b[0m copying pandas/tests/plotting/test_converter.py -> build/lib.linux-x86_64-cpython-310/pandas/tests/plotting\n",
      "  \u001b[31m   \u001b[0m copying pandas/tests/plotting/test_datetimelike.py -> build/lib.linux-x86_64-cpython-310/pandas/tests/plotting\n",
      "  \u001b[31m   \u001b[0m copying pandas/tests/plotting/test_frame.py -> build/lib.linux-x86_64-cpython-310/pandas/tests/plotting\n",
      "  \u001b[31m   \u001b[0m copying pandas/tests/plotting/test_groupby.py -> build/lib.linux-x86_64-cpython-310/pandas/tests/plotting\n",
      "  \u001b[31m   \u001b[0m copying pandas/tests/plotting/test_hist_method.py -> build/lib.linux-x86_64-cpython-310/pandas/tests/plotting\n",
      "  \u001b[31m   \u001b[0m copying pandas/tests/plotting/test_misc.py -> build/lib.linux-x86_64-cpython-310/pandas/tests/plotting\n",
      "  \u001b[31m   \u001b[0m copying pandas/tests/plotting/test_series.py -> build/lib.linux-x86_64-cpython-310/pandas/tests/plotting\n",
      "  \u001b[31m   \u001b[0m creating build/lib.linux-x86_64-cpython-310/pandas/tests/reductions\n",
      "  \u001b[31m   \u001b[0m copying pandas/tests/reductions/__init__.py -> build/lib.linux-x86_64-cpython-310/pandas/tests/reductions\n",
      "  \u001b[31m   \u001b[0m copying pandas/tests/reductions/test_reductions.py -> build/lib.linux-x86_64-cpython-310/pandas/tests/reductions\n",
      "  \u001b[31m   \u001b[0m copying pandas/tests/reductions/test_stat_reductions.py -> build/lib.linux-x86_64-cpython-310/pandas/tests/reductions\n",
      "  \u001b[31m   \u001b[0m creating build/lib.linux-x86_64-cpython-310/pandas/tests/resample\n",
      "  \u001b[31m   \u001b[0m copying pandas/tests/resample/__init__.py -> build/lib.linux-x86_64-cpython-310/pandas/tests/resample\n",
      "  \u001b[31m   \u001b[0m copying pandas/tests/resample/conftest.py -> build/lib.linux-x86_64-cpython-310/pandas/tests/resample\n",
      "  \u001b[31m   \u001b[0m copying pandas/tests/resample/test_base.py -> build/lib.linux-x86_64-cpython-310/pandas/tests/resample\n",
      "  \u001b[31m   \u001b[0m copying pandas/tests/resample/test_datetime_index.py -> build/lib.linux-x86_64-cpython-310/pandas/tests/resample\n",
      "  \u001b[31m   \u001b[0m copying pandas/tests/resample/test_deprecated.py -> build/lib.linux-x86_64-cpython-310/pandas/tests/resample\n",
      "  \u001b[31m   \u001b[0m copying pandas/tests/resample/test_period_index.py -> build/lib.linux-x86_64-cpython-310/pandas/tests/resample\n",
      "  \u001b[31m   \u001b[0m copying pandas/tests/resample/test_resample_api.py -> build/lib.linux-x86_64-cpython-310/pandas/tests/resample\n",
      "  \u001b[31m   \u001b[0m copying pandas/tests/resample/test_resampler_grouper.py -> build/lib.linux-x86_64-cpython-310/pandas/tests/resample\n",
      "  \u001b[31m   \u001b[0m copying pandas/tests/resample/test_time_grouper.py -> build/lib.linux-x86_64-cpython-310/pandas/tests/resample\n",
      "  \u001b[31m   \u001b[0m copying pandas/tests/resample/test_timedelta.py -> build/lib.linux-x86_64-cpython-310/pandas/tests/resample\n",
      "  \u001b[31m   \u001b[0m creating build/lib.linux-x86_64-cpython-310/pandas/tests/reshape\n",
      "  \u001b[31m   \u001b[0m copying pandas/tests/reshape/__init__.py -> build/lib.linux-x86_64-cpython-310/pandas/tests/reshape\n",
      "  \u001b[31m   \u001b[0m copying pandas/tests/reshape/test_concat.py -> build/lib.linux-x86_64-cpython-310/pandas/tests/reshape\n",
      "  \u001b[31m   \u001b[0m copying pandas/tests/reshape/test_crosstab.py -> build/lib.linux-x86_64-cpython-310/pandas/tests/reshape\n",
      "  \u001b[31m   \u001b[0m copying pandas/tests/reshape/test_cut.py -> build/lib.linux-x86_64-cpython-310/pandas/tests/reshape\n",
      "  \u001b[31m   \u001b[0m copying pandas/tests/reshape/test_get_dummies.py -> build/lib.linux-x86_64-cpython-310/pandas/tests/reshape\n",
      "  \u001b[31m   \u001b[0m copying pandas/tests/reshape/test_melt.py -> build/lib.linux-x86_64-cpython-310/pandas/tests/reshape\n",
      "  \u001b[31m   \u001b[0m copying pandas/tests/reshape/test_pivot.py -> build/lib.linux-x86_64-cpython-310/pandas/tests/reshape\n",
      "  \u001b[31m   \u001b[0m copying pandas/tests/reshape/test_pivot_multilevel.py -> build/lib.linux-x86_64-cpython-310/pandas/tests/reshape\n",
      "  \u001b[31m   \u001b[0m copying pandas/tests/reshape/test_qcut.py -> build/lib.linux-x86_64-cpython-310/pandas/tests/reshape\n",
      "  \u001b[31m   \u001b[0m copying pandas/tests/reshape/test_union_categoricals.py -> build/lib.linux-x86_64-cpython-310/pandas/tests/reshape\n",
      "  \u001b[31m   \u001b[0m copying pandas/tests/reshape/test_util.py -> build/lib.linux-x86_64-cpython-310/pandas/tests/reshape\n",
      "  \u001b[31m   \u001b[0m creating build/lib.linux-x86_64-cpython-310/pandas/tests/scalar\n",
      "  \u001b[31m   \u001b[0m copying pandas/tests/scalar/__init__.py -> build/lib.linux-x86_64-cpython-310/pandas/tests/scalar\n",
      "  \u001b[31m   \u001b[0m copying pandas/tests/scalar/test_na_scalar.py -> build/lib.linux-x86_64-cpython-310/pandas/tests/scalar\n",
      "  \u001b[31m   \u001b[0m copying pandas/tests/scalar/test_nat.py -> build/lib.linux-x86_64-cpython-310/pandas/tests/scalar\n",
      "  \u001b[31m   \u001b[0m creating build/lib.linux-x86_64-cpython-310/pandas/tests/series\n",
      "  \u001b[31m   \u001b[0m copying pandas/tests/series/__init__.py -> build/lib.linux-x86_64-cpython-310/pandas/tests/series\n",
      "  \u001b[31m   \u001b[0m copying pandas/tests/series/conftest.py -> build/lib.linux-x86_64-cpython-310/pandas/tests/series\n",
      "  \u001b[31m   \u001b[0m copying pandas/tests/series/test_alter_axes.py -> build/lib.linux-x86_64-cpython-310/pandas/tests/series\n",
      "  \u001b[31m   \u001b[0m copying pandas/tests/series/test_analytics.py -> build/lib.linux-x86_64-cpython-310/pandas/tests/series\n",
      "  \u001b[31m   \u001b[0m copying pandas/tests/series/test_api.py -> build/lib.linux-x86_64-cpython-310/pandas/tests/series\n",
      "  \u001b[31m   \u001b[0m copying pandas/tests/series/test_arithmetic.py -> build/lib.linux-x86_64-cpython-310/pandas/tests/series\n",
      "  \u001b[31m   \u001b[0m copying pandas/tests/series/test_block_internals.py -> build/lib.linux-x86_64-cpython-310/pandas/tests/series\n",
      "  \u001b[31m   \u001b[0m copying pandas/tests/series/test_combine_concat.py -> build/lib.linux-x86_64-cpython-310/pandas/tests/series\n",
      "  \u001b[31m   \u001b[0m copying pandas/tests/series/test_constructors.py -> build/lib.linux-x86_64-cpython-310/pandas/tests/series\n",
      "  \u001b[31m   \u001b[0m copying pandas/tests/series/test_cumulative.py -> build/lib.linux-x86_64-cpython-310/pandas/tests/series\n",
      "  \u001b[31m   \u001b[0m copying pandas/tests/series/test_datetime_values.py -> build/lib.linux-x86_64-cpython-310/pandas/tests/series\n",
      "  \u001b[31m   \u001b[0m copying pandas/tests/series/test_dtypes.py -> build/lib.linux-x86_64-cpython-310/pandas/tests/series\n",
      "  \u001b[31m   \u001b[0m copying pandas/tests/series/test_duplicates.py -> build/lib.linux-x86_64-cpython-310/pandas/tests/series\n",
      "  \u001b[31m   \u001b[0m copying pandas/tests/series/test_internals.py -> build/lib.linux-x86_64-cpython-310/pandas/tests/series\n",
      "  \u001b[31m   \u001b[0m copying pandas/tests/series/test_io.py -> build/lib.linux-x86_64-cpython-310/pandas/tests/series\n",
      "  \u001b[31m   \u001b[0m copying pandas/tests/series/test_missing.py -> build/lib.linux-x86_64-cpython-310/pandas/tests/series\n",
      "  \u001b[31m   \u001b[0m copying pandas/tests/series/test_operators.py -> build/lib.linux-x86_64-cpython-310/pandas/tests/series\n",
      "  \u001b[31m   \u001b[0m copying pandas/tests/series/test_period.py -> build/lib.linux-x86_64-cpython-310/pandas/tests/series\n",
      "  \u001b[31m   \u001b[0m copying pandas/tests/series/test_reductions.py -> build/lib.linux-x86_64-cpython-310/pandas/tests/series\n",
      "  \u001b[31m   \u001b[0m copying pandas/tests/series/test_repr.py -> build/lib.linux-x86_64-cpython-310/pandas/tests/series\n",
      "  \u001b[31m   \u001b[0m copying pandas/tests/series/test_subclass.py -> build/lib.linux-x86_64-cpython-310/pandas/tests/series\n",
      "  \u001b[31m   \u001b[0m copying pandas/tests/series/test_timeseries.py -> build/lib.linux-x86_64-cpython-310/pandas/tests/series\n",
      "  \u001b[31m   \u001b[0m copying pandas/tests/series/test_timezones.py -> build/lib.linux-x86_64-cpython-310/pandas/tests/series\n",
      "  \u001b[31m   \u001b[0m copying pandas/tests/series/test_ufunc.py -> build/lib.linux-x86_64-cpython-310/pandas/tests/series\n",
      "  \u001b[31m   \u001b[0m copying pandas/tests/series/test_validate.py -> build/lib.linux-x86_64-cpython-310/pandas/tests/series\n",
      "  \u001b[31m   \u001b[0m creating build/lib.linux-x86_64-cpython-310/pandas/tests/tools\n",
      "  \u001b[31m   \u001b[0m copying pandas/tests/tools/__init__.py -> build/lib.linux-x86_64-cpython-310/pandas/tests/tools\n",
      "  \u001b[31m   \u001b[0m copying pandas/tests/tools/test_to_datetime.py -> build/lib.linux-x86_64-cpython-310/pandas/tests/tools\n",
      "  \u001b[31m   \u001b[0m copying pandas/tests/tools/test_to_numeric.py -> build/lib.linux-x86_64-cpython-310/pandas/tests/tools\n",
      "  \u001b[31m   \u001b[0m copying pandas/tests/tools/test_to_time.py -> build/lib.linux-x86_64-cpython-310/pandas/tests/tools\n",
      "  \u001b[31m   \u001b[0m copying pandas/tests/tools/test_to_timedelta.py -> build/lib.linux-x86_64-cpython-310/pandas/tests/tools\n",
      "  \u001b[31m   \u001b[0m creating build/lib.linux-x86_64-cpython-310/pandas/tests/tseries\n",
      "  \u001b[31m   \u001b[0m copying pandas/tests/tseries/__init__.py -> build/lib.linux-x86_64-cpython-310/pandas/tests/tseries\n",
      "  \u001b[31m   \u001b[0m creating build/lib.linux-x86_64-cpython-310/pandas/tests/tslibs\n",
      "  \u001b[31m   \u001b[0m copying pandas/tests/tslibs/__init__.py -> build/lib.linux-x86_64-cpython-310/pandas/tests/tslibs\n",
      "  \u001b[31m   \u001b[0m copying pandas/tests/tslibs/test_api.py -> build/lib.linux-x86_64-cpython-310/pandas/tests/tslibs\n",
      "  \u001b[31m   \u001b[0m copying pandas/tests/tslibs/test_array_to_datetime.py -> build/lib.linux-x86_64-cpython-310/pandas/tests/tslibs\n",
      "  \u001b[31m   \u001b[0m copying pandas/tests/tslibs/test_ccalendar.py -> build/lib.linux-x86_64-cpython-310/pandas/tests/tslibs\n",
      "  \u001b[31m   \u001b[0m copying pandas/tests/tslibs/test_conversion.py -> build/lib.linux-x86_64-cpython-310/pandas/tests/tslibs\n",
      "  \u001b[31m   \u001b[0m copying pandas/tests/tslibs/test_fields.py -> build/lib.linux-x86_64-cpython-310/pandas/tests/tslibs\n",
      "  \u001b[31m   \u001b[0m copying pandas/tests/tslibs/test_libfrequencies.py -> build/lib.linux-x86_64-cpython-310/pandas/tests/tslibs\n",
      "  \u001b[31m   \u001b[0m copying pandas/tests/tslibs/test_liboffsets.py -> build/lib.linux-x86_64-cpython-310/pandas/tests/tslibs\n",
      "  \u001b[31m   \u001b[0m copying pandas/tests/tslibs/test_parse_iso8601.py -> build/lib.linux-x86_64-cpython-310/pandas/tests/tslibs\n",
      "  \u001b[31m   \u001b[0m copying pandas/tests/tslibs/test_parsing.py -> build/lib.linux-x86_64-cpython-310/pandas/tests/tslibs\n",
      "  \u001b[31m   \u001b[0m copying pandas/tests/tslibs/test_period_asfreq.py -> build/lib.linux-x86_64-cpython-310/pandas/tests/tslibs\n",
      "  \u001b[31m   \u001b[0m copying pandas/tests/tslibs/test_timedeltas.py -> build/lib.linux-x86_64-cpython-310/pandas/tests/tslibs\n",
      "  \u001b[31m   \u001b[0m copying pandas/tests/tslibs/test_timezones.py -> build/lib.linux-x86_64-cpython-310/pandas/tests/tslibs\n",
      "  \u001b[31m   \u001b[0m copying pandas/tests/tslibs/test_to_offset.py -> build/lib.linux-x86_64-cpython-310/pandas/tests/tslibs\n",
      "  \u001b[31m   \u001b[0m creating build/lib.linux-x86_64-cpython-310/pandas/tests/util\n",
      "  \u001b[31m   \u001b[0m copying pandas/tests/util/__init__.py -> build/lib.linux-x86_64-cpython-310/pandas/tests/util\n",
      "  \u001b[31m   \u001b[0m copying pandas/tests/util/conftest.py -> build/lib.linux-x86_64-cpython-310/pandas/tests/util\n",
      "  \u001b[31m   \u001b[0m copying pandas/tests/util/test_assert_almost_equal.py -> build/lib.linux-x86_64-cpython-310/pandas/tests/util\n",
      "  \u001b[31m   \u001b[0m copying pandas/tests/util/test_assert_categorical_equal.py -> build/lib.linux-x86_64-cpython-310/pandas/tests/util\n",
      "  \u001b[31m   \u001b[0m copying pandas/tests/util/test_assert_extension_array_equal.py -> build/lib.linux-x86_64-cpython-310/pandas/tests/util\n",
      "  \u001b[31m   \u001b[0m copying pandas/tests/util/test_assert_frame_equal.py -> build/lib.linux-x86_64-cpython-310/pandas/tests/util\n",
      "  \u001b[31m   \u001b[0m copying pandas/tests/util/test_assert_index_equal.py -> build/lib.linux-x86_64-cpython-310/pandas/tests/util\n",
      "  \u001b[31m   \u001b[0m copying pandas/tests/util/test_assert_interval_array_equal.py -> build/lib.linux-x86_64-cpython-310/pandas/tests/util\n",
      "  \u001b[31m   \u001b[0m copying pandas/tests/util/test_assert_numpy_array_equal.py -> build/lib.linux-x86_64-cpython-310/pandas/tests/util\n",
      "  \u001b[31m   \u001b[0m copying pandas/tests/util/test_assert_produces_warning.py -> build/lib.linux-x86_64-cpython-310/pandas/tests/util\n",
      "  \u001b[31m   \u001b[0m copying pandas/tests/util/test_assert_series_equal.py -> build/lib.linux-x86_64-cpython-310/pandas/tests/util\n",
      "  \u001b[31m   \u001b[0m copying pandas/tests/util/test_deprecate.py -> build/lib.linux-x86_64-cpython-310/pandas/tests/util\n",
      "  \u001b[31m   \u001b[0m copying pandas/tests/util/test_deprecate_kwarg.py -> build/lib.linux-x86_64-cpython-310/pandas/tests/util\n",
      "  \u001b[31m   \u001b[0m copying pandas/tests/util/test_deprecate_nonkeyword_arguments.py -> build/lib.linux-x86_64-cpython-310/pandas/tests/util\n",
      "  \u001b[31m   \u001b[0m copying pandas/tests/util/test_doc.py -> build/lib.linux-x86_64-cpython-310/pandas/tests/util\n",
      "  \u001b[31m   \u001b[0m copying pandas/tests/util/test_hashing.py -> build/lib.linux-x86_64-cpython-310/pandas/tests/util\n",
      "  \u001b[31m   \u001b[0m copying pandas/tests/util/test_numba.py -> build/lib.linux-x86_64-cpython-310/pandas/tests/util\n",
      "  \u001b[31m   \u001b[0m copying pandas/tests/util/test_safe_import.py -> build/lib.linux-x86_64-cpython-310/pandas/tests/util\n",
      "  \u001b[31m   \u001b[0m copying pandas/tests/util/test_show_versions.py -> build/lib.linux-x86_64-cpython-310/pandas/tests/util\n",
      "  \u001b[31m   \u001b[0m copying pandas/tests/util/test_util.py -> build/lib.linux-x86_64-cpython-310/pandas/tests/util\n",
      "  \u001b[31m   \u001b[0m copying pandas/tests/util/test_validate_args.py -> build/lib.linux-x86_64-cpython-310/pandas/tests/util\n",
      "  \u001b[31m   \u001b[0m copying pandas/tests/util/test_validate_args_and_kwargs.py -> build/lib.linux-x86_64-cpython-310/pandas/tests/util\n",
      "  \u001b[31m   \u001b[0m copying pandas/tests/util/test_validate_kwargs.py -> build/lib.linux-x86_64-cpython-310/pandas/tests/util\n",
      "  \u001b[31m   \u001b[0m creating build/lib.linux-x86_64-cpython-310/pandas/tests/window\n",
      "  \u001b[31m   \u001b[0m copying pandas/tests/window/__init__.py -> build/lib.linux-x86_64-cpython-310/pandas/tests/window\n",
      "  \u001b[31m   \u001b[0m copying pandas/tests/window/common.py -> build/lib.linux-x86_64-cpython-310/pandas/tests/window\n",
      "  \u001b[31m   \u001b[0m copying pandas/tests/window/conftest.py -> build/lib.linux-x86_64-cpython-310/pandas/tests/window\n",
      "  \u001b[31m   \u001b[0m copying pandas/tests/window/test_api.py -> build/lib.linux-x86_64-cpython-310/pandas/tests/window\n",
      "  \u001b[31m   \u001b[0m copying pandas/tests/window/test_apply.py -> build/lib.linux-x86_64-cpython-310/pandas/tests/window\n",
      "  \u001b[31m   \u001b[0m copying pandas/tests/window/test_base_indexer.py -> build/lib.linux-x86_64-cpython-310/pandas/tests/window\n",
      "  \u001b[31m   \u001b[0m copying pandas/tests/window/test_dtypes.py -> build/lib.linux-x86_64-cpython-310/pandas/tests/window\n",
      "  \u001b[31m   \u001b[0m copying pandas/tests/window/test_ewm.py -> build/lib.linux-x86_64-cpython-310/pandas/tests/window\n",
      "  \u001b[31m   \u001b[0m copying pandas/tests/window/test_expanding.py -> build/lib.linux-x86_64-cpython-310/pandas/tests/window\n",
      "  \u001b[31m   \u001b[0m copying pandas/tests/window/test_grouper.py -> build/lib.linux-x86_64-cpython-310/pandas/tests/window\n",
      "  \u001b[31m   \u001b[0m copying pandas/tests/window/test_numba.py -> build/lib.linux-x86_64-cpython-310/pandas/tests/window\n",
      "  \u001b[31m   \u001b[0m copying pandas/tests/window/test_pairwise.py -> build/lib.linux-x86_64-cpython-310/pandas/tests/window\n",
      "  \u001b[31m   \u001b[0m copying pandas/tests/window/test_rolling.py -> build/lib.linux-x86_64-cpython-310/pandas/tests/window\n",
      "  \u001b[31m   \u001b[0m copying pandas/tests/window/test_timeseries_window.py -> build/lib.linux-x86_64-cpython-310/pandas/tests/window\n",
      "  \u001b[31m   \u001b[0m copying pandas/tests/window/test_window.py -> build/lib.linux-x86_64-cpython-310/pandas/tests/window\n",
      "  \u001b[31m   \u001b[0m creating build/lib.linux-x86_64-cpython-310/pandas/tests/arrays/boolean\n",
      "  \u001b[31m   \u001b[0m copying pandas/tests/arrays/boolean/__init__.py -> build/lib.linux-x86_64-cpython-310/pandas/tests/arrays/boolean\n",
      "  \u001b[31m   \u001b[0m copying pandas/tests/arrays/boolean/test_arithmetic.py -> build/lib.linux-x86_64-cpython-310/pandas/tests/arrays/boolean\n",
      "  \u001b[31m   \u001b[0m copying pandas/tests/arrays/boolean/test_astype.py -> build/lib.linux-x86_64-cpython-310/pandas/tests/arrays/boolean\n",
      "  \u001b[31m   \u001b[0m copying pandas/tests/arrays/boolean/test_comparison.py -> build/lib.linux-x86_64-cpython-310/pandas/tests/arrays/boolean\n",
      "  \u001b[31m   \u001b[0m copying pandas/tests/arrays/boolean/test_construction.py -> build/lib.linux-x86_64-cpython-310/pandas/tests/arrays/boolean\n",
      "  \u001b[31m   \u001b[0m copying pandas/tests/arrays/boolean/test_function.py -> build/lib.linux-x86_64-cpython-310/pandas/tests/arrays/boolean\n",
      "  \u001b[31m   \u001b[0m copying pandas/tests/arrays/boolean/test_indexing.py -> build/lib.linux-x86_64-cpython-310/pandas/tests/arrays/boolean\n",
      "  \u001b[31m   \u001b[0m copying pandas/tests/arrays/boolean/test_logical.py -> build/lib.linux-x86_64-cpython-310/pandas/tests/arrays/boolean\n",
      "  \u001b[31m   \u001b[0m copying pandas/tests/arrays/boolean/test_ops.py -> build/lib.linux-x86_64-cpython-310/pandas/tests/arrays/boolean\n",
      "  \u001b[31m   \u001b[0m copying pandas/tests/arrays/boolean/test_reduction.py -> build/lib.linux-x86_64-cpython-310/pandas/tests/arrays/boolean\n",
      "  \u001b[31m   \u001b[0m copying pandas/tests/arrays/boolean/test_repr.py -> build/lib.linux-x86_64-cpython-310/pandas/tests/arrays/boolean\n",
      "  \u001b[31m   \u001b[0m creating build/lib.linux-x86_64-cpython-310/pandas/tests/arrays/categorical\n",
      "  \u001b[31m   \u001b[0m copying pandas/tests/arrays/categorical/__init__.py -> build/lib.linux-x86_64-cpython-310/pandas/tests/arrays/categorical\n",
      "  \u001b[31m   \u001b[0m copying pandas/tests/arrays/categorical/common.py -> build/lib.linux-x86_64-cpython-310/pandas/tests/arrays/categorical\n",
      "  \u001b[31m   \u001b[0m copying pandas/tests/arrays/categorical/conftest.py -> build/lib.linux-x86_64-cpython-310/pandas/tests/arrays/categorical\n",
      "  \u001b[31m   \u001b[0m copying pandas/tests/arrays/categorical/test_algos.py -> build/lib.linux-x86_64-cpython-310/pandas/tests/arrays/categorical\n",
      "  \u001b[31m   \u001b[0m copying pandas/tests/arrays/categorical/test_analytics.py -> build/lib.linux-x86_64-cpython-310/pandas/tests/arrays/categorical\n",
      "  \u001b[31m   \u001b[0m copying pandas/tests/arrays/categorical/test_api.py -> build/lib.linux-x86_64-cpython-310/pandas/tests/arrays/categorical\n",
      "  \u001b[31m   \u001b[0m copying pandas/tests/arrays/categorical/test_constructors.py -> build/lib.linux-x86_64-cpython-310/pandas/tests/arrays/categorical\n",
      "  \u001b[31m   \u001b[0m copying pandas/tests/arrays/categorical/test_dtypes.py -> build/lib.linux-x86_64-cpython-310/pandas/tests/arrays/categorical\n",
      "  \u001b[31m   \u001b[0m copying pandas/tests/arrays/categorical/test_indexing.py -> build/lib.linux-x86_64-cpython-310/pandas/tests/arrays/categorical\n",
      "  \u001b[31m   \u001b[0m copying pandas/tests/arrays/categorical/test_missing.py -> build/lib.linux-x86_64-cpython-310/pandas/tests/arrays/categorical\n",
      "  \u001b[31m   \u001b[0m copying pandas/tests/arrays/categorical/test_operators.py -> build/lib.linux-x86_64-cpython-310/pandas/tests/arrays/categorical\n",
      "  \u001b[31m   \u001b[0m copying pandas/tests/arrays/categorical/test_replace.py -> build/lib.linux-x86_64-cpython-310/pandas/tests/arrays/categorical\n",
      "  \u001b[31m   \u001b[0m copying pandas/tests/arrays/categorical/test_repr.py -> build/lib.linux-x86_64-cpython-310/pandas/tests/arrays/categorical\n",
      "  \u001b[31m   \u001b[0m copying pandas/tests/arrays/categorical/test_sorting.py -> build/lib.linux-x86_64-cpython-310/pandas/tests/arrays/categorical\n",
      "  \u001b[31m   \u001b[0m copying pandas/tests/arrays/categorical/test_subclass.py -> build/lib.linux-x86_64-cpython-310/pandas/tests/arrays/categorical\n",
      "  \u001b[31m   \u001b[0m copying pandas/tests/arrays/categorical/test_warnings.py -> build/lib.linux-x86_64-cpython-310/pandas/tests/arrays/categorical\n",
      "  \u001b[31m   \u001b[0m creating build/lib.linux-x86_64-cpython-310/pandas/tests/arrays/integer\n",
      "  \u001b[31m   \u001b[0m copying pandas/tests/arrays/integer/__init__.py -> build/lib.linux-x86_64-cpython-310/pandas/tests/arrays/integer\n",
      "  \u001b[31m   \u001b[0m copying pandas/tests/arrays/integer/conftest.py -> build/lib.linux-x86_64-cpython-310/pandas/tests/arrays/integer\n",
      "  \u001b[31m   \u001b[0m copying pandas/tests/arrays/integer/test_arithmetic.py -> build/lib.linux-x86_64-cpython-310/pandas/tests/arrays/integer\n",
      "  \u001b[31m   \u001b[0m copying pandas/tests/arrays/integer/test_comparison.py -> build/lib.linux-x86_64-cpython-310/pandas/tests/arrays/integer\n",
      "  \u001b[31m   \u001b[0m copying pandas/tests/arrays/integer/test_concat.py -> build/lib.linux-x86_64-cpython-310/pandas/tests/arrays/integer\n",
      "  \u001b[31m   \u001b[0m copying pandas/tests/arrays/integer/test_construction.py -> build/lib.linux-x86_64-cpython-310/pandas/tests/arrays/integer\n",
      "  \u001b[31m   \u001b[0m copying pandas/tests/arrays/integer/test_dtypes.py -> build/lib.linux-x86_64-cpython-310/pandas/tests/arrays/integer\n",
      "  \u001b[31m   \u001b[0m copying pandas/tests/arrays/integer/test_function.py -> build/lib.linux-x86_64-cpython-310/pandas/tests/arrays/integer\n",
      "  \u001b[31m   \u001b[0m copying pandas/tests/arrays/integer/test_indexing.py -> build/lib.linux-x86_64-cpython-310/pandas/tests/arrays/integer\n",
      "  \u001b[31m   \u001b[0m copying pandas/tests/arrays/integer/test_repr.py -> build/lib.linux-x86_64-cpython-310/pandas/tests/arrays/integer\n",
      "  \u001b[31m   \u001b[0m creating build/lib.linux-x86_64-cpython-310/pandas/tests/arrays/interval\n",
      "  \u001b[31m   \u001b[0m copying pandas/tests/arrays/interval/__init__.py -> build/lib.linux-x86_64-cpython-310/pandas/tests/arrays/interval\n",
      "  \u001b[31m   \u001b[0m copying pandas/tests/arrays/interval/test_interval.py -> build/lib.linux-x86_64-cpython-310/pandas/tests/arrays/interval\n",
      "  \u001b[31m   \u001b[0m copying pandas/tests/arrays/interval/test_ops.py -> build/lib.linux-x86_64-cpython-310/pandas/tests/arrays/interval\n",
      "  \u001b[31m   \u001b[0m creating build/lib.linux-x86_64-cpython-310/pandas/tests/arrays/masked\n",
      "  \u001b[31m   \u001b[0m copying pandas/tests/arrays/masked/__init__.py -> build/lib.linux-x86_64-cpython-310/pandas/tests/arrays/masked\n",
      "  \u001b[31m   \u001b[0m copying pandas/tests/arrays/masked/test_arithmetic.py -> build/lib.linux-x86_64-cpython-310/pandas/tests/arrays/masked\n",
      "  \u001b[31m   \u001b[0m copying pandas/tests/arrays/masked/test_arrow_compat.py -> build/lib.linux-x86_64-cpython-310/pandas/tests/arrays/masked\n",
      "  \u001b[31m   \u001b[0m creating build/lib.linux-x86_64-cpython-310/pandas/tests/arrays/sparse\n",
      "  \u001b[31m   \u001b[0m copying pandas/tests/arrays/sparse/__init__.py -> build/lib.linux-x86_64-cpython-310/pandas/tests/arrays/sparse\n",
      "  \u001b[31m   \u001b[0m copying pandas/tests/arrays/sparse/test_accessor.py -> build/lib.linux-x86_64-cpython-310/pandas/tests/arrays/sparse\n",
      "  \u001b[31m   \u001b[0m copying pandas/tests/arrays/sparse/test_arithmetics.py -> build/lib.linux-x86_64-cpython-310/pandas/tests/arrays/sparse\n",
      "  \u001b[31m   \u001b[0m copying pandas/tests/arrays/sparse/test_array.py -> build/lib.linux-x86_64-cpython-310/pandas/tests/arrays/sparse\n",
      "  \u001b[31m   \u001b[0m copying pandas/tests/arrays/sparse/test_combine_concat.py -> build/lib.linux-x86_64-cpython-310/pandas/tests/arrays/sparse\n",
      "  \u001b[31m   \u001b[0m copying pandas/tests/arrays/sparse/test_dtype.py -> build/lib.linux-x86_64-cpython-310/pandas/tests/arrays/sparse\n",
      "  \u001b[31m   \u001b[0m copying pandas/tests/arrays/sparse/test_libsparse.py -> build/lib.linux-x86_64-cpython-310/pandas/tests/arrays/sparse\n",
      "  \u001b[31m   \u001b[0m creating build/lib.linux-x86_64-cpython-310/pandas/tests/arrays/string_\n",
      "  \u001b[31m   \u001b[0m copying pandas/tests/arrays/string_/__init__.py -> build/lib.linux-x86_64-cpython-310/pandas/tests/arrays/string_\n",
      "  \u001b[31m   \u001b[0m copying pandas/tests/arrays/string_/test_string.py -> build/lib.linux-x86_64-cpython-310/pandas/tests/arrays/string_\n",
      "  \u001b[31m   \u001b[0m creating build/lib.linux-x86_64-cpython-310/pandas/tests/dtypes/cast\n",
      "  \u001b[31m   \u001b[0m copying pandas/tests/dtypes/cast/__init__.py -> build/lib.linux-x86_64-cpython-310/pandas/tests/dtypes/cast\n",
      "  \u001b[31m   \u001b[0m copying pandas/tests/dtypes/cast/test_construct_from_scalar.py -> build/lib.linux-x86_64-cpython-310/pandas/tests/dtypes/cast\n",
      "  \u001b[31m   \u001b[0m copying pandas/tests/dtypes/cast/test_construct_ndarray.py -> build/lib.linux-x86_64-cpython-310/pandas/tests/dtypes/cast\n",
      "  \u001b[31m   \u001b[0m copying pandas/tests/dtypes/cast/test_construct_object_arr.py -> build/lib.linux-x86_64-cpython-310/pandas/tests/dtypes/cast\n",
      "  \u001b[31m   \u001b[0m copying pandas/tests/dtypes/cast/test_convert_objects.py -> build/lib.linux-x86_64-cpython-310/pandas/tests/dtypes/cast\n",
      "  \u001b[31m   \u001b[0m copying pandas/tests/dtypes/cast/test_downcast.py -> build/lib.linux-x86_64-cpython-310/pandas/tests/dtypes/cast\n",
      "  \u001b[31m   \u001b[0m copying pandas/tests/dtypes/cast/test_find_common_type.py -> build/lib.linux-x86_64-cpython-310/pandas/tests/dtypes/cast\n",
      "  \u001b[31m   \u001b[0m copying pandas/tests/dtypes/cast/test_infer_datetimelike.py -> build/lib.linux-x86_64-cpython-310/pandas/tests/dtypes/cast\n",
      "  \u001b[31m   \u001b[0m copying pandas/tests/dtypes/cast/test_infer_dtype.py -> build/lib.linux-x86_64-cpython-310/pandas/tests/dtypes/cast\n",
      "  \u001b[31m   \u001b[0m copying pandas/tests/dtypes/cast/test_promote.py -> build/lib.linux-x86_64-cpython-310/pandas/tests/dtypes/cast\n",
      "  \u001b[31m   \u001b[0m copying pandas/tests/dtypes/cast/test_upcast.py -> build/lib.linux-x86_64-cpython-310/pandas/tests/dtypes/cast\n",
      "  \u001b[31m   \u001b[0m creating build/lib.linux-x86_64-cpython-310/pandas/tests/extension/arrow\n",
      "  \u001b[31m   \u001b[0m copying pandas/tests/extension/arrow/__init__.py -> build/lib.linux-x86_64-cpython-310/pandas/tests/extension/arrow\n",
      "  \u001b[31m   \u001b[0m copying pandas/tests/extension/arrow/arrays.py -> build/lib.linux-x86_64-cpython-310/pandas/tests/extension/arrow\n",
      "  \u001b[31m   \u001b[0m copying pandas/tests/extension/arrow/test_bool.py -> build/lib.linux-x86_64-cpython-310/pandas/tests/extension/arrow\n",
      "  \u001b[31m   \u001b[0m copying pandas/tests/extension/arrow/test_string.py -> build/lib.linux-x86_64-cpython-310/pandas/tests/extension/arrow\n",
      "  \u001b[31m   \u001b[0m creating build/lib.linux-x86_64-cpython-310/pandas/tests/extension/base\n",
      "  \u001b[31m   \u001b[0m copying pandas/tests/extension/base/__init__.py -> build/lib.linux-x86_64-cpython-310/pandas/tests/extension/base\n",
      "  \u001b[31m   \u001b[0m copying pandas/tests/extension/base/base.py -> build/lib.linux-x86_64-cpython-310/pandas/tests/extension/base\n",
      "  \u001b[31m   \u001b[0m copying pandas/tests/extension/base/casting.py -> build/lib.linux-x86_64-cpython-310/pandas/tests/extension/base\n",
      "  \u001b[31m   \u001b[0m copying pandas/tests/extension/base/constructors.py -> build/lib.linux-x86_64-cpython-310/pandas/tests/extension/base\n",
      "  \u001b[31m   \u001b[0m copying pandas/tests/extension/base/dtype.py -> build/lib.linux-x86_64-cpython-310/pandas/tests/extension/base\n",
      "  \u001b[31m   \u001b[0m copying pandas/tests/extension/base/getitem.py -> build/lib.linux-x86_64-cpython-310/pandas/tests/extension/base\n",
      "  \u001b[31m   \u001b[0m copying pandas/tests/extension/base/groupby.py -> build/lib.linux-x86_64-cpython-310/pandas/tests/extension/base\n",
      "  \u001b[31m   \u001b[0m copying pandas/tests/extension/base/interface.py -> build/lib.linux-x86_64-cpython-310/pandas/tests/extension/base\n",
      "  \u001b[31m   \u001b[0m copying pandas/tests/extension/base/io.py -> build/lib.linux-x86_64-cpython-310/pandas/tests/extension/base\n",
      "  \u001b[31m   \u001b[0m copying pandas/tests/extension/base/methods.py -> build/lib.linux-x86_64-cpython-310/pandas/tests/extension/base\n",
      "  \u001b[31m   \u001b[0m copying pandas/tests/extension/base/missing.py -> build/lib.linux-x86_64-cpython-310/pandas/tests/extension/base\n",
      "  \u001b[31m   \u001b[0m copying pandas/tests/extension/base/ops.py -> build/lib.linux-x86_64-cpython-310/pandas/tests/extension/base\n",
      "  \u001b[31m   \u001b[0m copying pandas/tests/extension/base/printing.py -> build/lib.linux-x86_64-cpython-310/pandas/tests/extension/base\n",
      "  \u001b[31m   \u001b[0m copying pandas/tests/extension/base/reduce.py -> build/lib.linux-x86_64-cpython-310/pandas/tests/extension/base\n",
      "  \u001b[31m   \u001b[0m copying pandas/tests/extension/base/reshaping.py -> build/lib.linux-x86_64-cpython-310/pandas/tests/extension/base\n",
      "  \u001b[31m   \u001b[0m copying pandas/tests/extension/base/setitem.py -> build/lib.linux-x86_64-cpython-310/pandas/tests/extension/base\n",
      "  \u001b[31m   \u001b[0m creating build/lib.linux-x86_64-cpython-310/pandas/tests/extension/decimal\n",
      "  \u001b[31m   \u001b[0m copying pandas/tests/extension/decimal/__init__.py -> build/lib.linux-x86_64-cpython-310/pandas/tests/extension/decimal\n",
      "  \u001b[31m   \u001b[0m copying pandas/tests/extension/decimal/array.py -> build/lib.linux-x86_64-cpython-310/pandas/tests/extension/decimal\n",
      "  \u001b[31m   \u001b[0m copying pandas/tests/extension/decimal/test_decimal.py -> build/lib.linux-x86_64-cpython-310/pandas/tests/extension/decimal\n",
      "  \u001b[31m   \u001b[0m creating build/lib.linux-x86_64-cpython-310/pandas/tests/extension/json\n",
      "  \u001b[31m   \u001b[0m copying pandas/tests/extension/json/__init__.py -> build/lib.linux-x86_64-cpython-310/pandas/tests/extension/json\n",
      "  \u001b[31m   \u001b[0m copying pandas/tests/extension/json/array.py -> build/lib.linux-x86_64-cpython-310/pandas/tests/extension/json\n",
      "  \u001b[31m   \u001b[0m copying pandas/tests/extension/json/test_json.py -> build/lib.linux-x86_64-cpython-310/pandas/tests/extension/json\n",
      "  \u001b[31m   \u001b[0m creating build/lib.linux-x86_64-cpython-310/pandas/tests/extension/list\n",
      "  \u001b[31m   \u001b[0m copying pandas/tests/extension/list/__init__.py -> build/lib.linux-x86_64-cpython-310/pandas/tests/extension/list\n",
      "  \u001b[31m   \u001b[0m copying pandas/tests/extension/list/array.py -> build/lib.linux-x86_64-cpython-310/pandas/tests/extension/list\n",
      "  \u001b[31m   \u001b[0m copying pandas/tests/extension/list/test_list.py -> build/lib.linux-x86_64-cpython-310/pandas/tests/extension/list\n",
      "  \u001b[31m   \u001b[0m creating build/lib.linux-x86_64-cpython-310/pandas/tests/frame/apply\n",
      "  \u001b[31m   \u001b[0m copying pandas/tests/frame/apply/__init__.py -> build/lib.linux-x86_64-cpython-310/pandas/tests/frame/apply\n",
      "  \u001b[31m   \u001b[0m copying pandas/tests/frame/apply/test_apply_relabeling.py -> build/lib.linux-x86_64-cpython-310/pandas/tests/frame/apply\n",
      "  \u001b[31m   \u001b[0m copying pandas/tests/frame/apply/test_frame_apply.py -> build/lib.linux-x86_64-cpython-310/pandas/tests/frame/apply\n",
      "  \u001b[31m   \u001b[0m creating build/lib.linux-x86_64-cpython-310/pandas/tests/frame/methods\n",
      "  \u001b[31m   \u001b[0m copying pandas/tests/frame/methods/__init__.py -> build/lib.linux-x86_64-cpython-310/pandas/tests/frame/methods\n",
      "  \u001b[31m   \u001b[0m copying pandas/tests/frame/methods/test_align.py -> build/lib.linux-x86_64-cpython-310/pandas/tests/frame/methods\n",
      "  \u001b[31m   \u001b[0m copying pandas/tests/frame/methods/test_append.py -> build/lib.linux-x86_64-cpython-310/pandas/tests/frame/methods\n",
      "  \u001b[31m   \u001b[0m copying pandas/tests/frame/methods/test_asfreq.py -> build/lib.linux-x86_64-cpython-310/pandas/tests/frame/methods\n",
      "  \u001b[31m   \u001b[0m copying pandas/tests/frame/methods/test_asof.py -> build/lib.linux-x86_64-cpython-310/pandas/tests/frame/methods\n",
      "  \u001b[31m   \u001b[0m copying pandas/tests/frame/methods/test_assign.py -> build/lib.linux-x86_64-cpython-310/pandas/tests/frame/methods\n",
      "  \u001b[31m   \u001b[0m copying pandas/tests/frame/methods/test_astype.py -> build/lib.linux-x86_64-cpython-310/pandas/tests/frame/methods\n",
      "  \u001b[31m   \u001b[0m copying pandas/tests/frame/methods/test_at_time.py -> build/lib.linux-x86_64-cpython-310/pandas/tests/frame/methods\n",
      "  \u001b[31m   \u001b[0m copying pandas/tests/frame/methods/test_between_time.py -> build/lib.linux-x86_64-cpython-310/pandas/tests/frame/methods\n",
      "  \u001b[31m   \u001b[0m copying pandas/tests/frame/methods/test_clip.py -> build/lib.linux-x86_64-cpython-310/pandas/tests/frame/methods\n",
      "  \u001b[31m   \u001b[0m copying pandas/tests/frame/methods/test_combine.py -> build/lib.linux-x86_64-cpython-310/pandas/tests/frame/methods\n",
      "  \u001b[31m   \u001b[0m copying pandas/tests/frame/methods/test_combine_first.py -> build/lib.linux-x86_64-cpython-310/pandas/tests/frame/methods\n",
      "  \u001b[31m   \u001b[0m copying pandas/tests/frame/methods/test_compare.py -> build/lib.linux-x86_64-cpython-310/pandas/tests/frame/methods\n",
      "  \u001b[31m   \u001b[0m copying pandas/tests/frame/methods/test_count.py -> build/lib.linux-x86_64-cpython-310/pandas/tests/frame/methods\n",
      "  \u001b[31m   \u001b[0m copying pandas/tests/frame/methods/test_cov_corr.py -> build/lib.linux-x86_64-cpython-310/pandas/tests/frame/methods\n",
      "  \u001b[31m   \u001b[0m copying pandas/tests/frame/methods/test_describe.py -> build/lib.linux-x86_64-cpython-310/pandas/tests/frame/methods\n",
      "  \u001b[31m   \u001b[0m copying pandas/tests/frame/methods/test_diff.py -> build/lib.linux-x86_64-cpython-310/pandas/tests/frame/methods\n",
      "  \u001b[31m   \u001b[0m copying pandas/tests/frame/methods/test_drop.py -> build/lib.linux-x86_64-cpython-310/pandas/tests/frame/methods\n",
      "  \u001b[31m   \u001b[0m copying pandas/tests/frame/methods/test_drop_duplicates.py -> build/lib.linux-x86_64-cpython-310/pandas/tests/frame/methods\n",
      "  \u001b[31m   \u001b[0m copying pandas/tests/frame/methods/test_droplevel.py -> build/lib.linux-x86_64-cpython-310/pandas/tests/frame/methods\n",
      "  \u001b[31m   \u001b[0m copying pandas/tests/frame/methods/test_duplicated.py -> build/lib.linux-x86_64-cpython-310/pandas/tests/frame/methods\n",
      "  \u001b[31m   \u001b[0m copying pandas/tests/frame/methods/test_explode.py -> build/lib.linux-x86_64-cpython-310/pandas/tests/frame/methods\n",
      "  \u001b[31m   \u001b[0m copying pandas/tests/frame/methods/test_filter.py -> build/lib.linux-x86_64-cpython-310/pandas/tests/frame/methods\n",
      "  \u001b[31m   \u001b[0m copying pandas/tests/frame/methods/test_first_and_last.py -> build/lib.linux-x86_64-cpython-310/pandas/tests/frame/methods\n",
      "  \u001b[31m   \u001b[0m copying pandas/tests/frame/methods/test_head_tail.py -> build/lib.linux-x86_64-cpython-310/pandas/tests/frame/methods\n",
      "  \u001b[31m   \u001b[0m copying pandas/tests/frame/methods/test_interpolate.py -> build/lib.linux-x86_64-cpython-310/pandas/tests/frame/methods\n",
      "  \u001b[31m   \u001b[0m copying pandas/tests/frame/methods/test_isin.py -> build/lib.linux-x86_64-cpython-310/pandas/tests/frame/methods\n",
      "  \u001b[31m   \u001b[0m copying pandas/tests/frame/methods/test_nlargest.py -> build/lib.linux-x86_64-cpython-310/pandas/tests/frame/methods\n",
      "  \u001b[31m   \u001b[0m copying pandas/tests/frame/methods/test_pct_change.py -> build/lib.linux-x86_64-cpython-310/pandas/tests/frame/methods\n",
      "  \u001b[31m   \u001b[0m copying pandas/tests/frame/methods/test_pop.py -> build/lib.linux-x86_64-cpython-310/pandas/tests/frame/methods\n",
      "  \u001b[31m   \u001b[0m copying pandas/tests/frame/methods/test_quantile.py -> build/lib.linux-x86_64-cpython-310/pandas/tests/frame/methods\n",
      "  \u001b[31m   \u001b[0m copying pandas/tests/frame/methods/test_rank.py -> build/lib.linux-x86_64-cpython-310/pandas/tests/frame/methods\n",
      "  \u001b[31m   \u001b[0m copying pandas/tests/frame/methods/test_reindex_like.py -> build/lib.linux-x86_64-cpython-310/pandas/tests/frame/methods\n",
      "  \u001b[31m   \u001b[0m copying pandas/tests/frame/methods/test_rename.py -> build/lib.linux-x86_64-cpython-310/pandas/tests/frame/methods\n",
      "  \u001b[31m   \u001b[0m copying pandas/tests/frame/methods/test_rename_axis.py -> build/lib.linux-x86_64-cpython-310/pandas/tests/frame/methods\n",
      "  \u001b[31m   \u001b[0m copying pandas/tests/frame/methods/test_replace.py -> build/lib.linux-x86_64-cpython-310/pandas/tests/frame/methods\n",
      "  \u001b[31m   \u001b[0m copying pandas/tests/frame/methods/test_reset_index.py -> build/lib.linux-x86_64-cpython-310/pandas/tests/frame/methods\n",
      "  \u001b[31m   \u001b[0m copying pandas/tests/frame/methods/test_round.py -> build/lib.linux-x86_64-cpython-310/pandas/tests/frame/methods\n",
      "  \u001b[31m   \u001b[0m copying pandas/tests/frame/methods/test_select_dtypes.py -> build/lib.linux-x86_64-cpython-310/pandas/tests/frame/methods\n",
      "  \u001b[31m   \u001b[0m copying pandas/tests/frame/methods/test_set_index.py -> build/lib.linux-x86_64-cpython-310/pandas/tests/frame/methods\n",
      "  \u001b[31m   \u001b[0m copying pandas/tests/frame/methods/test_shift.py -> build/lib.linux-x86_64-cpython-310/pandas/tests/frame/methods\n",
      "  \u001b[31m   \u001b[0m copying pandas/tests/frame/methods/test_sort_index.py -> build/lib.linux-x86_64-cpython-310/pandas/tests/frame/methods\n",
      "  \u001b[31m   \u001b[0m copying pandas/tests/frame/methods/test_sort_values.py -> build/lib.linux-x86_64-cpython-310/pandas/tests/frame/methods\n",
      "  \u001b[31m   \u001b[0m copying pandas/tests/frame/methods/test_to_dict.py -> build/lib.linux-x86_64-cpython-310/pandas/tests/frame/methods\n",
      "  \u001b[31m   \u001b[0m copying pandas/tests/frame/methods/test_to_period.py -> build/lib.linux-x86_64-cpython-310/pandas/tests/frame/methods\n",
      "  \u001b[31m   \u001b[0m copying pandas/tests/frame/methods/test_to_records.py -> build/lib.linux-x86_64-cpython-310/pandas/tests/frame/methods\n",
      "  \u001b[31m   \u001b[0m copying pandas/tests/frame/methods/test_to_timestamp.py -> build/lib.linux-x86_64-cpython-310/pandas/tests/frame/methods\n",
      "  \u001b[31m   \u001b[0m copying pandas/tests/frame/methods/test_transpose.py -> build/lib.linux-x86_64-cpython-310/pandas/tests/frame/methods\n",
      "  \u001b[31m   \u001b[0m copying pandas/tests/frame/methods/test_truncate.py -> build/lib.linux-x86_64-cpython-310/pandas/tests/frame/methods\n",
      "  \u001b[31m   \u001b[0m copying pandas/tests/frame/methods/test_tz_convert.py -> build/lib.linux-x86_64-cpython-310/pandas/tests/frame/methods\n",
      "  \u001b[31m   \u001b[0m copying pandas/tests/frame/methods/test_tz_localize.py -> build/lib.linux-x86_64-cpython-310/pandas/tests/frame/methods\n",
      "  \u001b[31m   \u001b[0m copying pandas/tests/frame/methods/test_update.py -> build/lib.linux-x86_64-cpython-310/pandas/tests/frame/methods\n",
      "  \u001b[31m   \u001b[0m copying pandas/tests/frame/methods/test_value_counts.py -> build/lib.linux-x86_64-cpython-310/pandas/tests/frame/methods\n",
      "  \u001b[31m   \u001b[0m creating build/lib.linux-x86_64-cpython-310/pandas/tests/generic/methods\n",
      "  \u001b[31m   \u001b[0m copying pandas/tests/generic/methods/__init__.py -> build/lib.linux-x86_64-cpython-310/pandas/tests/generic/methods\n",
      "  \u001b[31m   \u001b[0m copying pandas/tests/generic/methods/test_dot.py -> build/lib.linux-x86_64-cpython-310/pandas/tests/generic/methods\n",
      "  \u001b[31m   \u001b[0m copying pandas/tests/generic/methods/test_first_valid_index.py -> build/lib.linux-x86_64-cpython-310/pandas/tests/generic/methods\n",
      "  \u001b[31m   \u001b[0m copying pandas/tests/generic/methods/test_reorder_levels.py -> build/lib.linux-x86_64-cpython-310/pandas/tests/generic/methods\n",
      "  \u001b[31m   \u001b[0m copying pandas/tests/generic/methods/test_set_axis.py -> build/lib.linux-x86_64-cpython-310/pandas/tests/generic/methods\n",
      "  \u001b[31m   \u001b[0m creating build/lib.linux-x86_64-cpython-310/pandas/tests/groupby/aggregate\n",
      "  \u001b[31m   \u001b[0m copying pandas/tests/groupby/aggregate/__init__.py -> build/lib.linux-x86_64-cpython-310/pandas/tests/groupby/aggregate\n",
      "  \u001b[31m   \u001b[0m copying pandas/tests/groupby/aggregate/test_aggregate.py -> build/lib.linux-x86_64-cpython-310/pandas/tests/groupby/aggregate\n",
      "  \u001b[31m   \u001b[0m copying pandas/tests/groupby/aggregate/test_cython.py -> build/lib.linux-x86_64-cpython-310/pandas/tests/groupby/aggregate\n",
      "  \u001b[31m   \u001b[0m copying pandas/tests/groupby/aggregate/test_numba.py -> build/lib.linux-x86_64-cpython-310/pandas/tests/groupby/aggregate\n",
      "  \u001b[31m   \u001b[0m copying pandas/tests/groupby/aggregate/test_other.py -> build/lib.linux-x86_64-cpython-310/pandas/tests/groupby/aggregate\n",
      "  \u001b[31m   \u001b[0m creating build/lib.linux-x86_64-cpython-310/pandas/tests/groupby/transform\n",
      "  \u001b[31m   \u001b[0m copying pandas/tests/groupby/transform/__init__.py -> build/lib.linux-x86_64-cpython-310/pandas/tests/groupby/transform\n",
      "  \u001b[31m   \u001b[0m copying pandas/tests/groupby/transform/test_numba.py -> build/lib.linux-x86_64-cpython-310/pandas/tests/groupby/transform\n",
      "  \u001b[31m   \u001b[0m copying pandas/tests/groupby/transform/test_transform.py -> build/lib.linux-x86_64-cpython-310/pandas/tests/groupby/transform\n",
      "  \u001b[31m   \u001b[0m creating build/lib.linux-x86_64-cpython-310/pandas/tests/indexes/base_class\n",
      "  \u001b[31m   \u001b[0m copying pandas/tests/indexes/base_class/__init__.py -> build/lib.linux-x86_64-cpython-310/pandas/tests/indexes/base_class\n",
      "  \u001b[31m   \u001b[0m copying pandas/tests/indexes/base_class/test_constructors.py -> build/lib.linux-x86_64-cpython-310/pandas/tests/indexes/base_class\n",
      "  \u001b[31m   \u001b[0m copying pandas/tests/indexes/base_class/test_reshape.py -> build/lib.linux-x86_64-cpython-310/pandas/tests/indexes/base_class\n",
      "  \u001b[31m   \u001b[0m copying pandas/tests/indexes/base_class/test_setops.py -> build/lib.linux-x86_64-cpython-310/pandas/tests/indexes/base_class\n",
      "  \u001b[31m   \u001b[0m creating build/lib.linux-x86_64-cpython-310/pandas/tests/indexes/categorical\n",
      "  \u001b[31m   \u001b[0m copying pandas/tests/indexes/categorical/__init__.py -> build/lib.linux-x86_64-cpython-310/pandas/tests/indexes/categorical\n",
      "  \u001b[31m   \u001b[0m copying pandas/tests/indexes/categorical/test_astype.py -> build/lib.linux-x86_64-cpython-310/pandas/tests/indexes/categorical\n",
      "  \u001b[31m   \u001b[0m copying pandas/tests/indexes/categorical/test_category.py -> build/lib.linux-x86_64-cpython-310/pandas/tests/indexes/categorical\n",
      "  \u001b[31m   \u001b[0m copying pandas/tests/indexes/categorical/test_constructors.py -> build/lib.linux-x86_64-cpython-310/pandas/tests/indexes/categorical\n",
      "  \u001b[31m   \u001b[0m copying pandas/tests/indexes/categorical/test_fillna.py -> build/lib.linux-x86_64-cpython-310/pandas/tests/indexes/categorical\n",
      "  \u001b[31m   \u001b[0m copying pandas/tests/indexes/categorical/test_formats.py -> build/lib.linux-x86_64-cpython-310/pandas/tests/indexes/categorical\n",
      "  \u001b[31m   \u001b[0m copying pandas/tests/indexes/categorical/test_indexing.py -> build/lib.linux-x86_64-cpython-310/pandas/tests/indexes/categorical\n",
      "  \u001b[31m   \u001b[0m copying pandas/tests/indexes/categorical/test_map.py -> build/lib.linux-x86_64-cpython-310/pandas/tests/indexes/categorical\n",
      "  \u001b[31m   \u001b[0m copying pandas/tests/indexes/categorical/test_reindex.py -> build/lib.linux-x86_64-cpython-310/pandas/tests/indexes/categorical\n",
      "  \u001b[31m   \u001b[0m creating build/lib.linux-x86_64-cpython-310/pandas/tests/indexes/datetimes\n",
      "  \u001b[31m   \u001b[0m copying pandas/tests/indexes/datetimes/__init__.py -> build/lib.linux-x86_64-cpython-310/pandas/tests/indexes/datetimes\n",
      "  \u001b[31m   \u001b[0m copying pandas/tests/indexes/datetimes/test_astype.py -> build/lib.linux-x86_64-cpython-310/pandas/tests/indexes/datetimes\n",
      "  \u001b[31m   \u001b[0m copying pandas/tests/indexes/datetimes/test_constructors.py -> build/lib.linux-x86_64-cpython-310/pandas/tests/indexes/datetimes\n",
      "  \u001b[31m   \u001b[0m copying pandas/tests/indexes/datetimes/test_date_range.py -> build/lib.linux-x86_64-cpython-310/pandas/tests/indexes/datetimes\n",
      "  \u001b[31m   \u001b[0m copying pandas/tests/indexes/datetimes/test_datetime.py -> build/lib.linux-x86_64-cpython-310/pandas/tests/indexes/datetimes\n",
      "  \u001b[31m   \u001b[0m copying pandas/tests/indexes/datetimes/test_datetimelike.py -> build/lib.linux-x86_64-cpython-310/pandas/tests/indexes/datetimes\n",
      "  \u001b[31m   \u001b[0m copying pandas/tests/indexes/datetimes/test_delete.py -> build/lib.linux-x86_64-cpython-310/pandas/tests/indexes/datetimes\n",
      "  \u001b[31m   \u001b[0m copying pandas/tests/indexes/datetimes/test_fillna.py -> build/lib.linux-x86_64-cpython-310/pandas/tests/indexes/datetimes\n",
      "  \u001b[31m   \u001b[0m copying pandas/tests/indexes/datetimes/test_formats.py -> build/lib.linux-x86_64-cpython-310/pandas/tests/indexes/datetimes\n",
      "  \u001b[31m   \u001b[0m copying pandas/tests/indexes/datetimes/test_indexing.py -> build/lib.linux-x86_64-cpython-310/pandas/tests/indexes/datetimes\n",
      "  \u001b[31m   \u001b[0m copying pandas/tests/indexes/datetimes/test_insert.py -> build/lib.linux-x86_64-cpython-310/pandas/tests/indexes/datetimes\n",
      "  \u001b[31m   \u001b[0m copying pandas/tests/indexes/datetimes/test_join.py -> build/lib.linux-x86_64-cpython-310/pandas/tests/indexes/datetimes\n",
      "  \u001b[31m   \u001b[0m copying pandas/tests/indexes/datetimes/test_map.py -> build/lib.linux-x86_64-cpython-310/pandas/tests/indexes/datetimes\n",
      "  \u001b[31m   \u001b[0m copying pandas/tests/indexes/datetimes/test_misc.py -> build/lib.linux-x86_64-cpython-310/pandas/tests/indexes/datetimes\n",
      "  \u001b[31m   \u001b[0m copying pandas/tests/indexes/datetimes/test_ops.py -> build/lib.linux-x86_64-cpython-310/pandas/tests/indexes/datetimes\n",
      "  \u001b[31m   \u001b[0m copying pandas/tests/indexes/datetimes/test_partial_slicing.py -> build/lib.linux-x86_64-cpython-310/pandas/tests/indexes/datetimes\n",
      "  \u001b[31m   \u001b[0m copying pandas/tests/indexes/datetimes/test_pickle.py -> build/lib.linux-x86_64-cpython-310/pandas/tests/indexes/datetimes\n",
      "  \u001b[31m   \u001b[0m copying pandas/tests/indexes/datetimes/test_scalar_compat.py -> build/lib.linux-x86_64-cpython-310/pandas/tests/indexes/datetimes\n",
      "  \u001b[31m   \u001b[0m copying pandas/tests/indexes/datetimes/test_setops.py -> build/lib.linux-x86_64-cpython-310/pandas/tests/indexes/datetimes\n",
      "  \u001b[31m   \u001b[0m copying pandas/tests/indexes/datetimes/test_shift.py -> build/lib.linux-x86_64-cpython-310/pandas/tests/indexes/datetimes\n",
      "  \u001b[31m   \u001b[0m copying pandas/tests/indexes/datetimes/test_snap.py -> build/lib.linux-x86_64-cpython-310/pandas/tests/indexes/datetimes\n",
      "  \u001b[31m   \u001b[0m copying pandas/tests/indexes/datetimes/test_timezones.py -> build/lib.linux-x86_64-cpython-310/pandas/tests/indexes/datetimes\n",
      "  \u001b[31m   \u001b[0m copying pandas/tests/indexes/datetimes/test_to_period.py -> build/lib.linux-x86_64-cpython-310/pandas/tests/indexes/datetimes\n",
      "  \u001b[31m   \u001b[0m creating build/lib.linux-x86_64-cpython-310/pandas/tests/indexes/interval\n",
      "  \u001b[31m   \u001b[0m copying pandas/tests/indexes/interval/__init__.py -> build/lib.linux-x86_64-cpython-310/pandas/tests/indexes/interval\n",
      "  \u001b[31m   \u001b[0m copying pandas/tests/indexes/interval/test_astype.py -> build/lib.linux-x86_64-cpython-310/pandas/tests/indexes/interval\n",
      "  \u001b[31m   \u001b[0m copying pandas/tests/indexes/interval/test_base.py -> build/lib.linux-x86_64-cpython-310/pandas/tests/indexes/interval\n",
      "  \u001b[31m   \u001b[0m copying pandas/tests/indexes/interval/test_constructors.py -> build/lib.linux-x86_64-cpython-310/pandas/tests/indexes/interval\n",
      "  \u001b[31m   \u001b[0m copying pandas/tests/indexes/interval/test_formats.py -> build/lib.linux-x86_64-cpython-310/pandas/tests/indexes/interval\n",
      "  \u001b[31m   \u001b[0m copying pandas/tests/indexes/interval/test_indexing.py -> build/lib.linux-x86_64-cpython-310/pandas/tests/indexes/interval\n",
      "  \u001b[31m   \u001b[0m copying pandas/tests/indexes/interval/test_interval.py -> build/lib.linux-x86_64-cpython-310/pandas/tests/indexes/interval\n",
      "  \u001b[31m   \u001b[0m copying pandas/tests/indexes/interval/test_interval_range.py -> build/lib.linux-x86_64-cpython-310/pandas/tests/indexes/interval\n",
      "  \u001b[31m   \u001b[0m copying pandas/tests/indexes/interval/test_interval_tree.py -> build/lib.linux-x86_64-cpython-310/pandas/tests/indexes/interval\n",
      "  \u001b[31m   \u001b[0m copying pandas/tests/indexes/interval/test_setops.py -> build/lib.linux-x86_64-cpython-310/pandas/tests/indexes/interval\n",
      "  \u001b[31m   \u001b[0m creating build/lib.linux-x86_64-cpython-310/pandas/tests/indexes/multi\n",
      "  \u001b[31m   \u001b[0m copying pandas/tests/indexes/multi/__init__.py -> build/lib.linux-x86_64-cpython-310/pandas/tests/indexes/multi\n",
      "  \u001b[31m   \u001b[0m copying pandas/tests/indexes/multi/conftest.py -> build/lib.linux-x86_64-cpython-310/pandas/tests/indexes/multi\n",
      "  \u001b[31m   \u001b[0m copying pandas/tests/indexes/multi/test_analytics.py -> build/lib.linux-x86_64-cpython-310/pandas/tests/indexes/multi\n",
      "  \u001b[31m   \u001b[0m copying pandas/tests/indexes/multi/test_astype.py -> build/lib.linux-x86_64-cpython-310/pandas/tests/indexes/multi\n",
      "  \u001b[31m   \u001b[0m copying pandas/tests/indexes/multi/test_compat.py -> build/lib.linux-x86_64-cpython-310/pandas/tests/indexes/multi\n",
      "  \u001b[31m   \u001b[0m copying pandas/tests/indexes/multi/test_constructors.py -> build/lib.linux-x86_64-cpython-310/pandas/tests/indexes/multi\n",
      "  \u001b[31m   \u001b[0m copying pandas/tests/indexes/multi/test_conversion.py -> build/lib.linux-x86_64-cpython-310/pandas/tests/indexes/multi\n",
      "  \u001b[31m   \u001b[0m copying pandas/tests/indexes/multi/test_copy.py -> build/lib.linux-x86_64-cpython-310/pandas/tests/indexes/multi\n",
      "  \u001b[31m   \u001b[0m copying pandas/tests/indexes/multi/test_drop.py -> build/lib.linux-x86_64-cpython-310/pandas/tests/indexes/multi\n",
      "  \u001b[31m   \u001b[0m copying pandas/tests/indexes/multi/test_duplicates.py -> build/lib.linux-x86_64-cpython-310/pandas/tests/indexes/multi\n",
      "  \u001b[31m   \u001b[0m copying pandas/tests/indexes/multi/test_equivalence.py -> build/lib.linux-x86_64-cpython-310/pandas/tests/indexes/multi\n",
      "  \u001b[31m   \u001b[0m copying pandas/tests/indexes/multi/test_formats.py -> build/lib.linux-x86_64-cpython-310/pandas/tests/indexes/multi\n",
      "  \u001b[31m   \u001b[0m copying pandas/tests/indexes/multi/test_get_level_values.py -> build/lib.linux-x86_64-cpython-310/pandas/tests/indexes/multi\n",
      "  \u001b[31m   \u001b[0m copying pandas/tests/indexes/multi/test_get_set.py -> build/lib.linux-x86_64-cpython-310/pandas/tests/indexes/multi\n",
      "  \u001b[31m   \u001b[0m copying pandas/tests/indexes/multi/test_indexing.py -> build/lib.linux-x86_64-cpython-310/pandas/tests/indexes/multi\n",
      "  \u001b[31m   \u001b[0m copying pandas/tests/indexes/multi/test_integrity.py -> build/lib.linux-x86_64-cpython-310/pandas/tests/indexes/multi\n",
      "  \u001b[31m   \u001b[0m copying pandas/tests/indexes/multi/test_isin.py -> build/lib.linux-x86_64-cpython-310/pandas/tests/indexes/multi\n",
      "  \u001b[31m   \u001b[0m copying pandas/tests/indexes/multi/test_join.py -> build/lib.linux-x86_64-cpython-310/pandas/tests/indexes/multi\n",
      "  \u001b[31m   \u001b[0m copying pandas/tests/indexes/multi/test_lexsort.py -> build/lib.linux-x86_64-cpython-310/pandas/tests/indexes/multi\n",
      "  \u001b[31m   \u001b[0m copying pandas/tests/indexes/multi/test_missing.py -> build/lib.linux-x86_64-cpython-310/pandas/tests/indexes/multi\n",
      "  \u001b[31m   \u001b[0m copying pandas/tests/indexes/multi/test_monotonic.py -> build/lib.linux-x86_64-cpython-310/pandas/tests/indexes/multi\n",
      "  \u001b[31m   \u001b[0m copying pandas/tests/indexes/multi/test_names.py -> build/lib.linux-x86_64-cpython-310/pandas/tests/indexes/multi\n",
      "  \u001b[31m   \u001b[0m copying pandas/tests/indexes/multi/test_partial_indexing.py -> build/lib.linux-x86_64-cpython-310/pandas/tests/indexes/multi\n",
      "  \u001b[31m   \u001b[0m copying pandas/tests/indexes/multi/test_reindex.py -> build/lib.linux-x86_64-cpython-310/pandas/tests/indexes/multi\n",
      "  \u001b[31m   \u001b[0m copying pandas/tests/indexes/multi/test_reshape.py -> build/lib.linux-x86_64-cpython-310/pandas/tests/indexes/multi\n",
      "  \u001b[31m   \u001b[0m copying pandas/tests/indexes/multi/test_setops.py -> build/lib.linux-x86_64-cpython-310/pandas/tests/indexes/multi\n",
      "  \u001b[31m   \u001b[0m copying pandas/tests/indexes/multi/test_sorting.py -> build/lib.linux-x86_64-cpython-310/pandas/tests/indexes/multi\n",
      "  \u001b[31m   \u001b[0m copying pandas/tests/indexes/multi/test_take.py -> build/lib.linux-x86_64-cpython-310/pandas/tests/indexes/multi\n",
      "  \u001b[31m   \u001b[0m creating build/lib.linux-x86_64-cpython-310/pandas/tests/indexes/numeric\n",
      "  \u001b[31m   \u001b[0m copying pandas/tests/indexes/numeric/__init__.py -> build/lib.linux-x86_64-cpython-310/pandas/tests/indexes/numeric\n",
      "  \u001b[31m   \u001b[0m copying pandas/tests/indexes/numeric/test_astype.py -> build/lib.linux-x86_64-cpython-310/pandas/tests/indexes/numeric\n",
      "  \u001b[31m   \u001b[0m copying pandas/tests/indexes/numeric/test_indexing.py -> build/lib.linux-x86_64-cpython-310/pandas/tests/indexes/numeric\n",
      "  \u001b[31m   \u001b[0m copying pandas/tests/indexes/numeric/test_join.py -> build/lib.linux-x86_64-cpython-310/pandas/tests/indexes/numeric\n",
      "  \u001b[31m   \u001b[0m creating build/lib.linux-x86_64-cpython-310/pandas/tests/indexes/period\n",
      "  \u001b[31m   \u001b[0m copying pandas/tests/indexes/period/__init__.py -> build/lib.linux-x86_64-cpython-310/pandas/tests/indexes/period\n",
      "  \u001b[31m   \u001b[0m copying pandas/tests/indexes/period/test_asfreq.py -> build/lib.linux-x86_64-cpython-310/pandas/tests/indexes/period\n",
      "  \u001b[31m   \u001b[0m copying pandas/tests/indexes/period/test_astype.py -> build/lib.linux-x86_64-cpython-310/pandas/tests/indexes/period\n",
      "  \u001b[31m   \u001b[0m copying pandas/tests/indexes/period/test_constructors.py -> build/lib.linux-x86_64-cpython-310/pandas/tests/indexes/period\n",
      "  \u001b[31m   \u001b[0m copying pandas/tests/indexes/period/test_factorize.py -> build/lib.linux-x86_64-cpython-310/pandas/tests/indexes/period\n",
      "  \u001b[31m   \u001b[0m copying pandas/tests/indexes/period/test_fillna.py -> build/lib.linux-x86_64-cpython-310/pandas/tests/indexes/period\n",
      "  \u001b[31m   \u001b[0m copying pandas/tests/indexes/period/test_formats.py -> build/lib.linux-x86_64-cpython-310/pandas/tests/indexes/period\n",
      "  \u001b[31m   \u001b[0m copying pandas/tests/indexes/period/test_indexing.py -> build/lib.linux-x86_64-cpython-310/pandas/tests/indexes/period\n",
      "  \u001b[31m   \u001b[0m copying pandas/tests/indexes/period/test_join.py -> build/lib.linux-x86_64-cpython-310/pandas/tests/indexes/period\n",
      "  \u001b[31m   \u001b[0m copying pandas/tests/indexes/period/test_monotonic.py -> build/lib.linux-x86_64-cpython-310/pandas/tests/indexes/period\n",
      "  \u001b[31m   \u001b[0m copying pandas/tests/indexes/period/test_ops.py -> build/lib.linux-x86_64-cpython-310/pandas/tests/indexes/period\n",
      "  \u001b[31m   \u001b[0m copying pandas/tests/indexes/period/test_partial_slicing.py -> build/lib.linux-x86_64-cpython-310/pandas/tests/indexes/period\n",
      "  \u001b[31m   \u001b[0m copying pandas/tests/indexes/period/test_period.py -> build/lib.linux-x86_64-cpython-310/pandas/tests/indexes/period\n",
      "  \u001b[31m   \u001b[0m copying pandas/tests/indexes/period/test_period_range.py -> build/lib.linux-x86_64-cpython-310/pandas/tests/indexes/period\n",
      "  \u001b[31m   \u001b[0m copying pandas/tests/indexes/period/test_scalar_compat.py -> build/lib.linux-x86_64-cpython-310/pandas/tests/indexes/period\n",
      "  \u001b[31m   \u001b[0m copying pandas/tests/indexes/period/test_searchsorted.py -> build/lib.linux-x86_64-cpython-310/pandas/tests/indexes/period\n",
      "  \u001b[31m   \u001b[0m copying pandas/tests/indexes/period/test_setops.py -> build/lib.linux-x86_64-cpython-310/pandas/tests/indexes/period\n",
      "  \u001b[31m   \u001b[0m copying pandas/tests/indexes/period/test_shift.py -> build/lib.linux-x86_64-cpython-310/pandas/tests/indexes/period\n",
      "  \u001b[31m   \u001b[0m copying pandas/tests/indexes/period/test_to_timestamp.py -> build/lib.linux-x86_64-cpython-310/pandas/tests/indexes/period\n",
      "  \u001b[31m   \u001b[0m copying pandas/tests/indexes/period/test_tools.py -> build/lib.linux-x86_64-cpython-310/pandas/tests/indexes/period\n",
      "  \u001b[31m   \u001b[0m creating build/lib.linux-x86_64-cpython-310/pandas/tests/indexes/ranges\n",
      "  \u001b[31m   \u001b[0m copying pandas/tests/indexes/ranges/__init__.py -> build/lib.linux-x86_64-cpython-310/pandas/tests/indexes/ranges\n",
      "  \u001b[31m   \u001b[0m copying pandas/tests/indexes/ranges/test_constructors.py -> build/lib.linux-x86_64-cpython-310/pandas/tests/indexes/ranges\n",
      "  \u001b[31m   \u001b[0m copying pandas/tests/indexes/ranges/test_indexing.py -> build/lib.linux-x86_64-cpython-310/pandas/tests/indexes/ranges\n",
      "  \u001b[31m   \u001b[0m copying pandas/tests/indexes/ranges/test_join.py -> build/lib.linux-x86_64-cpython-310/pandas/tests/indexes/ranges\n",
      "  \u001b[31m   \u001b[0m copying pandas/tests/indexes/ranges/test_range.py -> build/lib.linux-x86_64-cpython-310/pandas/tests/indexes/ranges\n",
      "  \u001b[31m   \u001b[0m copying pandas/tests/indexes/ranges/test_setops.py -> build/lib.linux-x86_64-cpython-310/pandas/tests/indexes/ranges\n",
      "  \u001b[31m   \u001b[0m creating build/lib.linux-x86_64-cpython-310/pandas/tests/indexes/timedeltas\n",
      "  \u001b[31m   \u001b[0m copying pandas/tests/indexes/timedeltas/__init__.py -> build/lib.linux-x86_64-cpython-310/pandas/tests/indexes/timedeltas\n",
      "  \u001b[31m   \u001b[0m copying pandas/tests/indexes/timedeltas/test_astype.py -> build/lib.linux-x86_64-cpython-310/pandas/tests/indexes/timedeltas\n",
      "  \u001b[31m   \u001b[0m copying pandas/tests/indexes/timedeltas/test_constructors.py -> build/lib.linux-x86_64-cpython-310/pandas/tests/indexes/timedeltas\n",
      "  \u001b[31m   \u001b[0m copying pandas/tests/indexes/timedeltas/test_delete.py -> build/lib.linux-x86_64-cpython-310/pandas/tests/indexes/timedeltas\n",
      "  \u001b[31m   \u001b[0m copying pandas/tests/indexes/timedeltas/test_fillna.py -> build/lib.linux-x86_64-cpython-310/pandas/tests/indexes/timedeltas\n",
      "  \u001b[31m   \u001b[0m copying pandas/tests/indexes/timedeltas/test_formats.py -> build/lib.linux-x86_64-cpython-310/pandas/tests/indexes/timedeltas\n",
      "  \u001b[31m   \u001b[0m copying pandas/tests/indexes/timedeltas/test_indexing.py -> build/lib.linux-x86_64-cpython-310/pandas/tests/indexes/timedeltas\n",
      "  \u001b[31m   \u001b[0m copying pandas/tests/indexes/timedeltas/test_insert.py -> build/lib.linux-x86_64-cpython-310/pandas/tests/indexes/timedeltas\n",
      "  \u001b[31m   \u001b[0m copying pandas/tests/indexes/timedeltas/test_join.py -> build/lib.linux-x86_64-cpython-310/pandas/tests/indexes/timedeltas\n",
      "  \u001b[31m   \u001b[0m copying pandas/tests/indexes/timedeltas/test_ops.py -> build/lib.linux-x86_64-cpython-310/pandas/tests/indexes/timedeltas\n",
      "  \u001b[31m   \u001b[0m copying pandas/tests/indexes/timedeltas/test_partial_slicing.py -> build/lib.linux-x86_64-cpython-310/pandas/tests/indexes/timedeltas\n",
      "  \u001b[31m   \u001b[0m copying pandas/tests/indexes/timedeltas/test_scalar_compat.py -> build/lib.linux-x86_64-cpython-310/pandas/tests/indexes/timedeltas\n",
      "  \u001b[31m   \u001b[0m copying pandas/tests/indexes/timedeltas/test_searchsorted.py -> build/lib.linux-x86_64-cpython-310/pandas/tests/indexes/timedeltas\n",
      "  \u001b[31m   \u001b[0m copying pandas/tests/indexes/timedeltas/test_setops.py -> build/lib.linux-x86_64-cpython-310/pandas/tests/indexes/timedeltas\n",
      "  \u001b[31m   \u001b[0m copying pandas/tests/indexes/timedeltas/test_shift.py -> build/lib.linux-x86_64-cpython-310/pandas/tests/indexes/timedeltas\n",
      "  \u001b[31m   \u001b[0m copying pandas/tests/indexes/timedeltas/test_timedelta.py -> build/lib.linux-x86_64-cpython-310/pandas/tests/indexes/timedeltas\n",
      "  \u001b[31m   \u001b[0m copying pandas/tests/indexes/timedeltas/test_timedelta_range.py -> build/lib.linux-x86_64-cpython-310/pandas/tests/indexes/timedeltas\n",
      "  \u001b[31m   \u001b[0m creating build/lib.linux-x86_64-cpython-310/pandas/tests/indexing/interval\n",
      "  \u001b[31m   \u001b[0m copying pandas/tests/indexing/interval/__init__.py -> build/lib.linux-x86_64-cpython-310/pandas/tests/indexing/interval\n",
      "  \u001b[31m   \u001b[0m copying pandas/tests/indexing/interval/test_interval.py -> build/lib.linux-x86_64-cpython-310/pandas/tests/indexing/interval\n",
      "  \u001b[31m   \u001b[0m copying pandas/tests/indexing/interval/test_interval_new.py -> build/lib.linux-x86_64-cpython-310/pandas/tests/indexing/interval\n",
      "  \u001b[31m   \u001b[0m creating build/lib.linux-x86_64-cpython-310/pandas/tests/indexing/multiindex\n",
      "  \u001b[31m   \u001b[0m copying pandas/tests/indexing/multiindex/__init__.py -> build/lib.linux-x86_64-cpython-310/pandas/tests/indexing/multiindex\n",
      "  \u001b[31m   \u001b[0m copying pandas/tests/indexing/multiindex/conftest.py -> build/lib.linux-x86_64-cpython-310/pandas/tests/indexing/multiindex\n",
      "  \u001b[31m   \u001b[0m copying pandas/tests/indexing/multiindex/test_chaining_and_caching.py -> build/lib.linux-x86_64-cpython-310/pandas/tests/indexing/multiindex\n",
      "  \u001b[31m   \u001b[0m copying pandas/tests/indexing/multiindex/test_datetime.py -> build/lib.linux-x86_64-cpython-310/pandas/tests/indexing/multiindex\n",
      "  \u001b[31m   \u001b[0m copying pandas/tests/indexing/multiindex/test_getitem.py -> build/lib.linux-x86_64-cpython-310/pandas/tests/indexing/multiindex\n",
      "  \u001b[31m   \u001b[0m copying pandas/tests/indexing/multiindex/test_iloc.py -> build/lib.linux-x86_64-cpython-310/pandas/tests/indexing/multiindex\n",
      "  \u001b[31m   \u001b[0m copying pandas/tests/indexing/multiindex/test_indexing_slow.py -> build/lib.linux-x86_64-cpython-310/pandas/tests/indexing/multiindex\n",
      "  \u001b[31m   \u001b[0m copying pandas/tests/indexing/multiindex/test_insert.py -> build/lib.linux-x86_64-cpython-310/pandas/tests/indexing/multiindex\n",
      "  \u001b[31m   \u001b[0m copying pandas/tests/indexing/multiindex/test_ix.py -> build/lib.linux-x86_64-cpython-310/pandas/tests/indexing/multiindex\n",
      "  \u001b[31m   \u001b[0m copying pandas/tests/indexing/multiindex/test_loc.py -> build/lib.linux-x86_64-cpython-310/pandas/tests/indexing/multiindex\n",
      "  \u001b[31m   \u001b[0m copying pandas/tests/indexing/multiindex/test_multiindex.py -> build/lib.linux-x86_64-cpython-310/pandas/tests/indexing/multiindex\n",
      "  \u001b[31m   \u001b[0m copying pandas/tests/indexing/multiindex/test_partial.py -> build/lib.linux-x86_64-cpython-310/pandas/tests/indexing/multiindex\n",
      "  \u001b[31m   \u001b[0m copying pandas/tests/indexing/multiindex/test_setitem.py -> build/lib.linux-x86_64-cpython-310/pandas/tests/indexing/multiindex\n",
      "  \u001b[31m   \u001b[0m copying pandas/tests/indexing/multiindex/test_slice.py -> build/lib.linux-x86_64-cpython-310/pandas/tests/indexing/multiindex\n",
      "  \u001b[31m   \u001b[0m copying pandas/tests/indexing/multiindex/test_sorted.py -> build/lib.linux-x86_64-cpython-310/pandas/tests/indexing/multiindex\n",
      "  \u001b[31m   \u001b[0m copying pandas/tests/indexing/multiindex/test_xs.py -> build/lib.linux-x86_64-cpython-310/pandas/tests/indexing/multiindex\n",
      "  \u001b[31m   \u001b[0m creating build/lib.linux-x86_64-cpython-310/pandas/tests/io/excel\n",
      "  \u001b[31m   \u001b[0m copying pandas/tests/io/excel/__init__.py -> build/lib.linux-x86_64-cpython-310/pandas/tests/io/excel\n",
      "  \u001b[31m   \u001b[0m copying pandas/tests/io/excel/conftest.py -> build/lib.linux-x86_64-cpython-310/pandas/tests/io/excel\n",
      "  \u001b[31m   \u001b[0m copying pandas/tests/io/excel/test_odf.py -> build/lib.linux-x86_64-cpython-310/pandas/tests/io/excel\n",
      "  \u001b[31m   \u001b[0m copying pandas/tests/io/excel/test_odswriter.py -> build/lib.linux-x86_64-cpython-310/pandas/tests/io/excel\n",
      "  \u001b[31m   \u001b[0m copying pandas/tests/io/excel/test_openpyxl.py -> build/lib.linux-x86_64-cpython-310/pandas/tests/io/excel\n",
      "  \u001b[31m   \u001b[0m copying pandas/tests/io/excel/test_readers.py -> build/lib.linux-x86_64-cpython-310/pandas/tests/io/excel\n",
      "  \u001b[31m   \u001b[0m copying pandas/tests/io/excel/test_style.py -> build/lib.linux-x86_64-cpython-310/pandas/tests/io/excel\n",
      "  \u001b[31m   \u001b[0m copying pandas/tests/io/excel/test_writers.py -> build/lib.linux-x86_64-cpython-310/pandas/tests/io/excel\n",
      "  \u001b[31m   \u001b[0m copying pandas/tests/io/excel/test_xlrd.py -> build/lib.linux-x86_64-cpython-310/pandas/tests/io/excel\n",
      "  \u001b[31m   \u001b[0m copying pandas/tests/io/excel/test_xlsxwriter.py -> build/lib.linux-x86_64-cpython-310/pandas/tests/io/excel\n",
      "  \u001b[31m   \u001b[0m copying pandas/tests/io/excel/test_xlwt.py -> build/lib.linux-x86_64-cpython-310/pandas/tests/io/excel\n",
      "  \u001b[31m   \u001b[0m creating build/lib.linux-x86_64-cpython-310/pandas/tests/io/formats\n",
      "  \u001b[31m   \u001b[0m copying pandas/tests/io/formats/__init__.py -> build/lib.linux-x86_64-cpython-310/pandas/tests/io/formats\n",
      "  \u001b[31m   \u001b[0m copying pandas/tests/io/formats/test_console.py -> build/lib.linux-x86_64-cpython-310/pandas/tests/io/formats\n",
      "  \u001b[31m   \u001b[0m copying pandas/tests/io/formats/test_css.py -> build/lib.linux-x86_64-cpython-310/pandas/tests/io/formats\n",
      "  \u001b[31m   \u001b[0m copying pandas/tests/io/formats/test_eng_formatting.py -> build/lib.linux-x86_64-cpython-310/pandas/tests/io/formats\n",
      "  \u001b[31m   \u001b[0m copying pandas/tests/io/formats/test_format.py -> build/lib.linux-x86_64-cpython-310/pandas/tests/io/formats\n",
      "  \u001b[31m   \u001b[0m copying pandas/tests/io/formats/test_info.py -> build/lib.linux-x86_64-cpython-310/pandas/tests/io/formats\n",
      "  \u001b[31m   \u001b[0m copying pandas/tests/io/formats/test_printing.py -> build/lib.linux-x86_64-cpython-310/pandas/tests/io/formats\n",
      "  \u001b[31m   \u001b[0m copying pandas/tests/io/formats/test_style.py -> build/lib.linux-x86_64-cpython-310/pandas/tests/io/formats\n",
      "  \u001b[31m   \u001b[0m copying pandas/tests/io/formats/test_to_csv.py -> build/lib.linux-x86_64-cpython-310/pandas/tests/io/formats\n",
      "  \u001b[31m   \u001b[0m copying pandas/tests/io/formats/test_to_excel.py -> build/lib.linux-x86_64-cpython-310/pandas/tests/io/formats\n",
      "  \u001b[31m   \u001b[0m copying pandas/tests/io/formats/test_to_html.py -> build/lib.linux-x86_64-cpython-310/pandas/tests/io/formats\n",
      "  \u001b[31m   \u001b[0m copying pandas/tests/io/formats/test_to_latex.py -> build/lib.linux-x86_64-cpython-310/pandas/tests/io/formats\n",
      "  \u001b[31m   \u001b[0m copying pandas/tests/io/formats/test_to_markdown.py -> build/lib.linux-x86_64-cpython-310/pandas/tests/io/formats\n",
      "  \u001b[31m   \u001b[0m creating build/lib.linux-x86_64-cpython-310/pandas/tests/io/json\n",
      "  \u001b[31m   \u001b[0m copying pandas/tests/io/json/__init__.py -> build/lib.linux-x86_64-cpython-310/pandas/tests/io/json\n",
      "  \u001b[31m   \u001b[0m copying pandas/tests/io/json/conftest.py -> build/lib.linux-x86_64-cpython-310/pandas/tests/io/json\n",
      "  \u001b[31m   \u001b[0m copying pandas/tests/io/json/test_compression.py -> build/lib.linux-x86_64-cpython-310/pandas/tests/io/json\n",
      "  \u001b[31m   \u001b[0m copying pandas/tests/io/json/test_deprecated_kwargs.py -> build/lib.linux-x86_64-cpython-310/pandas/tests/io/json\n",
      "  \u001b[31m   \u001b[0m copying pandas/tests/io/json/test_json_table_schema.py -> build/lib.linux-x86_64-cpython-310/pandas/tests/io/json\n",
      "  \u001b[31m   \u001b[0m copying pandas/tests/io/json/test_normalize.py -> build/lib.linux-x86_64-cpython-310/pandas/tests/io/json\n",
      "  \u001b[31m   \u001b[0m copying pandas/tests/io/json/test_pandas.py -> build/lib.linux-x86_64-cpython-310/pandas/tests/io/json\n",
      "  \u001b[31m   \u001b[0m copying pandas/tests/io/json/test_readlines.py -> build/lib.linux-x86_64-cpython-310/pandas/tests/io/json\n",
      "  \u001b[31m   \u001b[0m copying pandas/tests/io/json/test_ujson.py -> build/lib.linux-x86_64-cpython-310/pandas/tests/io/json\n",
      "  \u001b[31m   \u001b[0m creating build/lib.linux-x86_64-cpython-310/pandas/tests/io/parser\n",
      "  \u001b[31m   \u001b[0m copying pandas/tests/io/parser/__init__.py -> build/lib.linux-x86_64-cpython-310/pandas/tests/io/parser\n",
      "  \u001b[31m   \u001b[0m copying pandas/tests/io/parser/conftest.py -> build/lib.linux-x86_64-cpython-310/pandas/tests/io/parser\n",
      "  \u001b[31m   \u001b[0m copying pandas/tests/io/parser/test_c_parser_only.py -> build/lib.linux-x86_64-cpython-310/pandas/tests/io/parser\n",
      "  \u001b[31m   \u001b[0m copying pandas/tests/io/parser/test_comment.py -> build/lib.linux-x86_64-cpython-310/pandas/tests/io/parser\n",
      "  \u001b[31m   \u001b[0m copying pandas/tests/io/parser/test_common.py -> build/lib.linux-x86_64-cpython-310/pandas/tests/io/parser\n",
      "  \u001b[31m   \u001b[0m copying pandas/tests/io/parser/test_compression.py -> build/lib.linux-x86_64-cpython-310/pandas/tests/io/parser\n",
      "  \u001b[31m   \u001b[0m copying pandas/tests/io/parser/test_converters.py -> build/lib.linux-x86_64-cpython-310/pandas/tests/io/parser\n",
      "  \u001b[31m   \u001b[0m copying pandas/tests/io/parser/test_dialect.py -> build/lib.linux-x86_64-cpython-310/pandas/tests/io/parser\n",
      "  \u001b[31m   \u001b[0m copying pandas/tests/io/parser/test_dtypes.py -> build/lib.linux-x86_64-cpython-310/pandas/tests/io/parser\n",
      "  \u001b[31m   \u001b[0m copying pandas/tests/io/parser/test_encoding.py -> build/lib.linux-x86_64-cpython-310/pandas/tests/io/parser\n",
      "  \u001b[31m   \u001b[0m copying pandas/tests/io/parser/test_header.py -> build/lib.linux-x86_64-cpython-310/pandas/tests/io/parser\n",
      "  \u001b[31m   \u001b[0m copying pandas/tests/io/parser/test_index_col.py -> build/lib.linux-x86_64-cpython-310/pandas/tests/io/parser\n",
      "  \u001b[31m   \u001b[0m copying pandas/tests/io/parser/test_mangle_dupes.py -> build/lib.linux-x86_64-cpython-310/pandas/tests/io/parser\n",
      "  \u001b[31m   \u001b[0m copying pandas/tests/io/parser/test_multi_thread.py -> build/lib.linux-x86_64-cpython-310/pandas/tests/io/parser\n",
      "  \u001b[31m   \u001b[0m copying pandas/tests/io/parser/test_na_values.py -> build/lib.linux-x86_64-cpython-310/pandas/tests/io/parser\n",
      "  \u001b[31m   \u001b[0m copying pandas/tests/io/parser/test_network.py -> build/lib.linux-x86_64-cpython-310/pandas/tests/io/parser\n",
      "  \u001b[31m   \u001b[0m copying pandas/tests/io/parser/test_parse_dates.py -> build/lib.linux-x86_64-cpython-310/pandas/tests/io/parser\n",
      "  \u001b[31m   \u001b[0m copying pandas/tests/io/parser/test_python_parser_only.py -> build/lib.linux-x86_64-cpython-310/pandas/tests/io/parser\n",
      "  \u001b[31m   \u001b[0m copying pandas/tests/io/parser/test_quoting.py -> build/lib.linux-x86_64-cpython-310/pandas/tests/io/parser\n",
      "  \u001b[31m   \u001b[0m copying pandas/tests/io/parser/test_read_fwf.py -> build/lib.linux-x86_64-cpython-310/pandas/tests/io/parser\n",
      "  \u001b[31m   \u001b[0m copying pandas/tests/io/parser/test_skiprows.py -> build/lib.linux-x86_64-cpython-310/pandas/tests/io/parser\n",
      "  \u001b[31m   \u001b[0m copying pandas/tests/io/parser/test_textreader.py -> build/lib.linux-x86_64-cpython-310/pandas/tests/io/parser\n",
      "  \u001b[31m   \u001b[0m copying pandas/tests/io/parser/test_unsupported.py -> build/lib.linux-x86_64-cpython-310/pandas/tests/io/parser\n",
      "  \u001b[31m   \u001b[0m copying pandas/tests/io/parser/test_usecols.py -> build/lib.linux-x86_64-cpython-310/pandas/tests/io/parser\n",
      "  \u001b[31m   \u001b[0m creating build/lib.linux-x86_64-cpython-310/pandas/tests/io/pytables\n",
      "  \u001b[31m   \u001b[0m copying pandas/tests/io/pytables/__init__.py -> build/lib.linux-x86_64-cpython-310/pandas/tests/io/pytables\n",
      "  \u001b[31m   \u001b[0m copying pandas/tests/io/pytables/common.py -> build/lib.linux-x86_64-cpython-310/pandas/tests/io/pytables\n",
      "  \u001b[31m   \u001b[0m copying pandas/tests/io/pytables/conftest.py -> build/lib.linux-x86_64-cpython-310/pandas/tests/io/pytables\n",
      "  \u001b[31m   \u001b[0m copying pandas/tests/io/pytables/test_compat.py -> build/lib.linux-x86_64-cpython-310/pandas/tests/io/pytables\n",
      "  \u001b[31m   \u001b[0m copying pandas/tests/io/pytables/test_complex.py -> build/lib.linux-x86_64-cpython-310/pandas/tests/io/pytables\n",
      "  \u001b[31m   \u001b[0m copying pandas/tests/io/pytables/test_pytables_missing.py -> build/lib.linux-x86_64-cpython-310/pandas/tests/io/pytables\n",
      "  \u001b[31m   \u001b[0m copying pandas/tests/io/pytables/test_store.py -> build/lib.linux-x86_64-cpython-310/pandas/tests/io/pytables\n",
      "  \u001b[31m   \u001b[0m copying pandas/tests/io/pytables/test_timezones.py -> build/lib.linux-x86_64-cpython-310/pandas/tests/io/pytables\n",
      "  \u001b[31m   \u001b[0m creating build/lib.linux-x86_64-cpython-310/pandas/tests/io/sas\n",
      "  \u001b[31m   \u001b[0m copying pandas/tests/io/sas/__init__.py -> build/lib.linux-x86_64-cpython-310/pandas/tests/io/sas\n",
      "  \u001b[31m   \u001b[0m copying pandas/tests/io/sas/test_sas.py -> build/lib.linux-x86_64-cpython-310/pandas/tests/io/sas\n",
      "  \u001b[31m   \u001b[0m copying pandas/tests/io/sas/test_sas7bdat.py -> build/lib.linux-x86_64-cpython-310/pandas/tests/io/sas\n",
      "  \u001b[31m   \u001b[0m copying pandas/tests/io/sas/test_xport.py -> build/lib.linux-x86_64-cpython-310/pandas/tests/io/sas\n",
      "  \u001b[31m   \u001b[0m creating build/lib.linux-x86_64-cpython-310/pandas/tests/reshape/merge\n",
      "  \u001b[31m   \u001b[0m copying pandas/tests/reshape/merge/__init__.py -> build/lib.linux-x86_64-cpython-310/pandas/tests/reshape/merge\n",
      "  \u001b[31m   \u001b[0m copying pandas/tests/reshape/merge/test_join.py -> build/lib.linux-x86_64-cpython-310/pandas/tests/reshape/merge\n",
      "  \u001b[31m   \u001b[0m copying pandas/tests/reshape/merge/test_merge.py -> build/lib.linux-x86_64-cpython-310/pandas/tests/reshape/merge\n",
      "  \u001b[31m   \u001b[0m copying pandas/tests/reshape/merge/test_merge_asof.py -> build/lib.linux-x86_64-cpython-310/pandas/tests/reshape/merge\n",
      "  \u001b[31m   \u001b[0m copying pandas/tests/reshape/merge/test_merge_index_as_string.py -> build/lib.linux-x86_64-cpython-310/pandas/tests/reshape/merge\n",
      "  \u001b[31m   \u001b[0m copying pandas/tests/reshape/merge/test_merge_ordered.py -> build/lib.linux-x86_64-cpython-310/pandas/tests/reshape/merge\n",
      "  \u001b[31m   \u001b[0m copying pandas/tests/reshape/merge/test_multi.py -> build/lib.linux-x86_64-cpython-310/pandas/tests/reshape/merge\n",
      "  \u001b[31m   \u001b[0m copying pandas/tests/reshape/merge/test_pivot_old.py -> build/lib.linux-x86_64-cpython-310/pandas/tests/reshape/merge\n",
      "  \u001b[31m   \u001b[0m creating build/lib.linux-x86_64-cpython-310/pandas/tests/scalar/interval\n",
      "  \u001b[31m   \u001b[0m copying pandas/tests/scalar/interval/__init__.py -> build/lib.linux-x86_64-cpython-310/pandas/tests/scalar/interval\n",
      "  \u001b[31m   \u001b[0m copying pandas/tests/scalar/interval/test_arithmetic.py -> build/lib.linux-x86_64-cpython-310/pandas/tests/scalar/interval\n",
      "  \u001b[31m   \u001b[0m copying pandas/tests/scalar/interval/test_interval.py -> build/lib.linux-x86_64-cpython-310/pandas/tests/scalar/interval\n",
      "  \u001b[31m   \u001b[0m copying pandas/tests/scalar/interval/test_ops.py -> build/lib.linux-x86_64-cpython-310/pandas/tests/scalar/interval\n",
      "  \u001b[31m   \u001b[0m creating build/lib.linux-x86_64-cpython-310/pandas/tests/scalar/period\n",
      "  \u001b[31m   \u001b[0m copying pandas/tests/scalar/period/__init__.py -> build/lib.linux-x86_64-cpython-310/pandas/tests/scalar/period\n",
      "  \u001b[31m   \u001b[0m copying pandas/tests/scalar/period/test_asfreq.py -> build/lib.linux-x86_64-cpython-310/pandas/tests/scalar/period\n",
      "  \u001b[31m   \u001b[0m copying pandas/tests/scalar/period/test_period.py -> build/lib.linux-x86_64-cpython-310/pandas/tests/scalar/period\n",
      "  \u001b[31m   \u001b[0m creating build/lib.linux-x86_64-cpython-310/pandas/tests/scalar/timedelta\n",
      "  \u001b[31m   \u001b[0m copying pandas/tests/scalar/timedelta/__init__.py -> build/lib.linux-x86_64-cpython-310/pandas/tests/scalar/timedelta\n",
      "  \u001b[31m   \u001b[0m copying pandas/tests/scalar/timedelta/test_arithmetic.py -> build/lib.linux-x86_64-cpython-310/pandas/tests/scalar/timedelta\n",
      "  \u001b[31m   \u001b[0m copying pandas/tests/scalar/timedelta/test_constructors.py -> build/lib.linux-x86_64-cpython-310/pandas/tests/scalar/timedelta\n",
      "  \u001b[31m   \u001b[0m copying pandas/tests/scalar/timedelta/test_formats.py -> build/lib.linux-x86_64-cpython-310/pandas/tests/scalar/timedelta\n",
      "  \u001b[31m   \u001b[0m copying pandas/tests/scalar/timedelta/test_timedelta.py -> build/lib.linux-x86_64-cpython-310/pandas/tests/scalar/timedelta\n",
      "  \u001b[31m   \u001b[0m creating build/lib.linux-x86_64-cpython-310/pandas/tests/scalar/timestamp\n",
      "  \u001b[31m   \u001b[0m copying pandas/tests/scalar/timestamp/__init__.py -> build/lib.linux-x86_64-cpython-310/pandas/tests/scalar/timestamp\n",
      "  \u001b[31m   \u001b[0m copying pandas/tests/scalar/timestamp/test_arithmetic.py -> build/lib.linux-x86_64-cpython-310/pandas/tests/scalar/timestamp\n",
      "  \u001b[31m   \u001b[0m copying pandas/tests/scalar/timestamp/test_comparisons.py -> build/lib.linux-x86_64-cpython-310/pandas/tests/scalar/timestamp\n",
      "  \u001b[31m   \u001b[0m copying pandas/tests/scalar/timestamp/test_constructors.py -> build/lib.linux-x86_64-cpython-310/pandas/tests/scalar/timestamp\n",
      "  \u001b[31m   \u001b[0m copying pandas/tests/scalar/timestamp/test_rendering.py -> build/lib.linux-x86_64-cpython-310/pandas/tests/scalar/timestamp\n",
      "  \u001b[31m   \u001b[0m copying pandas/tests/scalar/timestamp/test_timestamp.py -> build/lib.linux-x86_64-cpython-310/pandas/tests/scalar/timestamp\n",
      "  \u001b[31m   \u001b[0m copying pandas/tests/scalar/timestamp/test_timezones.py -> build/lib.linux-x86_64-cpython-310/pandas/tests/scalar/timestamp\n",
      "  \u001b[31m   \u001b[0m copying pandas/tests/scalar/timestamp/test_unary_ops.py -> build/lib.linux-x86_64-cpython-310/pandas/tests/scalar/timestamp\n",
      "  \u001b[31m   \u001b[0m creating build/lib.linux-x86_64-cpython-310/pandas/tests/series/apply\n",
      "  \u001b[31m   \u001b[0m copying pandas/tests/series/apply/__init__.py -> build/lib.linux-x86_64-cpython-310/pandas/tests/series/apply\n",
      "  \u001b[31m   \u001b[0m copying pandas/tests/series/apply/test_apply_relabeling.py -> build/lib.linux-x86_64-cpython-310/pandas/tests/series/apply\n",
      "  \u001b[31m   \u001b[0m copying pandas/tests/series/apply/test_series_apply.py -> build/lib.linux-x86_64-cpython-310/pandas/tests/series/apply\n",
      "  \u001b[31m   \u001b[0m creating build/lib.linux-x86_64-cpython-310/pandas/tests/series/indexing\n",
      "  \u001b[31m   \u001b[0m copying pandas/tests/series/indexing/__init__.py -> build/lib.linux-x86_64-cpython-310/pandas/tests/series/indexing\n",
      "  \u001b[31m   \u001b[0m copying pandas/tests/series/indexing/test_alter_index.py -> build/lib.linux-x86_64-cpython-310/pandas/tests/series/indexing\n",
      "  \u001b[31m   \u001b[0m copying pandas/tests/series/indexing/test_boolean.py -> build/lib.linux-x86_64-cpython-310/pandas/tests/series/indexing\n",
      "  \u001b[31m   \u001b[0m copying pandas/tests/series/indexing/test_callable.py -> build/lib.linux-x86_64-cpython-310/pandas/tests/series/indexing\n",
      "  \u001b[31m   \u001b[0m copying pandas/tests/series/indexing/test_datetime.py -> build/lib.linux-x86_64-cpython-310/pandas/tests/series/indexing\n",
      "  \u001b[31m   \u001b[0m copying pandas/tests/series/indexing/test_delitem.py -> build/lib.linux-x86_64-cpython-310/pandas/tests/series/indexing\n",
      "  \u001b[31m   \u001b[0m copying pandas/tests/series/indexing/test_get.py -> build/lib.linux-x86_64-cpython-310/pandas/tests/series/indexing\n",
      "  \u001b[31m   \u001b[0m copying pandas/tests/series/indexing/test_getitem.py -> build/lib.linux-x86_64-cpython-310/pandas/tests/series/indexing\n",
      "  \u001b[31m   \u001b[0m copying pandas/tests/series/indexing/test_iloc.py -> build/lib.linux-x86_64-cpython-310/pandas/tests/series/indexing\n",
      "  \u001b[31m   \u001b[0m copying pandas/tests/series/indexing/test_indexing.py -> build/lib.linux-x86_64-cpython-310/pandas/tests/series/indexing\n",
      "  \u001b[31m   \u001b[0m copying pandas/tests/series/indexing/test_loc.py -> build/lib.linux-x86_64-cpython-310/pandas/tests/series/indexing\n",
      "  \u001b[31m   \u001b[0m copying pandas/tests/series/indexing/test_mask.py -> build/lib.linux-x86_64-cpython-310/pandas/tests/series/indexing\n",
      "  \u001b[31m   \u001b[0m copying pandas/tests/series/indexing/test_multiindex.py -> build/lib.linux-x86_64-cpython-310/pandas/tests/series/indexing\n",
      "  \u001b[31m   \u001b[0m copying pandas/tests/series/indexing/test_numeric.py -> build/lib.linux-x86_64-cpython-310/pandas/tests/series/indexing\n",
      "  \u001b[31m   \u001b[0m copying pandas/tests/series/indexing/test_setitem.py -> build/lib.linux-x86_64-cpython-310/pandas/tests/series/indexing\n",
      "  \u001b[31m   \u001b[0m copying pandas/tests/series/indexing/test_take.py -> build/lib.linux-x86_64-cpython-310/pandas/tests/series/indexing\n",
      "  \u001b[31m   \u001b[0m copying pandas/tests/series/indexing/test_where.py -> build/lib.linux-x86_64-cpython-310/pandas/tests/series/indexing\n",
      "  \u001b[31m   \u001b[0m copying pandas/tests/series/indexing/test_xs.py -> build/lib.linux-x86_64-cpython-310/pandas/tests/series/indexing\n",
      "  \u001b[31m   \u001b[0m creating build/lib.linux-x86_64-cpython-310/pandas/tests/series/methods\n",
      "  \u001b[31m   \u001b[0m copying pandas/tests/series/methods/__init__.py -> build/lib.linux-x86_64-cpython-310/pandas/tests/series/methods\n",
      "  \u001b[31m   \u001b[0m copying pandas/tests/series/methods/test_align.py -> build/lib.linux-x86_64-cpython-310/pandas/tests/series/methods\n",
      "  \u001b[31m   \u001b[0m copying pandas/tests/series/methods/test_append.py -> build/lib.linux-x86_64-cpython-310/pandas/tests/series/methods\n",
      "  \u001b[31m   \u001b[0m copying pandas/tests/series/methods/test_argsort.py -> build/lib.linux-x86_64-cpython-310/pandas/tests/series/methods\n",
      "  \u001b[31m   \u001b[0m copying pandas/tests/series/methods/test_asfreq.py -> build/lib.linux-x86_64-cpython-310/pandas/tests/series/methods\n",
      "  \u001b[31m   \u001b[0m copying pandas/tests/series/methods/test_asof.py -> build/lib.linux-x86_64-cpython-310/pandas/tests/series/methods\n",
      "  \u001b[31m   \u001b[0m copying pandas/tests/series/methods/test_astype.py -> build/lib.linux-x86_64-cpython-310/pandas/tests/series/methods\n",
      "  \u001b[31m   \u001b[0m copying pandas/tests/series/methods/test_at_time.py -> build/lib.linux-x86_64-cpython-310/pandas/tests/series/methods\n",
      "  \u001b[31m   \u001b[0m copying pandas/tests/series/methods/test_autocorr.py -> build/lib.linux-x86_64-cpython-310/pandas/tests/series/methods\n",
      "  \u001b[31m   \u001b[0m copying pandas/tests/series/methods/test_between.py -> build/lib.linux-x86_64-cpython-310/pandas/tests/series/methods\n",
      "  \u001b[31m   \u001b[0m copying pandas/tests/series/methods/test_between_time.py -> build/lib.linux-x86_64-cpython-310/pandas/tests/series/methods\n",
      "  \u001b[31m   \u001b[0m copying pandas/tests/series/methods/test_clip.py -> build/lib.linux-x86_64-cpython-310/pandas/tests/series/methods\n",
      "  \u001b[31m   \u001b[0m copying pandas/tests/series/methods/test_combine.py -> build/lib.linux-x86_64-cpython-310/pandas/tests/series/methods\n",
      "  \u001b[31m   \u001b[0m copying pandas/tests/series/methods/test_combine_first.py -> build/lib.linux-x86_64-cpython-310/pandas/tests/series/methods\n",
      "  \u001b[31m   \u001b[0m copying pandas/tests/series/methods/test_compare.py -> build/lib.linux-x86_64-cpython-310/pandas/tests/series/methods\n",
      "  \u001b[31m   \u001b[0m copying pandas/tests/series/methods/test_convert_dtypes.py -> build/lib.linux-x86_64-cpython-310/pandas/tests/series/methods\n",
      "  \u001b[31m   \u001b[0m copying pandas/tests/series/methods/test_count.py -> build/lib.linux-x86_64-cpython-310/pandas/tests/series/methods\n",
      "  \u001b[31m   \u001b[0m copying pandas/tests/series/methods/test_cov_corr.py -> build/lib.linux-x86_64-cpython-310/pandas/tests/series/methods\n",
      "  \u001b[31m   \u001b[0m copying pandas/tests/series/methods/test_describe.py -> build/lib.linux-x86_64-cpython-310/pandas/tests/series/methods\n",
      "  \u001b[31m   \u001b[0m copying pandas/tests/series/methods/test_diff.py -> build/lib.linux-x86_64-cpython-310/pandas/tests/series/methods\n",
      "  \u001b[31m   \u001b[0m copying pandas/tests/series/methods/test_drop.py -> build/lib.linux-x86_64-cpython-310/pandas/tests/series/methods\n",
      "  \u001b[31m   \u001b[0m copying pandas/tests/series/methods/test_drop_duplicates.py -> build/lib.linux-x86_64-cpython-310/pandas/tests/series/methods\n",
      "  \u001b[31m   \u001b[0m copying pandas/tests/series/methods/test_droplevel.py -> build/lib.linux-x86_64-cpython-310/pandas/tests/series/methods\n",
      "  \u001b[31m   \u001b[0m copying pandas/tests/series/methods/test_duplicated.py -> build/lib.linux-x86_64-cpython-310/pandas/tests/series/methods\n",
      "  \u001b[31m   \u001b[0m copying pandas/tests/series/methods/test_equals.py -> build/lib.linux-x86_64-cpython-310/pandas/tests/series/methods\n",
      "  \u001b[31m   \u001b[0m copying pandas/tests/series/methods/test_explode.py -> build/lib.linux-x86_64-cpython-310/pandas/tests/series/methods\n",
      "  \u001b[31m   \u001b[0m copying pandas/tests/series/methods/test_fillna.py -> build/lib.linux-x86_64-cpython-310/pandas/tests/series/methods\n",
      "  \u001b[31m   \u001b[0m copying pandas/tests/series/methods/test_first_and_last.py -> build/lib.linux-x86_64-cpython-310/pandas/tests/series/methods\n",
      "  \u001b[31m   \u001b[0m copying pandas/tests/series/methods/test_head_tail.py -> build/lib.linux-x86_64-cpython-310/pandas/tests/series/methods\n",
      "  \u001b[31m   \u001b[0m copying pandas/tests/series/methods/test_interpolate.py -> build/lib.linux-x86_64-cpython-310/pandas/tests/series/methods\n",
      "  \u001b[31m   \u001b[0m copying pandas/tests/series/methods/test_isin.py -> build/lib.linux-x86_64-cpython-310/pandas/tests/series/methods\n",
      "  \u001b[31m   \u001b[0m copying pandas/tests/series/methods/test_nlargest.py -> build/lib.linux-x86_64-cpython-310/pandas/tests/series/methods\n",
      "  \u001b[31m   \u001b[0m copying pandas/tests/series/methods/test_pct_change.py -> build/lib.linux-x86_64-cpython-310/pandas/tests/series/methods\n",
      "  \u001b[31m   \u001b[0m copying pandas/tests/series/methods/test_quantile.py -> build/lib.linux-x86_64-cpython-310/pandas/tests/series/methods\n",
      "  \u001b[31m   \u001b[0m copying pandas/tests/series/methods/test_rank.py -> build/lib.linux-x86_64-cpython-310/pandas/tests/series/methods\n",
      "  \u001b[31m   \u001b[0m copying pandas/tests/series/methods/test_reindex_like.py -> build/lib.linux-x86_64-cpython-310/pandas/tests/series/methods\n",
      "  \u001b[31m   \u001b[0m copying pandas/tests/series/methods/test_rename.py -> build/lib.linux-x86_64-cpython-310/pandas/tests/series/methods\n",
      "  \u001b[31m   \u001b[0m copying pandas/tests/series/methods/test_rename_axis.py -> build/lib.linux-x86_64-cpython-310/pandas/tests/series/methods\n",
      "  \u001b[31m   \u001b[0m copying pandas/tests/series/methods/test_replace.py -> build/lib.linux-x86_64-cpython-310/pandas/tests/series/methods\n",
      "  \u001b[31m   \u001b[0m copying pandas/tests/series/methods/test_reset_index.py -> build/lib.linux-x86_64-cpython-310/pandas/tests/series/methods\n",
      "  \u001b[31m   \u001b[0m copying pandas/tests/series/methods/test_round.py -> build/lib.linux-x86_64-cpython-310/pandas/tests/series/methods\n",
      "  \u001b[31m   \u001b[0m copying pandas/tests/series/methods/test_searchsorted.py -> build/lib.linux-x86_64-cpython-310/pandas/tests/series/methods\n",
      "  \u001b[31m   \u001b[0m copying pandas/tests/series/methods/test_shift.py -> build/lib.linux-x86_64-cpython-310/pandas/tests/series/methods\n",
      "  \u001b[31m   \u001b[0m copying pandas/tests/series/methods/test_sort_index.py -> build/lib.linux-x86_64-cpython-310/pandas/tests/series/methods\n",
      "  \u001b[31m   \u001b[0m copying pandas/tests/series/methods/test_sort_values.py -> build/lib.linux-x86_64-cpython-310/pandas/tests/series/methods\n",
      "  \u001b[31m   \u001b[0m copying pandas/tests/series/methods/test_to_dict.py -> build/lib.linux-x86_64-cpython-310/pandas/tests/series/methods\n",
      "  \u001b[31m   \u001b[0m copying pandas/tests/series/methods/test_to_period.py -> build/lib.linux-x86_64-cpython-310/pandas/tests/series/methods\n",
      "  \u001b[31m   \u001b[0m copying pandas/tests/series/methods/test_to_timestamp.py -> build/lib.linux-x86_64-cpython-310/pandas/tests/series/methods\n",
      "  \u001b[31m   \u001b[0m copying pandas/tests/series/methods/test_truncate.py -> build/lib.linux-x86_64-cpython-310/pandas/tests/series/methods\n",
      "  \u001b[31m   \u001b[0m copying pandas/tests/series/methods/test_tz_convert.py -> build/lib.linux-x86_64-cpython-310/pandas/tests/series/methods\n",
      "  \u001b[31m   \u001b[0m copying pandas/tests/series/methods/test_tz_localize.py -> build/lib.linux-x86_64-cpython-310/pandas/tests/series/methods\n",
      "  \u001b[31m   \u001b[0m copying pandas/tests/series/methods/test_unstack.py -> build/lib.linux-x86_64-cpython-310/pandas/tests/series/methods\n",
      "  \u001b[31m   \u001b[0m copying pandas/tests/series/methods/test_update.py -> build/lib.linux-x86_64-cpython-310/pandas/tests/series/methods\n",
      "  \u001b[31m   \u001b[0m copying pandas/tests/series/methods/test_value_counts.py -> build/lib.linux-x86_64-cpython-310/pandas/tests/series/methods\n",
      "  \u001b[31m   \u001b[0m creating build/lib.linux-x86_64-cpython-310/pandas/tests/tseries/frequencies\n",
      "  \u001b[31m   \u001b[0m copying pandas/tests/tseries/frequencies/__init__.py -> build/lib.linux-x86_64-cpython-310/pandas/tests/tseries/frequencies\n",
      "  \u001b[31m   \u001b[0m copying pandas/tests/tseries/frequencies/test_freq_code.py -> build/lib.linux-x86_64-cpython-310/pandas/tests/tseries/frequencies\n",
      "  \u001b[31m   \u001b[0m copying pandas/tests/tseries/frequencies/test_frequencies.py -> build/lib.linux-x86_64-cpython-310/pandas/tests/tseries/frequencies\n",
      "  \u001b[31m   \u001b[0m copying pandas/tests/tseries/frequencies/test_inference.py -> build/lib.linux-x86_64-cpython-310/pandas/tests/tseries/frequencies\n",
      "  \u001b[31m   \u001b[0m creating build/lib.linux-x86_64-cpython-310/pandas/tests/tseries/holiday\n",
      "  \u001b[31m   \u001b[0m copying pandas/tests/tseries/holiday/__init__.py -> build/lib.linux-x86_64-cpython-310/pandas/tests/tseries/holiday\n",
      "  \u001b[31m   \u001b[0m copying pandas/tests/tseries/holiday/test_calendar.py -> build/lib.linux-x86_64-cpython-310/pandas/tests/tseries/holiday\n",
      "  \u001b[31m   \u001b[0m copying pandas/tests/tseries/holiday/test_federal.py -> build/lib.linux-x86_64-cpython-310/pandas/tests/tseries/holiday\n",
      "  \u001b[31m   \u001b[0m copying pandas/tests/tseries/holiday/test_holiday.py -> build/lib.linux-x86_64-cpython-310/pandas/tests/tseries/holiday\n",
      "  \u001b[31m   \u001b[0m copying pandas/tests/tseries/holiday/test_observance.py -> build/lib.linux-x86_64-cpython-310/pandas/tests/tseries/holiday\n",
      "  \u001b[31m   \u001b[0m creating build/lib.linux-x86_64-cpython-310/pandas/tests/tseries/offsets\n",
      "  \u001b[31m   \u001b[0m copying pandas/tests/tseries/offsets/__init__.py -> build/lib.linux-x86_64-cpython-310/pandas/tests/tseries/offsets\n",
      "  \u001b[31m   \u001b[0m copying pandas/tests/tseries/offsets/common.py -> build/lib.linux-x86_64-cpython-310/pandas/tests/tseries/offsets\n",
      "  \u001b[31m   \u001b[0m copying pandas/tests/tseries/offsets/conftest.py -> build/lib.linux-x86_64-cpython-310/pandas/tests/tseries/offsets\n",
      "  \u001b[31m   \u001b[0m copying pandas/tests/tseries/offsets/test_fiscal.py -> build/lib.linux-x86_64-cpython-310/pandas/tests/tseries/offsets\n",
      "  \u001b[31m   \u001b[0m copying pandas/tests/tseries/offsets/test_offsets.py -> build/lib.linux-x86_64-cpython-310/pandas/tests/tseries/offsets\n",
      "  \u001b[31m   \u001b[0m copying pandas/tests/tseries/offsets/test_offsets_properties.py -> build/lib.linux-x86_64-cpython-310/pandas/tests/tseries/offsets\n",
      "  \u001b[31m   \u001b[0m copying pandas/tests/tseries/offsets/test_ticks.py -> build/lib.linux-x86_64-cpython-310/pandas/tests/tseries/offsets\n",
      "  \u001b[31m   \u001b[0m copying pandas/tests/tseries/offsets/test_yqm_offsets.py -> build/lib.linux-x86_64-cpython-310/pandas/tests/tseries/offsets\n",
      "  \u001b[31m   \u001b[0m creating build/lib.linux-x86_64-cpython-310/pandas/io/formats/templates\n",
      "  \u001b[31m   \u001b[0m copying pandas/io/formats/templates/html.tpl -> build/lib.linux-x86_64-cpython-310/pandas/io/formats/templates\n",
      "  \u001b[31m   \u001b[0m UPDATING build/lib.linux-x86_64-cpython-310/pandas/_version.py\n",
      "  \u001b[31m   \u001b[0m set build/lib.linux-x86_64-cpython-310/pandas/_version.py to '1.1.4'\n",
      "  \u001b[31m   \u001b[0m running build_ext\n",
      "  \u001b[31m   \u001b[0m building 'pandas._libs.algos' extension\n",
      "  \u001b[31m   \u001b[0m creating build/temp.linux-x86_64-cpython-310\n",
      "  \u001b[31m   \u001b[0m creating build/temp.linux-x86_64-cpython-310/pandas\n",
      "  \u001b[31m   \u001b[0m creating build/temp.linux-x86_64-cpython-310/pandas/_libs\n",
      "  \u001b[31m   \u001b[0m gcc -pthread -B /opt/conda/compiler_compat -Wno-unused-result -Wsign-compare -DNDEBUG -fwrapv -O2 -Wall -fPIC -O2 -isystem /opt/conda/include -fPIC -O2 -isystem /opt/conda/include -fPIC -DNPY_NO_DEPRECATED_API=0 -I./pandas/_libs -Ipandas/_libs/src/klib -I/tmp/pip-build-env-m3czlh77/overlay/lib/python3.10/site-packages/numpy/core/include -I/opt/conda/include/python3.10 -c pandas/_libs/algos.c -o build/temp.linux-x86_64-cpython-310/pandas/_libs/algos.o -Werror\n",
      "  \u001b[31m   \u001b[0m gcc -pthread -B /opt/conda/compiler_compat -shared -Wl,-rpath,/opt/conda/lib -Wl,-rpath-link,/opt/conda/lib -L/opt/conda/lib -Wl,-rpath,/opt/conda/lib -Wl,-rpath-link,/opt/conda/lib -L/opt/conda/lib build/temp.linux-x86_64-cpython-310/pandas/_libs/algos.o -o build/lib.linux-x86_64-cpython-310/pandas/_libs/algos.cpython-310-x86_64-linux-gnu.so\n",
      "  \u001b[31m   \u001b[0m building 'pandas._libs.groupby' extension\n",
      "  \u001b[31m   \u001b[0m gcc -pthread -B /opt/conda/compiler_compat -Wno-unused-result -Wsign-compare -DNDEBUG -fwrapv -O2 -Wall -fPIC -O2 -isystem /opt/conda/include -fPIC -O2 -isystem /opt/conda/include -fPIC -DNPY_NO_DEPRECATED_API=0 -I./pandas/_libs -I/tmp/pip-build-env-m3czlh77/overlay/lib/python3.10/site-packages/numpy/core/include -I/opt/conda/include/python3.10 -c pandas/_libs/groupby.c -o build/temp.linux-x86_64-cpython-310/pandas/_libs/groupby.o -Werror\n",
      "  \u001b[31m   \u001b[0m gcc -pthread -B /opt/conda/compiler_compat -shared -Wl,-rpath,/opt/conda/lib -Wl,-rpath-link,/opt/conda/lib -L/opt/conda/lib -Wl,-rpath,/opt/conda/lib -Wl,-rpath-link,/opt/conda/lib -L/opt/conda/lib build/temp.linux-x86_64-cpython-310/pandas/_libs/groupby.o -o build/lib.linux-x86_64-cpython-310/pandas/_libs/groupby.cpython-310-x86_64-linux-gnu.so\n",
      "  \u001b[31m   \u001b[0m building 'pandas._libs.hashing' extension\n",
      "  \u001b[31m   \u001b[0m gcc -pthread -B /opt/conda/compiler_compat -Wno-unused-result -Wsign-compare -DNDEBUG -fwrapv -O2 -Wall -fPIC -O2 -isystem /opt/conda/include -fPIC -O2 -isystem /opt/conda/include -fPIC -DNPY_NO_DEPRECATED_API=0 -I./pandas/_libs -I/tmp/pip-build-env-m3czlh77/overlay/lib/python3.10/site-packages/numpy/core/include -I/opt/conda/include/python3.10 -c pandas/_libs/hashing.c -o build/temp.linux-x86_64-cpython-310/pandas/_libs/hashing.o -Werror\n",
      "  \u001b[31m   \u001b[0m gcc -pthread -B /opt/conda/compiler_compat -shared -Wl,-rpath,/opt/conda/lib -Wl,-rpath-link,/opt/conda/lib -L/opt/conda/lib -Wl,-rpath,/opt/conda/lib -Wl,-rpath-link,/opt/conda/lib -L/opt/conda/lib build/temp.linux-x86_64-cpython-310/pandas/_libs/hashing.o -o build/lib.linux-x86_64-cpython-310/pandas/_libs/hashing.cpython-310-x86_64-linux-gnu.so\n",
      "  \u001b[31m   \u001b[0m building 'pandas._libs.hashtable' extension\n",
      "  \u001b[31m   \u001b[0m gcc -pthread -B /opt/conda/compiler_compat -Wno-unused-result -Wsign-compare -DNDEBUG -fwrapv -O2 -Wall -fPIC -O2 -isystem /opt/conda/include -fPIC -O2 -isystem /opt/conda/include -fPIC -DNPY_NO_DEPRECATED_API=0 -Ipandas/_libs/src/klib -I/tmp/pip-build-env-m3czlh77/overlay/lib/python3.10/site-packages/numpy/core/include -I/opt/conda/include/python3.10 -c pandas/_libs/hashtable.c -o build/temp.linux-x86_64-cpython-310/pandas/_libs/hashtable.o -Werror\n",
      "  \u001b[31m   \u001b[0m gcc -pthread -B /opt/conda/compiler_compat -shared -Wl,-rpath,/opt/conda/lib -Wl,-rpath-link,/opt/conda/lib -L/opt/conda/lib -Wl,-rpath,/opt/conda/lib -Wl,-rpath-link,/opt/conda/lib -L/opt/conda/lib build/temp.linux-x86_64-cpython-310/pandas/_libs/hashtable.o -o build/lib.linux-x86_64-cpython-310/pandas/_libs/hashtable.cpython-310-x86_64-linux-gnu.so\n",
      "  \u001b[31m   \u001b[0m building 'pandas._libs.index' extension\n",
      "  \u001b[31m   \u001b[0m gcc -pthread -B /opt/conda/compiler_compat -Wno-unused-result -Wsign-compare -DNDEBUG -fwrapv -O2 -Wall -fPIC -O2 -isystem /opt/conda/include -fPIC -O2 -isystem /opt/conda/include -fPIC -DNPY_NO_DEPRECATED_API=0 -I./pandas/_libs/tslibs -Ipandas/_libs/src/klib -I/tmp/pip-build-env-m3czlh77/overlay/lib/python3.10/site-packages/numpy/core/include -I/opt/conda/include/python3.10 -c pandas/_libs/index.c -o build/temp.linux-x86_64-cpython-310/pandas/_libs/index.o -Werror\n",
      "  \u001b[31m   \u001b[0m gcc -pthread -B /opt/conda/compiler_compat -shared -Wl,-rpath,/opt/conda/lib -Wl,-rpath-link,/opt/conda/lib -L/opt/conda/lib -Wl,-rpath,/opt/conda/lib -Wl,-rpath-link,/opt/conda/lib -L/opt/conda/lib build/temp.linux-x86_64-cpython-310/pandas/_libs/index.o -o build/lib.linux-x86_64-cpython-310/pandas/_libs/index.cpython-310-x86_64-linux-gnu.so\n",
      "  \u001b[31m   \u001b[0m building 'pandas._libs.indexing' extension\n",
      "  \u001b[31m   \u001b[0m gcc -pthread -B /opt/conda/compiler_compat -Wno-unused-result -Wsign-compare -DNDEBUG -fwrapv -O2 -Wall -fPIC -O2 -isystem /opt/conda/include -fPIC -O2 -isystem /opt/conda/include -fPIC -DNPY_NO_DEPRECATED_API=0 -I/tmp/pip-build-env-m3czlh77/overlay/lib/python3.10/site-packages/numpy/core/include -I/opt/conda/include/python3.10 -c pandas/_libs/indexing.c -o build/temp.linux-x86_64-cpython-310/pandas/_libs/indexing.o -Werror\n",
      "  \u001b[31m   \u001b[0m gcc -pthread -B /opt/conda/compiler_compat -shared -Wl,-rpath,/opt/conda/lib -Wl,-rpath-link,/opt/conda/lib -L/opt/conda/lib -Wl,-rpath,/opt/conda/lib -Wl,-rpath-link,/opt/conda/lib -L/opt/conda/lib build/temp.linux-x86_64-cpython-310/pandas/_libs/indexing.o -o build/lib.linux-x86_64-cpython-310/pandas/_libs/indexing.cpython-310-x86_64-linux-gnu.so\n",
      "  \u001b[31m   \u001b[0m building 'pandas._libs.internals' extension\n",
      "  \u001b[31m   \u001b[0m gcc -pthread -B /opt/conda/compiler_compat -Wno-unused-result -Wsign-compare -DNDEBUG -fwrapv -O2 -Wall -fPIC -O2 -isystem /opt/conda/include -fPIC -O2 -isystem /opt/conda/include -fPIC -DNPY_NO_DEPRECATED_API=0 -I/tmp/pip-build-env-m3czlh77/overlay/lib/python3.10/site-packages/numpy/core/include -I/opt/conda/include/python3.10 -c pandas/_libs/internals.c -o build/temp.linux-x86_64-cpython-310/pandas/_libs/internals.o -Werror\n",
      "  \u001b[31m   \u001b[0m gcc -pthread -B /opt/conda/compiler_compat -shared -Wl,-rpath,/opt/conda/lib -Wl,-rpath-link,/opt/conda/lib -L/opt/conda/lib -Wl,-rpath,/opt/conda/lib -Wl,-rpath-link,/opt/conda/lib -L/opt/conda/lib build/temp.linux-x86_64-cpython-310/pandas/_libs/internals.o -o build/lib.linux-x86_64-cpython-310/pandas/_libs/internals.cpython-310-x86_64-linux-gnu.so\n",
      "  \u001b[31m   \u001b[0m building 'pandas._libs.interval' extension\n",
      "  \u001b[31m   \u001b[0m gcc -pthread -B /opt/conda/compiler_compat -Wno-unused-result -Wsign-compare -DNDEBUG -fwrapv -O2 -Wall -fPIC -O2 -isystem /opt/conda/include -fPIC -O2 -isystem /opt/conda/include -fPIC -DNPY_NO_DEPRECATED_API=0 -I./pandas/_libs/tslibs -Ipandas/_libs/src/klib -I/tmp/pip-build-env-m3czlh77/overlay/lib/python3.10/site-packages/numpy/core/include -I/opt/conda/include/python3.10 -c pandas/_libs/interval.c -o build/temp.linux-x86_64-cpython-310/pandas/_libs/interval.o -Werror\n",
      "  \u001b[31m   \u001b[0m gcc -pthread -B /opt/conda/compiler_compat -shared -Wl,-rpath,/opt/conda/lib -Wl,-rpath-link,/opt/conda/lib -L/opt/conda/lib -Wl,-rpath,/opt/conda/lib -Wl,-rpath-link,/opt/conda/lib -L/opt/conda/lib build/temp.linux-x86_64-cpython-310/pandas/_libs/interval.o -o build/lib.linux-x86_64-cpython-310/pandas/_libs/interval.cpython-310-x86_64-linux-gnu.so\n",
      "  \u001b[31m   \u001b[0m building 'pandas._libs.join' extension\n",
      "  \u001b[31m   \u001b[0m gcc -pthread -B /opt/conda/compiler_compat -Wno-unused-result -Wsign-compare -DNDEBUG -fwrapv -O2 -Wall -fPIC -O2 -isystem /opt/conda/include -fPIC -O2 -isystem /opt/conda/include -fPIC -DNPY_NO_DEPRECATED_API=0 -Ipandas/_libs/src/klib -I/tmp/pip-build-env-m3czlh77/overlay/lib/python3.10/site-packages/numpy/core/include -I/opt/conda/include/python3.10 -c pandas/_libs/join.c -o build/temp.linux-x86_64-cpython-310/pandas/_libs/join.o -Werror\n",
      "  \u001b[31m   \u001b[0m gcc -pthread -B /opt/conda/compiler_compat -shared -Wl,-rpath,/opt/conda/lib -Wl,-rpath-link,/opt/conda/lib -L/opt/conda/lib -Wl,-rpath,/opt/conda/lib -Wl,-rpath-link,/opt/conda/lib -L/opt/conda/lib build/temp.linux-x86_64-cpython-310/pandas/_libs/join.o -o build/lib.linux-x86_64-cpython-310/pandas/_libs/join.cpython-310-x86_64-linux-gnu.so\n",
      "  \u001b[31m   \u001b[0m building 'pandas._libs.lib' extension\n",
      "  \u001b[31m   \u001b[0m creating build/temp.linux-x86_64-cpython-310/pandas/_libs/src\n",
      "  \u001b[31m   \u001b[0m creating build/temp.linux-x86_64-cpython-310/pandas/_libs/src/parser\n",
      "  \u001b[31m   \u001b[0m gcc -pthread -B /opt/conda/compiler_compat -Wno-unused-result -Wsign-compare -DNDEBUG -fwrapv -O2 -Wall -fPIC -O2 -isystem /opt/conda/include -fPIC -O2 -isystem /opt/conda/include -fPIC -DNPY_NO_DEPRECATED_API=0 -Ipandas/_libs -I./pandas/_libs -I./pandas/_libs/tslibs -Ipandas/_libs/src/klib -I/tmp/pip-build-env-m3czlh77/overlay/lib/python3.10/site-packages/numpy/core/include -I/opt/conda/include/python3.10 -c pandas/_libs/lib.c -o build/temp.linux-x86_64-cpython-310/pandas/_libs/lib.o -Werror\n",
      "  \u001b[31m   \u001b[0m gcc -pthread -B /opt/conda/compiler_compat -Wno-unused-result -Wsign-compare -DNDEBUG -fwrapv -O2 -Wall -fPIC -O2 -isystem /opt/conda/include -fPIC -O2 -isystem /opt/conda/include -fPIC -DNPY_NO_DEPRECATED_API=0 -Ipandas/_libs -I./pandas/_libs -I./pandas/_libs/tslibs -Ipandas/_libs/src/klib -I/tmp/pip-build-env-m3czlh77/overlay/lib/python3.10/site-packages/numpy/core/include -I/opt/conda/include/python3.10 -c pandas/_libs/src/parser/tokenizer.c -o build/temp.linux-x86_64-cpython-310/pandas/_libs/src/parser/tokenizer.o -Werror\n",
      "  \u001b[31m   \u001b[0m gcc -pthread -B /opt/conda/compiler_compat -shared -Wl,-rpath,/opt/conda/lib -Wl,-rpath-link,/opt/conda/lib -L/opt/conda/lib -Wl,-rpath,/opt/conda/lib -Wl,-rpath-link,/opt/conda/lib -L/opt/conda/lib build/temp.linux-x86_64-cpython-310/pandas/_libs/lib.o build/temp.linux-x86_64-cpython-310/pandas/_libs/src/parser/tokenizer.o -o build/lib.linux-x86_64-cpython-310/pandas/_libs/lib.cpython-310-x86_64-linux-gnu.so\n",
      "  \u001b[31m   \u001b[0m building 'pandas._libs.missing' extension\n",
      "  \u001b[31m   \u001b[0m gcc -pthread -B /opt/conda/compiler_compat -Wno-unused-result -Wsign-compare -DNDEBUG -fwrapv -O2 -Wall -fPIC -O2 -isystem /opt/conda/include -fPIC -O2 -isystem /opt/conda/include -fPIC -DNPY_NO_DEPRECATED_API=0 -I./pandas/_libs/tslibs -I/tmp/pip-build-env-m3czlh77/overlay/lib/python3.10/site-packages/numpy/core/include -I/opt/conda/include/python3.10 -c pandas/_libs/missing.c -o build/temp.linux-x86_64-cpython-310/pandas/_libs/missing.o -Werror\n",
      "  \u001b[31m   \u001b[0m gcc -pthread -B /opt/conda/compiler_compat -shared -Wl,-rpath,/opt/conda/lib -Wl,-rpath-link,/opt/conda/lib -L/opt/conda/lib -Wl,-rpath,/opt/conda/lib -Wl,-rpath-link,/opt/conda/lib -L/opt/conda/lib build/temp.linux-x86_64-cpython-310/pandas/_libs/missing.o -o build/lib.linux-x86_64-cpython-310/pandas/_libs/missing.cpython-310-x86_64-linux-gnu.so\n",
      "  \u001b[31m   \u001b[0m building 'pandas._libs.parsers' extension\n",
      "  \u001b[31m   \u001b[0m gcc -pthread -B /opt/conda/compiler_compat -Wno-unused-result -Wsign-compare -DNDEBUG -fwrapv -O2 -Wall -fPIC -O2 -isystem /opt/conda/include -fPIC -O2 -isystem /opt/conda/include -fPIC -DNPY_NO_DEPRECATED_API=0 -I./pandas/_libs -Ipandas/_libs/src/klib -Ipandas/_libs/src -I/tmp/pip-build-env-m3czlh77/overlay/lib/python3.10/site-packages/numpy/core/include -I/opt/conda/include/python3.10 -c pandas/_libs/parsers.c -o build/temp.linux-x86_64-cpython-310/pandas/_libs/parsers.o -Werror\n",
      "  \u001b[31m   \u001b[0m gcc -pthread -B /opt/conda/compiler_compat -Wno-unused-result -Wsign-compare -DNDEBUG -fwrapv -O2 -Wall -fPIC -O2 -isystem /opt/conda/include -fPIC -O2 -isystem /opt/conda/include -fPIC -DNPY_NO_DEPRECATED_API=0 -I./pandas/_libs -Ipandas/_libs/src/klib -Ipandas/_libs/src -I/tmp/pip-build-env-m3czlh77/overlay/lib/python3.10/site-packages/numpy/core/include -I/opt/conda/include/python3.10 -c pandas/_libs/src/parser/io.c -o build/temp.linux-x86_64-cpython-310/pandas/_libs/src/parser/io.o -Werror\n",
      "  \u001b[31m   \u001b[0m gcc -pthread -B /opt/conda/compiler_compat -Wno-unused-result -Wsign-compare -DNDEBUG -fwrapv -O2 -Wall -fPIC -O2 -isystem /opt/conda/include -fPIC -O2 -isystem /opt/conda/include -fPIC -DNPY_NO_DEPRECATED_API=0 -I./pandas/_libs -Ipandas/_libs/src/klib -Ipandas/_libs/src -I/tmp/pip-build-env-m3czlh77/overlay/lib/python3.10/site-packages/numpy/core/include -I/opt/conda/include/python3.10 -c pandas/_libs/src/parser/tokenizer.c -o build/temp.linux-x86_64-cpython-310/pandas/_libs/src/parser/tokenizer.o -Werror\n",
      "  \u001b[31m   \u001b[0m gcc -pthread -B /opt/conda/compiler_compat -shared -Wl,-rpath,/opt/conda/lib -Wl,-rpath-link,/opt/conda/lib -L/opt/conda/lib -Wl,-rpath,/opt/conda/lib -Wl,-rpath-link,/opt/conda/lib -L/opt/conda/lib build/temp.linux-x86_64-cpython-310/pandas/_libs/parsers.o build/temp.linux-x86_64-cpython-310/pandas/_libs/src/parser/io.o build/temp.linux-x86_64-cpython-310/pandas/_libs/src/parser/tokenizer.o -o build/lib.linux-x86_64-cpython-310/pandas/_libs/parsers.cpython-310-x86_64-linux-gnu.so\n",
      "  \u001b[31m   \u001b[0m building 'pandas._libs.reduction' extension\n",
      "  \u001b[31m   \u001b[0m gcc -pthread -B /opt/conda/compiler_compat -Wno-unused-result -Wsign-compare -DNDEBUG -fwrapv -O2 -Wall -fPIC -O2 -isystem /opt/conda/include -fPIC -O2 -isystem /opt/conda/include -fPIC -DNPY_NO_DEPRECATED_API=0 -I/tmp/pip-build-env-m3czlh77/overlay/lib/python3.10/site-packages/numpy/core/include -I/opt/conda/include/python3.10 -c pandas/_libs/reduction.c -o build/temp.linux-x86_64-cpython-310/pandas/_libs/reduction.o -Werror\n",
      "  \u001b[31m   \u001b[0m gcc -pthread -B /opt/conda/compiler_compat -shared -Wl,-rpath,/opt/conda/lib -Wl,-rpath-link,/opt/conda/lib -L/opt/conda/lib -Wl,-rpath,/opt/conda/lib -Wl,-rpath-link,/opt/conda/lib -L/opt/conda/lib build/temp.linux-x86_64-cpython-310/pandas/_libs/reduction.o -o build/lib.linux-x86_64-cpython-310/pandas/_libs/reduction.cpython-310-x86_64-linux-gnu.so\n",
      "  \u001b[31m   \u001b[0m building 'pandas._libs.ops' extension\n",
      "  \u001b[31m   \u001b[0m gcc -pthread -B /opt/conda/compiler_compat -Wno-unused-result -Wsign-compare -DNDEBUG -fwrapv -O2 -Wall -fPIC -O2 -isystem /opt/conda/include -fPIC -O2 -isystem /opt/conda/include -fPIC -DNPY_NO_DEPRECATED_API=0 -I./pandas/_libs -I/tmp/pip-build-env-m3czlh77/overlay/lib/python3.10/site-packages/numpy/core/include -I/opt/conda/include/python3.10 -c pandas/_libs/ops.c -o build/temp.linux-x86_64-cpython-310/pandas/_libs/ops.o -Werror\n",
      "  \u001b[31m   \u001b[0m gcc -pthread -B /opt/conda/compiler_compat -shared -Wl,-rpath,/opt/conda/lib -Wl,-rpath-link,/opt/conda/lib -L/opt/conda/lib -Wl,-rpath,/opt/conda/lib -Wl,-rpath-link,/opt/conda/lib -L/opt/conda/lib build/temp.linux-x86_64-cpython-310/pandas/_libs/ops.o -o build/lib.linux-x86_64-cpython-310/pandas/_libs/ops.cpython-310-x86_64-linux-gnu.so\n",
      "  \u001b[31m   \u001b[0m building 'pandas._libs.ops_dispatch' extension\n",
      "  \u001b[31m   \u001b[0m gcc -pthread -B /opt/conda/compiler_compat -Wno-unused-result -Wsign-compare -DNDEBUG -fwrapv -O2 -Wall -fPIC -O2 -isystem /opt/conda/include -fPIC -O2 -isystem /opt/conda/include -fPIC -DNPY_NO_DEPRECATED_API=0 -I/tmp/pip-build-env-m3czlh77/overlay/lib/python3.10/site-packages/numpy/core/include -I/opt/conda/include/python3.10 -c pandas/_libs/ops_dispatch.c -o build/temp.linux-x86_64-cpython-310/pandas/_libs/ops_dispatch.o -Werror\n",
      "  \u001b[31m   \u001b[0m gcc -pthread -B /opt/conda/compiler_compat -shared -Wl,-rpath,/opt/conda/lib -Wl,-rpath-link,/opt/conda/lib -L/opt/conda/lib -Wl,-rpath,/opt/conda/lib -Wl,-rpath-link,/opt/conda/lib -L/opt/conda/lib build/temp.linux-x86_64-cpython-310/pandas/_libs/ops_dispatch.o -o build/lib.linux-x86_64-cpython-310/pandas/_libs/ops_dispatch.cpython-310-x86_64-linux-gnu.so\n",
      "  \u001b[31m   \u001b[0m building 'pandas._libs.properties' extension\n",
      "  \u001b[31m   \u001b[0m gcc -pthread -B /opt/conda/compiler_compat -Wno-unused-result -Wsign-compare -DNDEBUG -fwrapv -O2 -Wall -fPIC -O2 -isystem /opt/conda/include -fPIC -O2 -isystem /opt/conda/include -fPIC -DNPY_NO_DEPRECATED_API=0 -I/tmp/pip-build-env-m3czlh77/overlay/lib/python3.10/site-packages/numpy/core/include -I/opt/conda/include/python3.10 -c pandas/_libs/properties.c -o build/temp.linux-x86_64-cpython-310/pandas/_libs/properties.o -Werror\n",
      "  \u001b[31m   \u001b[0m gcc -pthread -B /opt/conda/compiler_compat -shared -Wl,-rpath,/opt/conda/lib -Wl,-rpath-link,/opt/conda/lib -L/opt/conda/lib -Wl,-rpath,/opt/conda/lib -Wl,-rpath-link,/opt/conda/lib -L/opt/conda/lib build/temp.linux-x86_64-cpython-310/pandas/_libs/properties.o -o build/lib.linux-x86_64-cpython-310/pandas/_libs/properties.cpython-310-x86_64-linux-gnu.so\n",
      "  \u001b[31m   \u001b[0m building 'pandas._libs.reshape' extension\n",
      "  \u001b[31m   \u001b[0m gcc -pthread -B /opt/conda/compiler_compat -Wno-unused-result -Wsign-compare -DNDEBUG -fwrapv -O2 -Wall -fPIC -O2 -isystem /opt/conda/include -fPIC -O2 -isystem /opt/conda/include -fPIC -DNPY_NO_DEPRECATED_API=0 -I/tmp/pip-build-env-m3czlh77/overlay/lib/python3.10/site-packages/numpy/core/include -I/opt/conda/include/python3.10 -c pandas/_libs/reshape.c -o build/temp.linux-x86_64-cpython-310/pandas/_libs/reshape.o -Werror\n",
      "  \u001b[31m   \u001b[0m gcc -pthread -B /opt/conda/compiler_compat -shared -Wl,-rpath,/opt/conda/lib -Wl,-rpath-link,/opt/conda/lib -L/opt/conda/lib -Wl,-rpath,/opt/conda/lib -Wl,-rpath-link,/opt/conda/lib -L/opt/conda/lib build/temp.linux-x86_64-cpython-310/pandas/_libs/reshape.o -o build/lib.linux-x86_64-cpython-310/pandas/_libs/reshape.cpython-310-x86_64-linux-gnu.so\n",
      "  \u001b[31m   \u001b[0m building 'pandas._libs.sparse' extension\n",
      "  \u001b[31m   \u001b[0m gcc -pthread -B /opt/conda/compiler_compat -Wno-unused-result -Wsign-compare -DNDEBUG -fwrapv -O2 -Wall -fPIC -O2 -isystem /opt/conda/include -fPIC -O2 -isystem /opt/conda/include -fPIC -DNPY_NO_DEPRECATED_API=0 -I/tmp/pip-build-env-m3czlh77/overlay/lib/python3.10/site-packages/numpy/core/include -I/opt/conda/include/python3.10 -c pandas/_libs/sparse.c -o build/temp.linux-x86_64-cpython-310/pandas/_libs/sparse.o -Werror\n",
      "  \u001b[31m   \u001b[0m gcc -pthread -B /opt/conda/compiler_compat -shared -Wl,-rpath,/opt/conda/lib -Wl,-rpath-link,/opt/conda/lib -L/opt/conda/lib -Wl,-rpath,/opt/conda/lib -Wl,-rpath-link,/opt/conda/lib -L/opt/conda/lib build/temp.linux-x86_64-cpython-310/pandas/_libs/sparse.o -o build/lib.linux-x86_64-cpython-310/pandas/_libs/sparse.cpython-310-x86_64-linux-gnu.so\n",
      "  \u001b[31m   \u001b[0m building 'pandas._libs.tslib' extension\n",
      "  \u001b[31m   \u001b[0m gcc -pthread -B /opt/conda/compiler_compat -Wno-unused-result -Wsign-compare -DNDEBUG -fwrapv -O2 -Wall -fPIC -O2 -isystem /opt/conda/include -fPIC -O2 -isystem /opt/conda/include -fPIC -DNPY_NO_DEPRECATED_API=0 -I./pandas/_libs/tslibs -I./pandas/_libs -I/tmp/pip-build-env-m3czlh77/overlay/lib/python3.10/site-packages/numpy/core/include -I/opt/conda/include/python3.10 -c pandas/_libs/tslib.c -o build/temp.linux-x86_64-cpython-310/pandas/_libs/tslib.o -Werror\n",
      "  \u001b[31m   \u001b[0m gcc -pthread -B /opt/conda/compiler_compat -shared -Wl,-rpath,/opt/conda/lib -Wl,-rpath-link,/opt/conda/lib -L/opt/conda/lib -Wl,-rpath,/opt/conda/lib -Wl,-rpath-link,/opt/conda/lib -L/opt/conda/lib build/temp.linux-x86_64-cpython-310/pandas/_libs/tslib.o -o build/lib.linux-x86_64-cpython-310/pandas/_libs/tslib.cpython-310-x86_64-linux-gnu.so\n",
      "  \u001b[31m   \u001b[0m building 'pandas._libs.tslibs.base' extension\n",
      "  \u001b[31m   \u001b[0m creating build/temp.linux-x86_64-cpython-310/pandas/_libs/tslibs\n",
      "  \u001b[31m   \u001b[0m gcc -pthread -B /opt/conda/compiler_compat -Wno-unused-result -Wsign-compare -DNDEBUG -fwrapv -O2 -Wall -fPIC -O2 -isystem /opt/conda/include -fPIC -O2 -isystem /opt/conda/include -fPIC -DNPY_NO_DEPRECATED_API=0 -I/tmp/pip-build-env-m3czlh77/overlay/lib/python3.10/site-packages/numpy/core/include -I/opt/conda/include/python3.10 -c pandas/_libs/tslibs/base.c -o build/temp.linux-x86_64-cpython-310/pandas/_libs/tslibs/base.o -Werror\n",
      "  \u001b[31m   \u001b[0m gcc -pthread -B /opt/conda/compiler_compat -shared -Wl,-rpath,/opt/conda/lib -Wl,-rpath-link,/opt/conda/lib -L/opt/conda/lib -Wl,-rpath,/opt/conda/lib -Wl,-rpath-link,/opt/conda/lib -L/opt/conda/lib build/temp.linux-x86_64-cpython-310/pandas/_libs/tslibs/base.o -o build/lib.linux-x86_64-cpython-310/pandas/_libs/tslibs/base.cpython-310-x86_64-linux-gnu.so\n",
      "  \u001b[31m   \u001b[0m building 'pandas._libs.tslibs.ccalendar' extension\n",
      "  \u001b[31m   \u001b[0m gcc -pthread -B /opt/conda/compiler_compat -Wno-unused-result -Wsign-compare -DNDEBUG -fwrapv -O2 -Wall -fPIC -O2 -isystem /opt/conda/include -fPIC -O2 -isystem /opt/conda/include -fPIC -DNPY_NO_DEPRECATED_API=0 -I/tmp/pip-build-env-m3czlh77/overlay/lib/python3.10/site-packages/numpy/core/include -I/opt/conda/include/python3.10 -c pandas/_libs/tslibs/ccalendar.c -o build/temp.linux-x86_64-cpython-310/pandas/_libs/tslibs/ccalendar.o -Werror\n",
      "  \u001b[31m   \u001b[0m gcc -pthread -B /opt/conda/compiler_compat -shared -Wl,-rpath,/opt/conda/lib -Wl,-rpath-link,/opt/conda/lib -L/opt/conda/lib -Wl,-rpath,/opt/conda/lib -Wl,-rpath-link,/opt/conda/lib -L/opt/conda/lib build/temp.linux-x86_64-cpython-310/pandas/_libs/tslibs/ccalendar.o -o build/lib.linux-x86_64-cpython-310/pandas/_libs/tslibs/ccalendar.cpython-310-x86_64-linux-gnu.so\n",
      "  \u001b[31m   \u001b[0m building 'pandas._libs.tslibs.dtypes' extension\n",
      "  \u001b[31m   \u001b[0m gcc -pthread -B /opt/conda/compiler_compat -Wno-unused-result -Wsign-compare -DNDEBUG -fwrapv -O2 -Wall -fPIC -O2 -isystem /opt/conda/include -fPIC -O2 -isystem /opt/conda/include -fPIC -DNPY_NO_DEPRECATED_API=0 -I/tmp/pip-build-env-m3czlh77/overlay/lib/python3.10/site-packages/numpy/core/include -I/opt/conda/include/python3.10 -c pandas/_libs/tslibs/dtypes.c -o build/temp.linux-x86_64-cpython-310/pandas/_libs/tslibs/dtypes.o -Werror\n",
      "  \u001b[31m   \u001b[0m gcc -pthread -B /opt/conda/compiler_compat -shared -Wl,-rpath,/opt/conda/lib -Wl,-rpath-link,/opt/conda/lib -L/opt/conda/lib -Wl,-rpath,/opt/conda/lib -Wl,-rpath-link,/opt/conda/lib -L/opt/conda/lib build/temp.linux-x86_64-cpython-310/pandas/_libs/tslibs/dtypes.o -o build/lib.linux-x86_64-cpython-310/pandas/_libs/tslibs/dtypes.cpython-310-x86_64-linux-gnu.so\n",
      "  \u001b[31m   \u001b[0m building 'pandas._libs.tslibs.conversion' extension\n",
      "  \u001b[31m   \u001b[0m creating build/temp.linux-x86_64-cpython-310/pandas/_libs/tslibs/src\n",
      "  \u001b[31m   \u001b[0m creating build/temp.linux-x86_64-cpython-310/pandas/_libs/tslibs/src/datetime\n",
      "  \u001b[31m   \u001b[0m gcc -pthread -B /opt/conda/compiler_compat -Wno-unused-result -Wsign-compare -DNDEBUG -fwrapv -O2 -Wall -fPIC -O2 -isystem /opt/conda/include -fPIC -O2 -isystem /opt/conda/include -fPIC -DNPY_NO_DEPRECATED_API=0 -I./pandas/_libs/tslibs -I/tmp/pip-build-env-m3czlh77/overlay/lib/python3.10/site-packages/numpy/core/include -I/opt/conda/include/python3.10 -c pandas/_libs/tslibs/conversion.c -o build/temp.linux-x86_64-cpython-310/pandas/_libs/tslibs/conversion.o -Werror\n",
      "  \u001b[31m   \u001b[0m gcc -pthread -B /opt/conda/compiler_compat -Wno-unused-result -Wsign-compare -DNDEBUG -fwrapv -O2 -Wall -fPIC -O2 -isystem /opt/conda/include -fPIC -O2 -isystem /opt/conda/include -fPIC -DNPY_NO_DEPRECATED_API=0 -I./pandas/_libs/tslibs -I/tmp/pip-build-env-m3czlh77/overlay/lib/python3.10/site-packages/numpy/core/include -I/opt/conda/include/python3.10 -c pandas/_libs/tslibs/src/datetime/np_datetime.c -o build/temp.linux-x86_64-cpython-310/pandas/_libs/tslibs/src/datetime/np_datetime.o -Werror\n",
      "  \u001b[31m   \u001b[0m gcc -pthread -B /opt/conda/compiler_compat -shared -Wl,-rpath,/opt/conda/lib -Wl,-rpath-link,/opt/conda/lib -L/opt/conda/lib -Wl,-rpath,/opt/conda/lib -Wl,-rpath-link,/opt/conda/lib -L/opt/conda/lib build/temp.linux-x86_64-cpython-310/pandas/_libs/tslibs/conversion.o build/temp.linux-x86_64-cpython-310/pandas/_libs/tslibs/src/datetime/np_datetime.o -o build/lib.linux-x86_64-cpython-310/pandas/_libs/tslibs/conversion.cpython-310-x86_64-linux-gnu.so\n",
      "  \u001b[31m   \u001b[0m building 'pandas._libs.tslibs.fields' extension\n",
      "  \u001b[31m   \u001b[0m gcc -pthread -B /opt/conda/compiler_compat -Wno-unused-result -Wsign-compare -DNDEBUG -fwrapv -O2 -Wall -fPIC -O2 -isystem /opt/conda/include -fPIC -O2 -isystem /opt/conda/include -fPIC -DNPY_NO_DEPRECATED_API=0 -I./pandas/_libs/tslibs -I/tmp/pip-build-env-m3czlh77/overlay/lib/python3.10/site-packages/numpy/core/include -I/opt/conda/include/python3.10 -c pandas/_libs/tslibs/fields.c -o build/temp.linux-x86_64-cpython-310/pandas/_libs/tslibs/fields.o -Werror\n",
      "  \u001b[31m   \u001b[0m gcc -pthread -B /opt/conda/compiler_compat -shared -Wl,-rpath,/opt/conda/lib -Wl,-rpath-link,/opt/conda/lib -L/opt/conda/lib -Wl,-rpath,/opt/conda/lib -Wl,-rpath-link,/opt/conda/lib -L/opt/conda/lib build/temp.linux-x86_64-cpython-310/pandas/_libs/tslibs/fields.o -o build/lib.linux-x86_64-cpython-310/pandas/_libs/tslibs/fields.cpython-310-x86_64-linux-gnu.so\n",
      "  \u001b[31m   \u001b[0m building 'pandas._libs.tslibs.nattype' extension\n",
      "  \u001b[31m   \u001b[0m gcc -pthread -B /opt/conda/compiler_compat -Wno-unused-result -Wsign-compare -DNDEBUG -fwrapv -O2 -Wall -fPIC -O2 -isystem /opt/conda/include -fPIC -O2 -isystem /opt/conda/include -fPIC -DNPY_NO_DEPRECATED_API=0 -I./pandas/_libs/tslibs -I/tmp/pip-build-env-m3czlh77/overlay/lib/python3.10/site-packages/numpy/core/include -I/opt/conda/include/python3.10 -c pandas/_libs/tslibs/nattype.c -o build/temp.linux-x86_64-cpython-310/pandas/_libs/tslibs/nattype.o -Werror\n",
      "  \u001b[31m   \u001b[0m gcc -pthread -B /opt/conda/compiler_compat -shared -Wl,-rpath,/opt/conda/lib -Wl,-rpath-link,/opt/conda/lib -L/opt/conda/lib -Wl,-rpath,/opt/conda/lib -Wl,-rpath-link,/opt/conda/lib -L/opt/conda/lib build/temp.linux-x86_64-cpython-310/pandas/_libs/tslibs/nattype.o -o build/lib.linux-x86_64-cpython-310/pandas/_libs/tslibs/nattype.cpython-310-x86_64-linux-gnu.so\n",
      "  \u001b[31m   \u001b[0m building 'pandas._libs.tslibs.np_datetime' extension\n",
      "  \u001b[31m   \u001b[0m gcc -pthread -B /opt/conda/compiler_compat -Wno-unused-result -Wsign-compare -DNDEBUG -fwrapv -O2 -Wall -fPIC -O2 -isystem /opt/conda/include -fPIC -O2 -isystem /opt/conda/include -fPIC -DNPY_NO_DEPRECATED_API=0 -Ipandas/_libs/tslibs -I./pandas/_libs/tslibs -I/tmp/pip-build-env-m3czlh77/overlay/lib/python3.10/site-packages/numpy/core/include -I/opt/conda/include/python3.10 -c pandas/_libs/tslibs/np_datetime.c -o build/temp.linux-x86_64-cpython-310/pandas/_libs/tslibs/np_datetime.o -Werror\n",
      "  \u001b[31m   \u001b[0m gcc -pthread -B /opt/conda/compiler_compat -Wno-unused-result -Wsign-compare -DNDEBUG -fwrapv -O2 -Wall -fPIC -O2 -isystem /opt/conda/include -fPIC -O2 -isystem /opt/conda/include -fPIC -DNPY_NO_DEPRECATED_API=0 -Ipandas/_libs/tslibs -I./pandas/_libs/tslibs -I/tmp/pip-build-env-m3czlh77/overlay/lib/python3.10/site-packages/numpy/core/include -I/opt/conda/include/python3.10 -c pandas/_libs/tslibs/src/datetime/np_datetime.c -o build/temp.linux-x86_64-cpython-310/pandas/_libs/tslibs/src/datetime/np_datetime.o -Werror\n",
      "  \u001b[31m   \u001b[0m gcc -pthread -B /opt/conda/compiler_compat -Wno-unused-result -Wsign-compare -DNDEBUG -fwrapv -O2 -Wall -fPIC -O2 -isystem /opt/conda/include -fPIC -O2 -isystem /opt/conda/include -fPIC -DNPY_NO_DEPRECATED_API=0 -Ipandas/_libs/tslibs -I./pandas/_libs/tslibs -I/tmp/pip-build-env-m3czlh77/overlay/lib/python3.10/site-packages/numpy/core/include -I/opt/conda/include/python3.10 -c pandas/_libs/tslibs/src/datetime/np_datetime_strings.c -o build/temp.linux-x86_64-cpython-310/pandas/_libs/tslibs/src/datetime/np_datetime_strings.o -Werror\n",
      "  \u001b[31m   \u001b[0m gcc -pthread -B /opt/conda/compiler_compat -shared -Wl,-rpath,/opt/conda/lib -Wl,-rpath-link,/opt/conda/lib -L/opt/conda/lib -Wl,-rpath,/opt/conda/lib -Wl,-rpath-link,/opt/conda/lib -L/opt/conda/lib build/temp.linux-x86_64-cpython-310/pandas/_libs/tslibs/np_datetime.o build/temp.linux-x86_64-cpython-310/pandas/_libs/tslibs/src/datetime/np_datetime.o build/temp.linux-x86_64-cpython-310/pandas/_libs/tslibs/src/datetime/np_datetime_strings.o -o build/lib.linux-x86_64-cpython-310/pandas/_libs/tslibs/np_datetime.cpython-310-x86_64-linux-gnu.so\n",
      "  \u001b[31m   \u001b[0m building 'pandas._libs.tslibs.offsets' extension\n",
      "  \u001b[31m   \u001b[0m gcc -pthread -B /opt/conda/compiler_compat -Wno-unused-result -Wsign-compare -DNDEBUG -fwrapv -O2 -Wall -fPIC -O2 -isystem /opt/conda/include -fPIC -O2 -isystem /opt/conda/include -fPIC -DNPY_NO_DEPRECATED_API=0 -I./pandas/_libs/tslibs -Ipandas/_libs/tslibs -I/tmp/pip-build-env-m3czlh77/overlay/lib/python3.10/site-packages/numpy/core/include -I/opt/conda/include/python3.10 -c pandas/_libs/tslibs/offsets.c -o build/temp.linux-x86_64-cpython-310/pandas/_libs/tslibs/offsets.o -Werror\n",
      "  \u001b[31m   \u001b[0m gcc -pthread -B /opt/conda/compiler_compat -shared -Wl,-rpath,/opt/conda/lib -Wl,-rpath-link,/opt/conda/lib -L/opt/conda/lib -Wl,-rpath,/opt/conda/lib -Wl,-rpath-link,/opt/conda/lib -L/opt/conda/lib build/temp.linux-x86_64-cpython-310/pandas/_libs/tslibs/offsets.o -o build/lib.linux-x86_64-cpython-310/pandas/_libs/tslibs/offsets.cpython-310-x86_64-linux-gnu.so\n",
      "  \u001b[31m   \u001b[0m building 'pandas._libs.tslibs.parsing' extension\n",
      "  \u001b[31m   \u001b[0m gcc -pthread -B /opt/conda/compiler_compat -Wno-unused-result -Wsign-compare -DNDEBUG -fwrapv -O2 -Wall -fPIC -O2 -isystem /opt/conda/include -fPIC -O2 -isystem /opt/conda/include -fPIC -DNPY_NO_DEPRECATED_API=0 -Ipandas/_libs/tslibs -Ipandas/_libs/src/klib -I/tmp/pip-build-env-m3czlh77/overlay/lib/python3.10/site-packages/numpy/core/include -I/opt/conda/include/python3.10 -c pandas/_libs/src/parser/tokenizer.c -o build/temp.linux-x86_64-cpython-310/pandas/_libs/src/parser/tokenizer.o -Werror\n",
      "  \u001b[31m   \u001b[0m gcc -pthread -B /opt/conda/compiler_compat -Wno-unused-result -Wsign-compare -DNDEBUG -fwrapv -O2 -Wall -fPIC -O2 -isystem /opt/conda/include -fPIC -O2 -isystem /opt/conda/include -fPIC -DNPY_NO_DEPRECATED_API=0 -Ipandas/_libs/tslibs -Ipandas/_libs/src/klib -I/tmp/pip-build-env-m3czlh77/overlay/lib/python3.10/site-packages/numpy/core/include -I/opt/conda/include/python3.10 -c pandas/_libs/tslibs/parsing.c -o build/temp.linux-x86_64-cpython-310/pandas/_libs/tslibs/parsing.o -Werror\n",
      "  \u001b[31m   \u001b[0m gcc -pthread -B /opt/conda/compiler_compat -shared -Wl,-rpath,/opt/conda/lib -Wl,-rpath-link,/opt/conda/lib -L/opt/conda/lib -Wl,-rpath,/opt/conda/lib -Wl,-rpath-link,/opt/conda/lib -L/opt/conda/lib build/temp.linux-x86_64-cpython-310/pandas/_libs/src/parser/tokenizer.o build/temp.linux-x86_64-cpython-310/pandas/_libs/tslibs/parsing.o -o build/lib.linux-x86_64-cpython-310/pandas/_libs/tslibs/parsing.cpython-310-x86_64-linux-gnu.so\n",
      "  \u001b[31m   \u001b[0m building 'pandas._libs.tslibs.period' extension\n",
      "  \u001b[31m   \u001b[0m gcc -pthread -B /opt/conda/compiler_compat -Wno-unused-result -Wsign-compare -DNDEBUG -fwrapv -O2 -Wall -fPIC -O2 -isystem /opt/conda/include -fPIC -O2 -isystem /opt/conda/include -fPIC -DNPY_NO_DEPRECATED_API=0 -Ipandas/_libs/tslibs -I./pandas/_libs/tslibs -I/tmp/pip-build-env-m3czlh77/overlay/lib/python3.10/site-packages/numpy/core/include -I/opt/conda/include/python3.10 -c pandas/_libs/tslibs/period.c -o build/temp.linux-x86_64-cpython-310/pandas/_libs/tslibs/period.o -Werror\n",
      "  \u001b[31m   \u001b[0m gcc -pthread -B /opt/conda/compiler_compat -Wno-unused-result -Wsign-compare -DNDEBUG -fwrapv -O2 -Wall -fPIC -O2 -isystem /opt/conda/include -fPIC -O2 -isystem /opt/conda/include -fPIC -DNPY_NO_DEPRECATED_API=0 -Ipandas/_libs/tslibs -I./pandas/_libs/tslibs -I/tmp/pip-build-env-m3czlh77/overlay/lib/python3.10/site-packages/numpy/core/include -I/opt/conda/include/python3.10 -c pandas/_libs/tslibs/src/datetime/np_datetime.c -o build/temp.linux-x86_64-cpython-310/pandas/_libs/tslibs/src/datetime/np_datetime.o -Werror\n",
      "  \u001b[31m   \u001b[0m gcc -pthread -B /opt/conda/compiler_compat -shared -Wl,-rpath,/opt/conda/lib -Wl,-rpath-link,/opt/conda/lib -L/opt/conda/lib -Wl,-rpath,/opt/conda/lib -Wl,-rpath-link,/opt/conda/lib -L/opt/conda/lib build/temp.linux-x86_64-cpython-310/pandas/_libs/tslibs/period.o build/temp.linux-x86_64-cpython-310/pandas/_libs/tslibs/src/datetime/np_datetime.o -o build/lib.linux-x86_64-cpython-310/pandas/_libs/tslibs/period.cpython-310-x86_64-linux-gnu.so\n",
      "  \u001b[31m   \u001b[0m building 'pandas._libs.tslibs.strptime' extension\n",
      "  \u001b[31m   \u001b[0m gcc -pthread -B /opt/conda/compiler_compat -Wno-unused-result -Wsign-compare -DNDEBUG -fwrapv -O2 -Wall -fPIC -O2 -isystem /opt/conda/include -fPIC -O2 -isystem /opt/conda/include -fPIC -DNPY_NO_DEPRECATED_API=0 -I./pandas/_libs/tslibs -Ipandas/_libs/tslibs -I/tmp/pip-build-env-m3czlh77/overlay/lib/python3.10/site-packages/numpy/core/include -I/opt/conda/include/python3.10 -c pandas/_libs/tslibs/strptime.c -o build/temp.linux-x86_64-cpython-310/pandas/_libs/tslibs/strptime.o -Werror\n",
      "  \u001b[31m   \u001b[0m gcc -pthread -B /opt/conda/compiler_compat -shared -Wl,-rpath,/opt/conda/lib -Wl,-rpath-link,/opt/conda/lib -L/opt/conda/lib -Wl,-rpath,/opt/conda/lib -Wl,-rpath-link,/opt/conda/lib -L/opt/conda/lib build/temp.linux-x86_64-cpython-310/pandas/_libs/tslibs/strptime.o -o build/lib.linux-x86_64-cpython-310/pandas/_libs/tslibs/strptime.cpython-310-x86_64-linux-gnu.so\n",
      "  \u001b[31m   \u001b[0m building 'pandas._libs.tslibs.timedeltas' extension\n",
      "  \u001b[31m   \u001b[0m gcc -pthread -B /opt/conda/compiler_compat -Wno-unused-result -Wsign-compare -DNDEBUG -fwrapv -O2 -Wall -fPIC -O2 -isystem /opt/conda/include -fPIC -O2 -isystem /opt/conda/include -fPIC -DNPY_NO_DEPRECATED_API=0 -I./pandas/_libs/tslibs -Ipandas/_libs/tslibs -I/tmp/pip-build-env-m3czlh77/overlay/lib/python3.10/site-packages/numpy/core/include -I/opt/conda/include/python3.10 -c pandas/_libs/tslibs/timedeltas.c -o build/temp.linux-x86_64-cpython-310/pandas/_libs/tslibs/timedeltas.o -Werror\n",
      "  \u001b[31m   \u001b[0m gcc -pthread -B /opt/conda/compiler_compat -shared -Wl,-rpath,/opt/conda/lib -Wl,-rpath-link,/opt/conda/lib -L/opt/conda/lib -Wl,-rpath,/opt/conda/lib -Wl,-rpath-link,/opt/conda/lib -L/opt/conda/lib build/temp.linux-x86_64-cpython-310/pandas/_libs/tslibs/timedeltas.o -o build/lib.linux-x86_64-cpython-310/pandas/_libs/tslibs/timedeltas.cpython-310-x86_64-linux-gnu.so\n",
      "  \u001b[31m   \u001b[0m building 'pandas._libs.tslibs.timestamps' extension\n",
      "  \u001b[31m   \u001b[0m gcc -pthread -B /opt/conda/compiler_compat -Wno-unused-result -Wsign-compare -DNDEBUG -fwrapv -O2 -Wall -fPIC -O2 -isystem /opt/conda/include -fPIC -O2 -isystem /opt/conda/include -fPIC -DNPY_NO_DEPRECATED_API=0 -I./pandas/_libs/tslibs -Ipandas/_libs/tslibs -I/tmp/pip-build-env-m3czlh77/overlay/lib/python3.10/site-packages/numpy/core/include -I/opt/conda/include/python3.10 -c pandas/_libs/tslibs/timestamps.c -o build/temp.linux-x86_64-cpython-310/pandas/_libs/tslibs/timestamps.o -Werror\n",
      "  \u001b[31m   \u001b[0m gcc -pthread -B /opt/conda/compiler_compat -shared -Wl,-rpath,/opt/conda/lib -Wl,-rpath-link,/opt/conda/lib -L/opt/conda/lib -Wl,-rpath,/opt/conda/lib -Wl,-rpath-link,/opt/conda/lib -L/opt/conda/lib build/temp.linux-x86_64-cpython-310/pandas/_libs/tslibs/timestamps.o -o build/lib.linux-x86_64-cpython-310/pandas/_libs/tslibs/timestamps.cpython-310-x86_64-linux-gnu.so\n",
      "  \u001b[31m   \u001b[0m building 'pandas._libs.tslibs.timezones' extension\n",
      "  \u001b[31m   \u001b[0m gcc -pthread -B /opt/conda/compiler_compat -Wno-unused-result -Wsign-compare -DNDEBUG -fwrapv -O2 -Wall -fPIC -O2 -isystem /opt/conda/include -fPIC -O2 -isystem /opt/conda/include -fPIC -DNPY_NO_DEPRECATED_API=0 -I/tmp/pip-build-env-m3czlh77/overlay/lib/python3.10/site-packages/numpy/core/include -I/opt/conda/include/python3.10 -c pandas/_libs/tslibs/timezones.c -o build/temp.linux-x86_64-cpython-310/pandas/_libs/tslibs/timezones.o -Werror\n",
      "  \u001b[31m   \u001b[0m gcc -pthread -B /opt/conda/compiler_compat -shared -Wl,-rpath,/opt/conda/lib -Wl,-rpath-link,/opt/conda/lib -L/opt/conda/lib -Wl,-rpath,/opt/conda/lib -Wl,-rpath-link,/opt/conda/lib -L/opt/conda/lib build/temp.linux-x86_64-cpython-310/pandas/_libs/tslibs/timezones.o -o build/lib.linux-x86_64-cpython-310/pandas/_libs/tslibs/timezones.cpython-310-x86_64-linux-gnu.so\n",
      "  \u001b[31m   \u001b[0m building 'pandas._libs.tslibs.tzconversion' extension\n",
      "  \u001b[31m   \u001b[0m gcc -pthread -B /opt/conda/compiler_compat -Wno-unused-result -Wsign-compare -DNDEBUG -fwrapv -O2 -Wall -fPIC -O2 -isystem /opt/conda/include -fPIC -O2 -isystem /opt/conda/include -fPIC -DNPY_NO_DEPRECATED_API=0 -I./pandas/_libs/tslibs -Ipandas/_libs/tslibs -I/tmp/pip-build-env-m3czlh77/overlay/lib/python3.10/site-packages/numpy/core/include -I/opt/conda/include/python3.10 -c pandas/_libs/tslibs/tzconversion.c -o build/temp.linux-x86_64-cpython-310/pandas/_libs/tslibs/tzconversion.o -Werror\n",
      "  \u001b[31m   \u001b[0m gcc -pthread -B /opt/conda/compiler_compat -shared -Wl,-rpath,/opt/conda/lib -Wl,-rpath-link,/opt/conda/lib -L/opt/conda/lib -Wl,-rpath,/opt/conda/lib -Wl,-rpath-link,/opt/conda/lib -L/opt/conda/lib build/temp.linux-x86_64-cpython-310/pandas/_libs/tslibs/tzconversion.o -o build/lib.linux-x86_64-cpython-310/pandas/_libs/tslibs/tzconversion.cpython-310-x86_64-linux-gnu.so\n",
      "  \u001b[31m   \u001b[0m building 'pandas._libs.tslibs.vectorized' extension\n",
      "  \u001b[31m   \u001b[0m gcc -pthread -B /opt/conda/compiler_compat -Wno-unused-result -Wsign-compare -DNDEBUG -fwrapv -O2 -Wall -fPIC -O2 -isystem /opt/conda/include -fPIC -O2 -isystem /opt/conda/include -fPIC -DNPY_NO_DEPRECATED_API=0 -I./pandas/_libs/tslibs -Ipandas/_libs/tslibs -I/tmp/pip-build-env-m3czlh77/overlay/lib/python3.10/site-packages/numpy/core/include -I/opt/conda/include/python3.10 -c pandas/_libs/tslibs/vectorized.c -o build/temp.linux-x86_64-cpython-310/pandas/_libs/tslibs/vectorized.o -Werror\n",
      "  \u001b[31m   \u001b[0m gcc -pthread -B /opt/conda/compiler_compat -shared -Wl,-rpath,/opt/conda/lib -Wl,-rpath-link,/opt/conda/lib -L/opt/conda/lib -Wl,-rpath,/opt/conda/lib -Wl,-rpath-link,/opt/conda/lib -L/opt/conda/lib build/temp.linux-x86_64-cpython-310/pandas/_libs/tslibs/vectorized.o -o build/lib.linux-x86_64-cpython-310/pandas/_libs/tslibs/vectorized.cpython-310-x86_64-linux-gnu.so\n",
      "  \u001b[31m   \u001b[0m building 'pandas._libs.testing' extension\n",
      "  \u001b[31m   \u001b[0m gcc -pthread -B /opt/conda/compiler_compat -Wno-unused-result -Wsign-compare -DNDEBUG -fwrapv -O2 -Wall -fPIC -O2 -isystem /opt/conda/include -fPIC -O2 -isystem /opt/conda/include -fPIC -DNPY_NO_DEPRECATED_API=0 -I./pandas/_libs -I/tmp/pip-build-env-m3czlh77/overlay/lib/python3.10/site-packages/numpy/core/include -I/opt/conda/include/python3.10 -c pandas/_libs/testing.c -o build/temp.linux-x86_64-cpython-310/pandas/_libs/testing.o -Werror\n",
      "  \u001b[31m   \u001b[0m gcc -pthread -B /opt/conda/compiler_compat -shared -Wl,-rpath,/opt/conda/lib -Wl,-rpath-link,/opt/conda/lib -L/opt/conda/lib -Wl,-rpath,/opt/conda/lib -Wl,-rpath-link,/opt/conda/lib -L/opt/conda/lib build/temp.linux-x86_64-cpython-310/pandas/_libs/testing.o -o build/lib.linux-x86_64-cpython-310/pandas/_libs/testing.cpython-310-x86_64-linux-gnu.so\n",
      "  \u001b[31m   \u001b[0m building 'pandas._libs.window.aggregations' extension\n",
      "  \u001b[31m   \u001b[0m creating build/temp.linux-x86_64-cpython-310/pandas/_libs/window\n",
      "  \u001b[31m   \u001b[0m gcc -pthread -B /opt/conda/compiler_compat -Wno-unused-result -Wsign-compare -DNDEBUG -fwrapv -O2 -Wall -fPIC -O2 -isystem /opt/conda/include -fPIC -O2 -isystem /opt/conda/include -fPIC -DNPY_NO_DEPRECATED_API=0 -Ipandas/_libs/window -I./pandas/_libs -I/tmp/pip-build-env-m3czlh77/overlay/lib/python3.10/site-packages/numpy/core/include -I/opt/conda/include/python3.10 -c pandas/_libs/window/aggregations.cpp -o build/temp.linux-x86_64-cpython-310/pandas/_libs/window/aggregations.o -Werror\n",
      "  \u001b[31m   \u001b[0m gcc: fatal error: cannot execute ‘cc1plus’: execvp: No such file or directory\n",
      "  \u001b[31m   \u001b[0m compilation terminated.\n",
      "  \u001b[31m   \u001b[0m error: command '/usr/bin/gcc' failed with exit code 1\n",
      "  \u001b[31m   \u001b[0m \u001b[31m[end of output]\u001b[0m\n",
      "  \n",
      "  \u001b[1;35mnote\u001b[0m: This error originates from a subprocess, and is likely not a problem with pip.\n",
      "\u001b[31m  ERROR: Failed building wheel for pandas\u001b[0m\u001b[31m\n",
      "\u001b[0m\u001b[31mERROR: Could not build wheels for pandas, which is required to install pyproject.toml-based projects\u001b[0m\u001b[31m\n",
      "\u001b[0m\u001b[31mERROR: Ignored the following yanked versions: 3.2.0\u001b[0m\u001b[31m\n",
      "\u001b[0m\u001b[31mERROR: Ignored the following versions that require a different python version: 1.0.0 Requires-Python >=3.6, <3.9; 1.0.1 Requires-Python >=3.6, <3.9; 1.0.2 Requires-Python >=3.6, <3.9; 1.0.3 Requires-Python >=3.6, <3.9; 1.0.4 Requires-Python >=3.6, <3.9; 1.1.0 Requires-Python >=3.6, <3.9; 1.1.1 Requires-Python >=3.6, <3.9; 1.1.2 Requires-Python >=3.6, <3.9; 1.10.0 Requires-Python >=3.6, <3.9; 1.10.1 Requires-Python >=3.6, <3.9; 1.2.0 Requires-Python >=3.6, <3.9; 1.3.0 Requires-Python >=3.6, <3.9; 1.4.0 Requires-Python >=3.6, <3.9; 1.5.0 Requires-Python >=3.6, <3.9; 1.6.0 Requires-Python >=3.6, <3.9; 1.6.1 Requires-Python >=3.6, <3.9; 1.6.2 Requires-Python >=3.6, <3.9; 1.6.3 Requires-Python >=3.6, <3.9; 1.7.0 Requires-Python >=3.6, <3.9; 1.8.0 Requires-Python >=3.6, <3.9; 1.8.1 Requires-Python >=3.6, <3.9; 1.9.0 Requires-Python >=3.6, <3.9; 1.9.1 Requires-Python >=3.6, <3.9; 1.9.2 Requires-Python >=3.6, <3.9; 1.9.3 Requires-Python >=3.6, <3.9; 1.9.4 Requires-Python >=3.6, <3.9; 1.9.5 Requires-Python >=3.6, <3.9; 1.9.6 Requires-Python >=3.6, <3.9; 2.0.0 Requires-Python >=3.6, <3.9; 2.0.1 Requires-Python >=3.6, <3.9; 2.1.0 Requires-Python >=3.6, <3.9; 2.10.0 Requires-Python >=3.6, <3.10; 2.11.0 Requires-Python >=3.6.2,<3.10; 2.12.0 Requires-Python >=3.6.2,<3.10; 2.12.1 Requires-Python >=3.6.2,<3.10; 2.13.0 Requires-Python >=3.6.2,<=3.10.0; 2.2.0 Requires-Python >=3.6, <3.9; 2.3.0 Requires-Python >=3.6, <3.9; 2.4.0 Requires-Python >=3.6, <3.10; 2.5.0 Requires-Python >=3.6, <3.10; 2.6.0 Requires-Python >=3.6, <3.10; 2.7.0 Requires-Python >=3.6, <3.10; 2.8.0 Requires-Python >=3.6, <3.10; 2.9.0 Requires-Python >=3.6, <3.10\u001b[0m\u001b[31m\n",
      "\u001b[0m\u001b[31mERROR: Could not find a version that satisfies the requirement awswrangler==2.7.0 (from versions: 0.0b0, 0.0b2, 0.0b3, 0.0b4, 0.0b5, 0.0b6, 0.0b7, 0.0b8, 0.0b9, 0.0b10, 0.0b11, 0.0b12, 0.0b13, 0.0b14, 0.0b15, 0.0b16, 0.0b17, 0.0b18, 0.0b19, 0.0b20, 0.0b21, 0.0b22, 0.0b23, 0.0b24, 0.0b25, 0.0b26, 0.0b27, 0.0b28, 0.0b29, 0.0b30, 0.0b31, 0.0b32, 0.0.1, 0.0.2, 0.0.3, 0.0.4, 0.0.5, 0.0.6, 0.0.7, 0.0.8, 0.0.9, 0.0.10, 0.0.11, 0.0.12, 0.0.13, 0.0.14, 0.0.15, 0.0.16, 0.0.17, 0.0.18, 0.0.19, 0.0.20, 0.0.21, 0.0.22, 0.0.23, 0.0.24, 0.0.25, 0.1.0, 0.1.1, 0.1.2, 0.1.3, 0.1.4, 0.2.0, 0.2.1, 0.2.2, 0.2.3, 0.2.4, 0.2.5, 0.2.6, 0.3.0, 0.3.1, 0.3.2, 2.14.0, 2.15.0, 2.15.1, 2.16.0, 2.16.1, 2.17.0, 2.18.0, 2.19.0, 2.20.0, 2.20.1, 3.0.0a1, 3.0.0a2, 3.0.0b1, 3.0.0b2, 3.0.0b3, 3.0.0rc1, 3.0.0rc2, 3.0.0rc3, 3.0.0, 3.1.0, 3.1.1, 3.2.1, 3.3.0, 3.4.0, 3.4.1, 3.4.2)\u001b[0m\u001b[31m\n",
      "\u001b[0m\u001b[31mERROR: No matching distribution found for awswrangler==2.7.0\u001b[0m\u001b[31m\n",
      "\u001b[0m  \u001b[1;31merror\u001b[0m: \u001b[1msubprocess-exited-with-error\u001b[0m\n",
      "  \n",
      "  \u001b[31m×\u001b[0m \u001b[32mPreparing metadata \u001b[0m\u001b[1;32m(\u001b[0m\u001b[32mpyproject.toml\u001b[0m\u001b[1;32m)\u001b[0m did not run successfully.\n",
      "  \u001b[31m│\u001b[0m exit code: \u001b[1;36m1\u001b[0m\n",
      "  \u001b[31m╰─>\u001b[0m \u001b[31m[54 lines of output]\u001b[0m\n",
      "  \u001b[31m   \u001b[0m Running from numpy source directory.\n",
      "  \u001b[31m   \u001b[0m <string>:461: UserWarning: Unrecognized setuptools command, proceeding with generating Cython sources and expanding templates\n",
      "  \u001b[31m   \u001b[0m /tmp/pip-install-ng2x0ecj/numpy_505f7755f9e845ba8e9b4e42348be23c/tools/cythonize.py:75: DeprecationWarning: distutils Version classes are deprecated. Use packaging.version instead.\n",
      "  \u001b[31m   \u001b[0m   required_version = LooseVersion('0.29.14')\n",
      "  \u001b[31m   \u001b[0m /tmp/pip-install-ng2x0ecj/numpy_505f7755f9e845ba8e9b4e42348be23c/tools/cythonize.py:77: DeprecationWarning: distutils Version classes are deprecated. Use packaging.version instead.\n",
      "  \u001b[31m   \u001b[0m   if LooseVersion(cython_version) < required_version:\n",
      "  \u001b[31m   \u001b[0m \n",
      "  \u001b[31m   \u001b[0m Error compiling Cython file:\n",
      "  \u001b[31m   \u001b[0m ------------------------------------------------------------\n",
      "  \u001b[31m   \u001b[0m ...\n",
      "  \u001b[31m   \u001b[0m         for i in range(1, RK_STATE_LEN):\n",
      "  \u001b[31m   \u001b[0m             self.rng_state.key[i] = val[i]\n",
      "  \u001b[31m   \u001b[0m         self.rng_state.pos = i\n",
      "  \u001b[31m   \u001b[0m \n",
      "  \u001b[31m   \u001b[0m         self._bitgen.state = &self.rng_state\n",
      "  \u001b[31m   \u001b[0m         self._bitgen.next_uint64 = &mt19937_uint64\n",
      "  \u001b[31m   \u001b[0m                                    ^\n",
      "  \u001b[31m   \u001b[0m ------------------------------------------------------------\n",
      "  \u001b[31m   \u001b[0m \n",
      "  \u001b[31m   \u001b[0m _mt19937.pyx:138:35: Cannot assign type 'uint64_t (*)(void *) except? -1 nogil' to 'uint64_t (*)(void *) noexcept nogil'. Exception values are incompatible. Suggest adding 'noexcept' to type 'uint64_t (void *) except? -1 nogil'.\n",
      "  \u001b[31m   \u001b[0m Processing numpy/random/_bounded_integers.pxd.in\n",
      "  \u001b[31m   \u001b[0m Processing numpy/random/_mt19937.pyx\n",
      "  \u001b[31m   \u001b[0m Traceback (most recent call last):\n",
      "  \u001b[31m   \u001b[0m   File \"/tmp/pip-install-ng2x0ecj/numpy_505f7755f9e845ba8e9b4e42348be23c/tools/cythonize.py\", line 238, in <module>\n",
      "  \u001b[31m   \u001b[0m     main()\n",
      "  \u001b[31m   \u001b[0m   File \"/tmp/pip-install-ng2x0ecj/numpy_505f7755f9e845ba8e9b4e42348be23c/tools/cythonize.py\", line 234, in main\n",
      "  \u001b[31m   \u001b[0m     find_process_files(root_dir)\n",
      "  \u001b[31m   \u001b[0m   File \"/tmp/pip-install-ng2x0ecj/numpy_505f7755f9e845ba8e9b4e42348be23c/tools/cythonize.py\", line 225, in find_process_files\n",
      "  \u001b[31m   \u001b[0m     process(root_dir, fromfile, tofile, function, hash_db)\n",
      "  \u001b[31m   \u001b[0m   File \"/tmp/pip-install-ng2x0ecj/numpy_505f7755f9e845ba8e9b4e42348be23c/tools/cythonize.py\", line 191, in process\n",
      "  \u001b[31m   \u001b[0m     processor_function(fromfile, tofile)\n",
      "  \u001b[31m   \u001b[0m   File \"/tmp/pip-install-ng2x0ecj/numpy_505f7755f9e845ba8e9b4e42348be23c/tools/cythonize.py\", line 80, in process_pyx\n",
      "  \u001b[31m   \u001b[0m     subprocess.check_call(\n",
      "  \u001b[31m   \u001b[0m   File \"/opt/conda/lib/python3.10/subprocess.py\", line 369, in check_call\n",
      "  \u001b[31m   \u001b[0m     raise CalledProcessError(retcode, cmd)\n",
      "  \u001b[31m   \u001b[0m subprocess.CalledProcessError: Command '['/opt/conda/bin/python', '-m', 'cython', '-3', '--fast-fail', '-o', '_mt19937.c', '_mt19937.pyx']' returned non-zero exit status 1.\n",
      "  \u001b[31m   \u001b[0m Cythonizing sources\n",
      "  \u001b[31m   \u001b[0m Traceback (most recent call last):\n",
      "  \u001b[31m   \u001b[0m   File \"/opt/conda/lib/python3.10/site-packages/pip/_vendor/pyproject_hooks/_in_process/_in_process.py\", line 353, in <module>\n",
      "  \u001b[31m   \u001b[0m     main()\n",
      "  \u001b[31m   \u001b[0m   File \"/opt/conda/lib/python3.10/site-packages/pip/_vendor/pyproject_hooks/_in_process/_in_process.py\", line 335, in main\n",
      "  \u001b[31m   \u001b[0m     json_out['return_val'] = hook(**hook_input['kwargs'])\n",
      "  \u001b[31m   \u001b[0m   File \"/opt/conda/lib/python3.10/site-packages/pip/_vendor/pyproject_hooks/_in_process/_in_process.py\", line 149, in prepare_metadata_for_build_wheel\n",
      "  \u001b[31m   \u001b[0m     return hook(metadata_directory, config_settings)\n",
      "  \u001b[31m   \u001b[0m   File \"/tmp/pip-build-env-lwje0f79/overlay/lib/python3.10/site-packages/setuptools/build_meta.py\", line 366, in prepare_metadata_for_build_wheel\n",
      "  \u001b[31m   \u001b[0m     self.run_setup()\n",
      "  \u001b[31m   \u001b[0m   File \"/tmp/pip-build-env-lwje0f79/overlay/lib/python3.10/site-packages/setuptools/build_meta.py\", line 480, in run_setup\n",
      "  \u001b[31m   \u001b[0m     super(_BuildMetaLegacyBackend, self).run_setup(setup_script=setup_script)\n",
      "  \u001b[31m   \u001b[0m   File \"/tmp/pip-build-env-lwje0f79/overlay/lib/python3.10/site-packages/setuptools/build_meta.py\", line 311, in run_setup\n",
      "  \u001b[31m   \u001b[0m     exec(code, locals())\n",
      "  \u001b[31m   \u001b[0m   File \"<string>\", line 488, in <module>\n",
      "  \u001b[31m   \u001b[0m   File \"<string>\", line 469, in setup_package\n",
      "  \u001b[31m   \u001b[0m   File \"<string>\", line 275, in generate_cython\n",
      "  \u001b[31m   \u001b[0m RuntimeError: Running cythonize failed!\n",
      "  \u001b[31m   \u001b[0m \u001b[31m[end of output]\u001b[0m\n",
      "  \n",
      "  \u001b[1;35mnote\u001b[0m: This error originates from a subprocess, and is likely not a problem with pip.\n",
      "\u001b[1;31merror\u001b[0m: \u001b[1mmetadata-generation-failed\u001b[0m\n",
      "\n",
      "\u001b[31m×\u001b[0m Encountered error while generating package metadata.\n",
      "\u001b[31m╰─>\u001b[0m See above for output.\n",
      "\n",
      "\u001b[1;35mnote\u001b[0m: This is an issue with the package mentioned above, not pip.\n",
      "\u001b[1;36mhint\u001b[0m: See above for details.\n",
      "\u001b[33mWARNING: Running pip as the 'root' user can result in broken permissions and conflicting behaviour with the system package manager. It is recommended to use a virtual environment instead: https://pip.pypa.io/warnings/venv\u001b[0m\u001b[33m\n",
      "\u001b[0m^C\n",
      "\u001b[31mERROR: Operation cancelled by user\u001b[0m\u001b[31m\n",
      "\u001b[0m\u001b[33mWARNING: Running pip as the 'root' user can result in broken permissions and conflicting behaviour with the system package manager. It is recommended to use a virtual environment instead: https://pip.pypa.io/warnings/venv\u001b[0m\u001b[33m\n",
      "\u001b[0m\n",
      "\u001b[1m[\u001b[0m\u001b[34;49mnotice\u001b[0m\u001b[1;39;49m]\u001b[0m\u001b[39;49m A new release of pip is available: \u001b[0m\u001b[31;49m23.3.1\u001b[0m\u001b[39;49m -> \u001b[0m\u001b[32;49m23.3.2\u001b[0m\n",
      "\u001b[1m[\u001b[0m\u001b[34;49mnotice\u001b[0m\u001b[1;39;49m]\u001b[0m\u001b[39;49m To update, run: \u001b[0m\u001b[32;49mpip install --upgrade pip\u001b[0m\n"
     ]
    }
   ],
   "source": [
    "# please ignore warning messages during the installation\n",
    "!pip install --disable-pip-version-check -q sagemaker==2.35.0\n",
    "!pip install --disable-pip-version-check -q pandas==1.1.4\n",
    "!pip install --disable-pip-version-check -q awswrangler==2.7.0\n",
    "!pip install --disable-pip-version-check -q numpy==1.18.5\n",
    "!pip install --disable-pip-version-check -q seaborn==0.11.0\n",
    "!pip install --disable-pip-version-check -q matplotlib===3.3.3\n",
    "!pip install -q protobuf==3.20.*"
   ]
  },
  {
   "cell_type": "markdown",
   "metadata": {},
   "source": [
    "<a name='c1w1-1.'></a>\n",
    "# 1. Ingest and transform the public dataset\n",
    "\n",
    "The dataset [Women's Clothing Reviews](https://www.kaggle.com/nicapotato/womens-ecommerce-clothing-reviews) has been chosen as the main dataset.\n",
    "\n",
    "It is shared in a public Amazon S3 bucket, and is available as a comma-separated value (CSV) text format:\n",
    "\n",
    "`s3://dlai-practical-data-science/data/raw/womens_clothing_ecommerce_reviews.csv`"
   ]
  },
  {
   "cell_type": "markdown",
   "metadata": {},
   "source": [
    "<a name='c1w1-1.1.'></a>\n",
    "### 1.1. List the dataset files in the public S3 bucket\n",
    "\n",
    "The [AWS Command Line Interface (CLI)](https://awscli.amazonaws.com/v2/documentation/api/latest/index.html) is a unified tool to manage your AWS services. With just one tool, you can control multiple AWS services from the command line and automate them through scripts. You will use it to list the dataset files."
   ]
  },
  {
   "cell_type": "markdown",
   "metadata": {},
   "source": [
    "**View dataset files in CSV format**"
   ]
  },
  {
   "cell_type": "markdown",
   "metadata": {},
   "source": [
    "```aws s3 ls [bucket_name]``` function lists all objects in the S3 bucket. Let's use it to view the reviews data files in CSV format:"
   ]
  },
  {
   "cell_type": "markdown",
   "metadata": {},
   "source": [
    "<a name='c1w1-ex-1'></a>\n",
    "### Exercise 1\n",
    "\n",
    "View the list of the files available in the public bucket `s3://dlai-practical-data-science/data/raw/`.\n",
    "\n",
    "**Instructions**:\n",
    "Use `aws s3 ls [bucket_name]` function. To run the AWS CLI command from the notebook you will need to put an exclamation mark in front of it: `!aws`. You should see the data file `womens_clothing_ecommerce_reviews.csv` in the list."
   ]
  },
  {
   "cell_type": "code",
   "execution_count": 21,
   "metadata": {
    "tags": []
   },
   "outputs": [
    {
     "name": "stdout",
     "output_type": "stream",
     "text": [
      "2021-04-30 02:21:06    8457214 womens_clothing_ecommerce_reviews.csv\n"
     ]
    }
   ],
   "source": [
    "### BEGIN SOLUTION - DO NOT delete this comment for grading purposes\n",
    "!aws s3 ls s3://dlai-practical-data-science/data/raw/ # Replace None\n",
    "### END SOLUTION - DO NOT delete this comment for grading purposes\n",
    "\n",
    "# EXPECTED OUTPUT\n",
    "# ... womens_clothing_ecommerce_reviews.csv"
   ]
  },
  {
   "cell_type": "markdown",
   "metadata": {},
   "source": [
    "<a name='c1w1-1.2.'></a>\n",
    "### 1.2. Copy the data locally to the notebook"
   ]
  },
  {
   "cell_type": "markdown",
   "metadata": {},
   "source": [
    "```aws s3 cp [bucket_name/file_name] [file_name]``` function copies the file from the S3 bucket into the local environment or into another S3 bucket. Let's use it to copy the file with the dataset locally."
   ]
  },
  {
   "cell_type": "code",
   "execution_count": 22,
   "metadata": {
    "tags": []
   },
   "outputs": [
    {
     "name": "stdout",
     "output_type": "stream",
     "text": [
      "download: s3://dlai-practical-data-science/data/raw/womens_clothing_ecommerce_reviews.csv to ./womens_clothing_ecommerce_reviews.csv\n"
     ]
    }
   ],
   "source": [
    "!aws s3 cp s3://dlai-practical-data-science/data/raw/womens_clothing_ecommerce_reviews.csv ./womens_clothing_ecommerce_reviews.csv"
   ]
  },
  {
   "cell_type": "markdown",
   "metadata": {},
   "source": [
    "Now use the Pandas dataframe to load and preview the data."
   ]
  },
  {
   "cell_type": "code",
   "execution_count": 23,
   "metadata": {
    "tags": []
   },
   "outputs": [
    {
     "data": {
      "text/plain": [
       "(23486, 10)"
      ]
     },
     "execution_count": 23,
     "metadata": {},
     "output_type": "execute_result"
    }
   ],
   "source": [
    "import pandas as pd\n",
    "import csv\n",
    "\n",
    "df = pd.read_csv('./womens_clothing_ecommerce_reviews.csv',\n",
    "                 index_col=0)\n",
    "\n",
    "df.shape"
   ]
  },
  {
   "cell_type": "code",
   "execution_count": 24,
   "metadata": {
    "tags": []
   },
   "outputs": [
    {
     "data": {
      "text/html": [
       "<div>\n",
       "<style scoped>\n",
       "    .dataframe tbody tr th:only-of-type {\n",
       "        vertical-align: middle;\n",
       "    }\n",
       "\n",
       "    .dataframe tbody tr th {\n",
       "        vertical-align: top;\n",
       "    }\n",
       "\n",
       "    .dataframe thead th {\n",
       "        text-align: right;\n",
       "    }\n",
       "</style>\n",
       "<table border=\"1\" class=\"dataframe\">\n",
       "  <thead>\n",
       "    <tr style=\"text-align: right;\">\n",
       "      <th></th>\n",
       "      <th>Clothing ID</th>\n",
       "      <th>Age</th>\n",
       "      <th>Title</th>\n",
       "      <th>Review Text</th>\n",
       "      <th>Rating</th>\n",
       "      <th>Recommended IND</th>\n",
       "      <th>Positive Feedback Count</th>\n",
       "      <th>Division Name</th>\n",
       "      <th>Department Name</th>\n",
       "      <th>Class Name</th>\n",
       "    </tr>\n",
       "  </thead>\n",
       "  <tbody>\n",
       "    <tr>\n",
       "      <th>0</th>\n",
       "      <td>847</td>\n",
       "      <td>33</td>\n",
       "      <td>Cute, crisp shirt</td>\n",
       "      <td>If this product was in petite  i would get the...</td>\n",
       "      <td>4</td>\n",
       "      <td>1</td>\n",
       "      <td>2</td>\n",
       "      <td>General</td>\n",
       "      <td>Tops</td>\n",
       "      <td>Blouses</td>\n",
       "    </tr>\n",
       "    <tr>\n",
       "      <th>1</th>\n",
       "      <td>1080</td>\n",
       "      <td>34</td>\n",
       "      <td>NaN</td>\n",
       "      <td>Love this dress!  it's sooo pretty.  i happene...</td>\n",
       "      <td>5</td>\n",
       "      <td>1</td>\n",
       "      <td>4</td>\n",
       "      <td>General</td>\n",
       "      <td>Dresses</td>\n",
       "      <td>Dresses</td>\n",
       "    </tr>\n",
       "    <tr>\n",
       "      <th>2</th>\n",
       "      <td>1077</td>\n",
       "      <td>60</td>\n",
       "      <td>Some major design flaws</td>\n",
       "      <td>I had such high hopes for this dress and reall...</td>\n",
       "      <td>3</td>\n",
       "      <td>0</td>\n",
       "      <td>0</td>\n",
       "      <td>General</td>\n",
       "      <td>Dresses</td>\n",
       "      <td>Dresses</td>\n",
       "    </tr>\n",
       "    <tr>\n",
       "      <th>3</th>\n",
       "      <td>1049</td>\n",
       "      <td>50</td>\n",
       "      <td>My favorite buy!</td>\n",
       "      <td>I love  love  love this jumpsuit. it's fun  fl...</td>\n",
       "      <td>5</td>\n",
       "      <td>1</td>\n",
       "      <td>0</td>\n",
       "      <td>General Petite</td>\n",
       "      <td>Bottoms</td>\n",
       "      <td>Pants</td>\n",
       "    </tr>\n",
       "    <tr>\n",
       "      <th>4</th>\n",
       "      <td>847</td>\n",
       "      <td>47</td>\n",
       "      <td>Flattering shirt</td>\n",
       "      <td>This shirt is very flattering to all due to th...</td>\n",
       "      <td>5</td>\n",
       "      <td>1</td>\n",
       "      <td>6</td>\n",
       "      <td>General</td>\n",
       "      <td>Tops</td>\n",
       "      <td>Blouses</td>\n",
       "    </tr>\n",
       "    <tr>\n",
       "      <th>...</th>\n",
       "      <td>...</td>\n",
       "      <td>...</td>\n",
       "      <td>...</td>\n",
       "      <td>...</td>\n",
       "      <td>...</td>\n",
       "      <td>...</td>\n",
       "      <td>...</td>\n",
       "      <td>...</td>\n",
       "      <td>...</td>\n",
       "      <td>...</td>\n",
       "    </tr>\n",
       "    <tr>\n",
       "      <th>23481</th>\n",
       "      <td>1104</td>\n",
       "      <td>34</td>\n",
       "      <td>Great dress for many occasions</td>\n",
       "      <td>I was very happy to snag this dress at such a ...</td>\n",
       "      <td>5</td>\n",
       "      <td>1</td>\n",
       "      <td>0</td>\n",
       "      <td>General Petite</td>\n",
       "      <td>Dresses</td>\n",
       "      <td>Dresses</td>\n",
       "    </tr>\n",
       "    <tr>\n",
       "      <th>23482</th>\n",
       "      <td>862</td>\n",
       "      <td>48</td>\n",
       "      <td>Wish it was made of cotton</td>\n",
       "      <td>It reminds me of maternity clothes. soft  stre...</td>\n",
       "      <td>3</td>\n",
       "      <td>1</td>\n",
       "      <td>0</td>\n",
       "      <td>General Petite</td>\n",
       "      <td>Tops</td>\n",
       "      <td>Knits</td>\n",
       "    </tr>\n",
       "    <tr>\n",
       "      <th>23483</th>\n",
       "      <td>1104</td>\n",
       "      <td>31</td>\n",
       "      <td>Cute, but see through</td>\n",
       "      <td>This fit well  but the top was very see throug...</td>\n",
       "      <td>3</td>\n",
       "      <td>0</td>\n",
       "      <td>1</td>\n",
       "      <td>General Petite</td>\n",
       "      <td>Dresses</td>\n",
       "      <td>Dresses</td>\n",
       "    </tr>\n",
       "    <tr>\n",
       "      <th>23484</th>\n",
       "      <td>1084</td>\n",
       "      <td>28</td>\n",
       "      <td>Very cute dress, perfect for summer parties an...</td>\n",
       "      <td>I bought this dress for a wedding i have this ...</td>\n",
       "      <td>3</td>\n",
       "      <td>1</td>\n",
       "      <td>2</td>\n",
       "      <td>General</td>\n",
       "      <td>Dresses</td>\n",
       "      <td>Dresses</td>\n",
       "    </tr>\n",
       "    <tr>\n",
       "      <th>23485</th>\n",
       "      <td>1104</td>\n",
       "      <td>52</td>\n",
       "      <td>Please make more like this one!</td>\n",
       "      <td>This dress in a lovely platinum is feminine an...</td>\n",
       "      <td>5</td>\n",
       "      <td>1</td>\n",
       "      <td>22</td>\n",
       "      <td>General Petite</td>\n",
       "      <td>Dresses</td>\n",
       "      <td>Dresses</td>\n",
       "    </tr>\n",
       "  </tbody>\n",
       "</table>\n",
       "<p>23486 rows × 10 columns</p>\n",
       "</div>"
      ],
      "text/plain": [
       "       Clothing ID  Age                                              Title  \\\n",
       "0              847   33                                  Cute, crisp shirt   \n",
       "1             1080   34                                                NaN   \n",
       "2             1077   60                            Some major design flaws   \n",
       "3             1049   50                                   My favorite buy!   \n",
       "4              847   47                                   Flattering shirt   \n",
       "...            ...  ...                                                ...   \n",
       "23481         1104   34                     Great dress for many occasions   \n",
       "23482          862   48                         Wish it was made of cotton   \n",
       "23483         1104   31                              Cute, but see through   \n",
       "23484         1084   28  Very cute dress, perfect for summer parties an...   \n",
       "23485         1104   52                    Please make more like this one!   \n",
       "\n",
       "                                             Review Text  Rating  \\\n",
       "0      If this product was in petite  i would get the...       4   \n",
       "1      Love this dress!  it's sooo pretty.  i happene...       5   \n",
       "2      I had such high hopes for this dress and reall...       3   \n",
       "3      I love  love  love this jumpsuit. it's fun  fl...       5   \n",
       "4      This shirt is very flattering to all due to th...       5   \n",
       "...                                                  ...     ...   \n",
       "23481  I was very happy to snag this dress at such a ...       5   \n",
       "23482  It reminds me of maternity clothes. soft  stre...       3   \n",
       "23483  This fit well  but the top was very see throug...       3   \n",
       "23484  I bought this dress for a wedding i have this ...       3   \n",
       "23485  This dress in a lovely platinum is feminine an...       5   \n",
       "\n",
       "       Recommended IND  Positive Feedback Count   Division Name  \\\n",
       "0                    1                        2         General   \n",
       "1                    1                        4         General   \n",
       "2                    0                        0         General   \n",
       "3                    1                        0  General Petite   \n",
       "4                    1                        6         General   \n",
       "...                ...                      ...             ...   \n",
       "23481                1                        0  General Petite   \n",
       "23482                1                        0  General Petite   \n",
       "23483                0                        1  General Petite   \n",
       "23484                1                        2         General   \n",
       "23485                1                       22  General Petite   \n",
       "\n",
       "      Department Name Class Name  \n",
       "0                Tops    Blouses  \n",
       "1             Dresses    Dresses  \n",
       "2             Dresses    Dresses  \n",
       "3             Bottoms      Pants  \n",
       "4                Tops    Blouses  \n",
       "...               ...        ...  \n",
       "23481         Dresses    Dresses  \n",
       "23482            Tops      Knits  \n",
       "23483         Dresses    Dresses  \n",
       "23484         Dresses    Dresses  \n",
       "23485         Dresses    Dresses  \n",
       "\n",
       "[23486 rows x 10 columns]"
      ]
     },
     "execution_count": 24,
     "metadata": {},
     "output_type": "execute_result"
    }
   ],
   "source": [
    "df"
   ]
  },
  {
   "cell_type": "markdown",
   "metadata": {},
   "source": [
    "<a name='c1w1-1.3.'></a>\n",
    "### 1.3. Transform the data\n",
    "To simplify the task, you will transform the data into a comma-separated value (CSV) file that contains only a `review_body`, `product_category`, and `sentiment` derived from the original data."
   ]
  },
  {
   "cell_type": "code",
   "execution_count": 25,
   "metadata": {
    "tags": []
   },
   "outputs": [
    {
     "data": {
      "text/plain": [
       "(22628, 3)"
      ]
     },
     "execution_count": 25,
     "metadata": {},
     "output_type": "execute_result"
    }
   ],
   "source": [
    "df_transformed = df.rename(columns={'Review Text': 'review_body',\n",
    "                                    'Rating': 'star_rating',\n",
    "                                    'Class Name': 'product_category'})\n",
    "df_transformed.drop(columns=['Clothing ID', 'Age', 'Title', 'Recommended IND', 'Positive Feedback Count', 'Division Name', 'Department Name'],\n",
    "                    inplace=True)\n",
    "\n",
    "df_transformed.dropna(inplace=True)\n",
    "\n",
    "df_transformed.shape"
   ]
  },
  {
   "cell_type": "markdown",
   "metadata": {},
   "source": [
    "Now convert the `star_rating` into the `sentiment` (positive, neutral, negative), which later on will be for the prediction."
   ]
  },
  {
   "cell_type": "code",
   "execution_count": 26,
   "metadata": {
    "tags": []
   },
   "outputs": [
    {
     "data": {
      "text/plain": [
       "(22626, 3)"
      ]
     },
     "execution_count": 26,
     "metadata": {},
     "output_type": "execute_result"
    }
   ],
   "source": [
    "def to_sentiment(star_rating):\n",
    "    if star_rating in {1, 2}: # negative\n",
    "        return -1 \n",
    "    if star_rating == 3:      # neutral\n",
    "        return 0\n",
    "    if star_rating in {4, 5}: # positive\n",
    "        return 1\n",
    "\n",
    "# transform star_rating into the sentiment\n",
    "df_transformed['sentiment'] = df_transformed['star_rating'].apply(lambda star_rating: \n",
    "    to_sentiment(star_rating=star_rating) \n",
    ")\n",
    "\n",
    "# drop the star rating column\n",
    "df_transformed.drop(columns=['star_rating'],\n",
    "                    inplace=True)\n",
    "\n",
    "# remove reviews for product_categories with < 10 reviews\n",
    "df_transformed = df_transformed.groupby('product_category').filter(lambda reviews : len(reviews) > 10)[['sentiment', 'review_body', 'product_category']]\n",
    "\n",
    "df_transformed.shape"
   ]
  },
  {
   "cell_type": "code",
   "execution_count": 27,
   "metadata": {
    "tags": []
   },
   "outputs": [
    {
     "data": {
      "text/html": [
       "<div>\n",
       "<style scoped>\n",
       "    .dataframe tbody tr th:only-of-type {\n",
       "        vertical-align: middle;\n",
       "    }\n",
       "\n",
       "    .dataframe tbody tr th {\n",
       "        vertical-align: top;\n",
       "    }\n",
       "\n",
       "    .dataframe thead th {\n",
       "        text-align: right;\n",
       "    }\n",
       "</style>\n",
       "<table border=\"1\" class=\"dataframe\">\n",
       "  <thead>\n",
       "    <tr style=\"text-align: right;\">\n",
       "      <th></th>\n",
       "      <th>sentiment</th>\n",
       "      <th>review_body</th>\n",
       "      <th>product_category</th>\n",
       "    </tr>\n",
       "  </thead>\n",
       "  <tbody>\n",
       "    <tr>\n",
       "      <th>0</th>\n",
       "      <td>1</td>\n",
       "      <td>If this product was in petite  i would get the...</td>\n",
       "      <td>Blouses</td>\n",
       "    </tr>\n",
       "    <tr>\n",
       "      <th>1</th>\n",
       "      <td>1</td>\n",
       "      <td>Love this dress!  it's sooo pretty.  i happene...</td>\n",
       "      <td>Dresses</td>\n",
       "    </tr>\n",
       "    <tr>\n",
       "      <th>2</th>\n",
       "      <td>0</td>\n",
       "      <td>I had such high hopes for this dress and reall...</td>\n",
       "      <td>Dresses</td>\n",
       "    </tr>\n",
       "    <tr>\n",
       "      <th>3</th>\n",
       "      <td>1</td>\n",
       "      <td>I love  love  love this jumpsuit. it's fun  fl...</td>\n",
       "      <td>Pants</td>\n",
       "    </tr>\n",
       "    <tr>\n",
       "      <th>4</th>\n",
       "      <td>1</td>\n",
       "      <td>This shirt is very flattering to all due to th...</td>\n",
       "      <td>Blouses</td>\n",
       "    </tr>\n",
       "    <tr>\n",
       "      <th>...</th>\n",
       "      <td>...</td>\n",
       "      <td>...</td>\n",
       "      <td>...</td>\n",
       "    </tr>\n",
       "    <tr>\n",
       "      <th>23481</th>\n",
       "      <td>1</td>\n",
       "      <td>I was very happy to snag this dress at such a ...</td>\n",
       "      <td>Dresses</td>\n",
       "    </tr>\n",
       "    <tr>\n",
       "      <th>23482</th>\n",
       "      <td>0</td>\n",
       "      <td>It reminds me of maternity clothes. soft  stre...</td>\n",
       "      <td>Knits</td>\n",
       "    </tr>\n",
       "    <tr>\n",
       "      <th>23483</th>\n",
       "      <td>0</td>\n",
       "      <td>This fit well  but the top was very see throug...</td>\n",
       "      <td>Dresses</td>\n",
       "    </tr>\n",
       "    <tr>\n",
       "      <th>23484</th>\n",
       "      <td>0</td>\n",
       "      <td>I bought this dress for a wedding i have this ...</td>\n",
       "      <td>Dresses</td>\n",
       "    </tr>\n",
       "    <tr>\n",
       "      <th>23485</th>\n",
       "      <td>1</td>\n",
       "      <td>This dress in a lovely platinum is feminine an...</td>\n",
       "      <td>Dresses</td>\n",
       "    </tr>\n",
       "  </tbody>\n",
       "</table>\n",
       "<p>22626 rows × 3 columns</p>\n",
       "</div>"
      ],
      "text/plain": [
       "       sentiment                                        review_body  \\\n",
       "0              1  If this product was in petite  i would get the...   \n",
       "1              1  Love this dress!  it's sooo pretty.  i happene...   \n",
       "2              0  I had such high hopes for this dress and reall...   \n",
       "3              1  I love  love  love this jumpsuit. it's fun  fl...   \n",
       "4              1  This shirt is very flattering to all due to th...   \n",
       "...          ...                                                ...   \n",
       "23481          1  I was very happy to snag this dress at such a ...   \n",
       "23482          0  It reminds me of maternity clothes. soft  stre...   \n",
       "23483          0  This fit well  but the top was very see throug...   \n",
       "23484          0  I bought this dress for a wedding i have this ...   \n",
       "23485          1  This dress in a lovely platinum is feminine an...   \n",
       "\n",
       "      product_category  \n",
       "0              Blouses  \n",
       "1              Dresses  \n",
       "2              Dresses  \n",
       "3                Pants  \n",
       "4              Blouses  \n",
       "...                ...  \n",
       "23481          Dresses  \n",
       "23482            Knits  \n",
       "23483          Dresses  \n",
       "23484          Dresses  \n",
       "23485          Dresses  \n",
       "\n",
       "[22626 rows x 3 columns]"
      ]
     },
     "execution_count": 27,
     "metadata": {},
     "output_type": "execute_result"
    }
   ],
   "source": [
    "# preview the results\n",
    "df_transformed"
   ]
  },
  {
   "cell_type": "markdown",
   "metadata": {},
   "source": [
    "<a name='c1w1-1.4.'></a>\n",
    "### 1.4 Write the data to a CSV file"
   ]
  },
  {
   "cell_type": "code",
   "execution_count": 28,
   "metadata": {
    "tags": []
   },
   "outputs": [],
   "source": [
    "df_transformed.to_csv('./womens_clothing_ecommerce_reviews_transformed.csv', \n",
    "                      index=False)"
   ]
  },
  {
   "cell_type": "code",
   "execution_count": 29,
   "metadata": {
    "tags": []
   },
   "outputs": [
    {
     "name": "stdout",
     "output_type": "stream",
     "text": [
      "sentiment,review_body,product_category\n",
      "1,If this product was in petite  i would get the petite. the regular is a little long on me but a tailor can do a simple fix on that.     fits nicely! i'm 5'4  130lb and pregnant so i bough t medium to grow into.     the tie can be front or back so provides for some nice flexibility on form fitting.,Blouses\n",
      "1,\"Love this dress!  it's sooo pretty.  i happened to find it in a store  and i'm glad i did bc i never would have ordered it online bc it's petite.  i bought a petite and am 5'8\"\".  i love the length on me- hits just a little below the knee.  would definitely be a true midi on someone who is truly petite.\",Dresses\n",
      "0,I had such high hopes for this dress and really wanted it to work for me. i initially ordered the petite small (my usual size) but i found this to be outrageously small. so small in fact that i could not zip it up! i reordered it in petite medium  which was just ok. overall  the top half was comfortable and fit nicely  but the bottom half had a very tight under layer and several somewhat cheap (net) over layers. imo  a major design flaw was the net over layer sewn directly into the zipper - it c,Dresses\n",
      "1,I love  love  love this jumpsuit. it's fun  flirty  and fabulous! every time i wear it  i get nothing but great compliments!,Pants\n"
     ]
    }
   ],
   "source": [
    "!head -n 5 ./womens_clothing_ecommerce_reviews_transformed.csv"
   ]
  },
  {
   "cell_type": "markdown",
   "metadata": {},
   "source": [
    "<a name='c1w1-2.'></a>\n",
    "# 2. Register the public dataset for querying and visualizing\n",
    "You will register the public dataset into an S3-backed database table so you can query and visualize our dataset at scale. "
   ]
  },
  {
   "cell_type": "markdown",
   "metadata": {},
   "source": [
    "<a name='c1w1-2.1.'></a>\n",
    "### 2.1. Register S3 dataset files as a table for querying\n",
    "Let's import required modules.\n",
    "\n",
    "`boto3` is the AWS SDK for Python to create, configure, and manage AWS services, such as Amazon Elastic Compute Cloud (Amazon EC2) and Amazon Simple Storage Service (Amazon S3). The SDK provides an object-oriented API as well as low-level access to AWS services. \n",
    "\n",
    "`sagemaker` is the SageMaker Python SDK which provides several high-level abstractions for working with the Amazon SageMaker."
   ]
  },
  {
   "cell_type": "code",
   "execution_count": 30,
   "metadata": {
    "tags": []
   },
   "outputs": [
    {
     "name": "stdout",
     "output_type": "stream",
     "text": [
      "S3 Bucket: sagemaker-us-east-1-003515149894\n",
      "Region: us-east-1\n",
      "Account ID: <bound method Session.account_id of <sagemaker.session.Session object at 0x7fc2a3bd3af0>>\n"
     ]
    }
   ],
   "source": [
    "import boto3\n",
    "import sagemaker\n",
    "import pandas as pd\n",
    "import numpy as np\n",
    "import botocore\n",
    "\n",
    "config = botocore.config.Config(user_agent_extra='dlai-pds/c1/w1')\n",
    "\n",
    "# low-level service client of the boto3 session\n",
    "sm = boto3.client(service_name='sagemaker', \n",
    "                  config=config)\n",
    "\n",
    "sess = sagemaker.Session(sagemaker_client=sm)                         \n",
    "\n",
    "bucket = sess.default_bucket()\n",
    "role = sagemaker.get_execution_role()\n",
    "region = sess.boto_region_name\n",
    "account_id = sess.account_id\n",
    "\n",
    "print('S3 Bucket: {}'.format(bucket))\n",
    "print('Region: {}'.format(region))\n",
    "print('Account ID: {}'.format(account_id))"
   ]
  },
  {
   "cell_type": "markdown",
   "metadata": {},
   "source": [
    "Review the empty bucket which was created automatically for this account.\n",
    "\n",
    "**Instructions**: \n",
    "- open the link\n",
    "- click on the S3 bucket name `sagemaker-us-east-1-ACCOUNT`\n",
    "- check that it is empty at this stage"
   ]
  },
  {
   "cell_type": "code",
   "execution_count": 31,
   "metadata": {
    "tags": []
   },
   "outputs": [
    {
     "name": "stderr",
     "output_type": "stream",
     "text": [
      "/tmp/ipykernel_350/2094588680.py:1: DeprecationWarning: Importing display from IPython.core.display is deprecated since IPython 7.14, please import from IPython display\n",
      "  from IPython.core.display import display, HTML\n"
     ]
    },
    {
     "data": {
      "text/html": [
       "<b>Review <a target=\"top\" href=\"https://s3.console.aws.amazon.com/s3/home?region=us-east-1#\">Amazon S3 buckets</a></b>"
      ],
      "text/plain": [
       "<IPython.core.display.HTML object>"
      ]
     },
     "metadata": {},
     "output_type": "display_data"
    }
   ],
   "source": [
    "from IPython.core.display import display, HTML\n",
    "\n",
    "display(HTML('<b>Review <a target=\"top\" href=\"https://s3.console.aws.amazon.com/s3/home?region={}#\">Amazon S3 buckets</a></b>'.format(region)))"
   ]
  },
  {
   "cell_type": "markdown",
   "metadata": {},
   "source": [
    "Copy the file into the S3 bucket."
   ]
  },
  {
   "cell_type": "code",
   "execution_count": 32,
   "metadata": {
    "tags": []
   },
   "outputs": [
    {
     "name": "stdout",
     "output_type": "stream",
     "text": [
      "upload: ./womens_clothing_ecommerce_reviews_transformed.csv to s3://sagemaker-us-east-1-003515149894/data/transformed/womens_clothing_ecommerce_reviews_transformed.csv\n"
     ]
    }
   ],
   "source": [
    "!aws s3 cp ./womens_clothing_ecommerce_reviews_transformed.csv s3://$bucket/data/transformed/womens_clothing_ecommerce_reviews_transformed.csv"
   ]
  },
  {
   "cell_type": "markdown",
   "metadata": {},
   "source": [
    "Review the bucket with the file we uploaded above.\n",
    "\n",
    "**Instructions**: \n",
    "- open the link\n",
    "- check that the CSV file is located in the S3 bucket\n",
    "- check the location directory structure is the same as in the CLI command above\n",
    "- click on the file name and see the available information about the file (region, size, S3 URI, Amazon Resource Name (ARN))"
   ]
  },
  {
   "cell_type": "code",
   "execution_count": 33,
   "metadata": {
    "tags": []
   },
   "outputs": [
    {
     "name": "stderr",
     "output_type": "stream",
     "text": [
      "/tmp/ipykernel_350/1628230508.py:1: DeprecationWarning: Importing display from IPython.core.display is deprecated since IPython 7.14, please import from IPython display\n",
      "  from IPython.core.display import display, HTML\n"
     ]
    },
    {
     "data": {
      "text/html": [
       "<b>Review <a target=\"top\" href=\"https://s3.console.aws.amazon.com/s3/buckets/sagemaker-us-east-1-003515149894?region=us-east-1&prefix=data/transformed/#\">Amazon S3 buckets</a></b>"
      ],
      "text/plain": [
       "<IPython.core.display.HTML object>"
      ]
     },
     "metadata": {},
     "output_type": "display_data"
    }
   ],
   "source": [
    "from IPython.core.display import display, HTML\n",
    "\n",
    "display(HTML('<b>Review <a target=\"top\" href=\"https://s3.console.aws.amazon.com/s3/buckets/{}?region={}&prefix=data/transformed/#\">Amazon S3 buckets</a></b>'.format(bucket, region)))"
   ]
  },
  {
   "cell_type": "markdown",
   "metadata": {},
   "source": [
    "**Import AWS Data Wrangler**\n",
    "\n",
    "[AWS Data Wrangler](https://github.com/awslabs/aws-data-wrangler) is an AWS Professional Service open source python initiative that extends the power of Pandas library to AWS connecting dataframes and AWS data related services (Amazon Redshift, AWS Glue, Amazon Athena, Amazon EMR, Amazon QuickSight, etc).\n",
    "\n",
    "Built on top of other open-source projects like Pandas, Apache Arrow, Boto3, SQLAlchemy, Psycopg2 and PyMySQL, it offers abstracted functions to execute usual ETL tasks like load/unload data from data lakes, data warehouses and databases."
   ]
  },
  {
   "cell_type": "markdown",
   "metadata": {},
   "source": [
    "Review the AWS Data Wrangler documentation: https://aws-data-wrangler.readthedocs.io/en/stable/"
   ]
  },
  {
   "cell_type": "code",
   "execution_count": 35,
   "metadata": {
    "tags": []
   },
   "outputs": [],
   "source": [
    "import awswrangler as wr"
   ]
  },
  {
   "cell_type": "markdown",
   "metadata": {},
   "source": [
    "**Create AWS Glue Catalog database**"
   ]
  },
  {
   "cell_type": "markdown",
   "metadata": {},
   "source": [
    "The data catalog features of **AWS Glue** and the inbuilt integration to Amazon S3 simplify the process of identifying data and deriving the schema definition out of the discovered data. Using AWS Glue crawlers within your data catalog, you can traverse your data stored in Amazon S3 and build out the metadata tables that are defined in your data catalog.\n",
    "\n",
    "Here you will use `wr.catalog.create_database` function to create a database with the name `dsoaws_deep_learning` (\"dsoaws\" stands for \"Data Science on AWS\")."
   ]
  },
  {
   "cell_type": "code",
   "execution_count": 36,
   "metadata": {
    "tags": []
   },
   "outputs": [],
   "source": [
    "wr.catalog.create_database(\n",
    "    name='dsoaws_deep_learning',\n",
    "    exist_ok=True\n",
    ")"
   ]
  },
  {
   "cell_type": "code",
   "execution_count": 37,
   "metadata": {
    "tags": []
   },
   "outputs": [
    {
     "name": "stdout",
     "output_type": "stream",
     "text": [
      "Database name: dsoaws_deep_learning\n"
     ]
    }
   ],
   "source": [
    "dbs = wr.catalog.get_databases()\n",
    "\n",
    "for db in dbs:\n",
    "    print(\"Database name: \" + db['Name'])"
   ]
  },
  {
   "cell_type": "markdown",
   "metadata": {},
   "source": [
    "Review the created database in the AWS Glue Catalog.\n",
    "\n",
    "**Instructions**:\n",
    "- open the link\n",
    "- on the left side panel notice that you are in the AWS Glue -> Data Catalog -> Databases\n",
    "- check that the database `dsoaws_deep_learning` has been created\n",
    "- click on the name of the database\n",
    "- click on the `Tables in dsoaws_deep_learning` link to see that there are no tables"
   ]
  },
  {
   "cell_type": "code",
   "execution_count": 38,
   "metadata": {
    "tags": []
   },
   "outputs": [
    {
     "name": "stderr",
     "output_type": "stream",
     "text": [
      "/tmp/ipykernel_350/2996986658.py:1: DeprecationWarning: Importing display from IPython.core.display is deprecated since IPython 7.14, please import from IPython display\n",
      "  from IPython.core.display import display, HTML\n"
     ]
    },
    {
     "data": {
      "text/html": [
       "<b>Review <a target=\"top\" href=\"https://console.aws.amazon.com/glue/home?region=us-east-1#catalog:tab=databases\">AWS Glue Databases</a></b>"
      ],
      "text/plain": [
       "<IPython.core.display.HTML object>"
      ]
     },
     "metadata": {},
     "output_type": "display_data"
    }
   ],
   "source": [
    "from IPython.core.display import display, HTML\n",
    "\n",
    "display(HTML('<b>Review <a target=\"top\" href=\"https://console.aws.amazon.com/glue/home?region={}#catalog:tab=databases\">AWS Glue Databases</a></b>'.format(region)))"
   ]
  },
  {
   "cell_type": "markdown",
   "metadata": {},
   "source": [
    "**Register CSV data with AWS Glue Catalog**"
   ]
  },
  {
   "cell_type": "markdown",
   "metadata": {},
   "source": [
    "<a name='c1w1-ex-2'></a>\n",
    "### Exercise 2\n",
    "\n",
    "Register CSV data with AWS Glue Catalog.\n",
    "\n",
    "**Instructions**:\n",
    "Use ```wr.catalog.create_csv_table``` function with the following parameters\n",
    "```python\n",
    "res = wr.catalog.create_csv_table(\n",
    "    database='...', # AWS Glue Catalog database name\n",
    "    path='s3://{}/data/transformed/'.format(bucket), # S3 object path for the data\n",
    "    table='reviews', # registered table name\n",
    "    columns_types={\n",
    "        'sentiment': 'int',        \n",
    "        'review_body': 'string',\n",
    "        'product_category': 'string'      \n",
    "    },\n",
    "    mode='overwrite',\n",
    "    skip_header_line_count=1,\n",
    "    sep=','    \n",
    ")\n",
    "```"
   ]
  },
  {
   "cell_type": "code",
   "execution_count": 39,
   "metadata": {
    "tags": []
   },
   "outputs": [],
   "source": [
    "wr.catalog.create_csv_table(\n",
    "    ### BEGIN SOLUTION - DO NOT delete this comment for grading purposes\n",
    "    database='dsoaws_deep_learning', # Replace None\n",
    "    ### END SOLUTION - DO NOT delete this comment for grading purposes\n",
    "    path='s3://{}/data/transformed/'.format(bucket), \n",
    "    table=\"reviews\",    \n",
    "    columns_types={\n",
    "        'sentiment': 'int',        \n",
    "        'review_body': 'string',\n",
    "        'product_category': 'string'      \n",
    "    },\n",
    "    mode='overwrite',\n",
    "    skip_header_line_count=1,\n",
    "    sep=','\n",
    ")"
   ]
  },
  {
   "cell_type": "markdown",
   "metadata": {},
   "source": [
    "Review the registered table in the AWS Glue Catalog.\n",
    "\n",
    "**Instructions**:\n",
    "- open the link\n",
    "- on the left side panel notice that you are in the AWS Glue -> Data Catalog -> Databases -> Tables\n",
    "- check that you can see the table `reviews` from the database `dsoaws_deep_learning` in the list\n",
    "- click on the name of the table\n",
    "- explore the available information about the table (name, database, classification, location, schema etc.)"
   ]
  },
  {
   "cell_type": "code",
   "execution_count": 40,
   "metadata": {
    "tags": []
   },
   "outputs": [
    {
     "name": "stderr",
     "output_type": "stream",
     "text": [
      "/tmp/ipykernel_350/19572356.py:1: DeprecationWarning: Importing display from IPython.core.display is deprecated since IPython 7.14, please import from IPython display\n",
      "  from IPython.core.display import display, HTML\n"
     ]
    },
    {
     "data": {
      "text/html": [
       "<b>Review <a target=\"top\" href=\"https://console.aws.amazon.com/glue/home?region=us-east-1#\">AWS Glue Catalog</a></b>"
      ],
      "text/plain": [
       "<IPython.core.display.HTML object>"
      ]
     },
     "metadata": {},
     "output_type": "display_data"
    }
   ],
   "source": [
    "from IPython.core.display import display, HTML\n",
    "\n",
    "display(HTML('<b>Review <a target=\"top\" href=\"https://console.aws.amazon.com/glue/home?region={}#\">AWS Glue Catalog</a></b>'.format(region)))"
   ]
  },
  {
   "cell_type": "markdown",
   "metadata": {},
   "source": [
    "Review the table shape:"
   ]
  },
  {
   "cell_type": "code",
   "execution_count": 41,
   "metadata": {
    "tags": []
   },
   "outputs": [
    {
     "data": {
      "text/html": [
       "<div>\n",
       "<style scoped>\n",
       "    .dataframe tbody tr th:only-of-type {\n",
       "        vertical-align: middle;\n",
       "    }\n",
       "\n",
       "    .dataframe tbody tr th {\n",
       "        vertical-align: top;\n",
       "    }\n",
       "\n",
       "    .dataframe thead th {\n",
       "        text-align: right;\n",
       "    }\n",
       "</style>\n",
       "<table border=\"1\" class=\"dataframe\">\n",
       "  <thead>\n",
       "    <tr style=\"text-align: right;\">\n",
       "      <th></th>\n",
       "      <th>Column Name</th>\n",
       "      <th>Type</th>\n",
       "      <th>Partition</th>\n",
       "      <th>Comment</th>\n",
       "    </tr>\n",
       "  </thead>\n",
       "  <tbody>\n",
       "    <tr>\n",
       "      <th>0</th>\n",
       "      <td>sentiment</td>\n",
       "      <td>int</td>\n",
       "      <td>False</td>\n",
       "      <td></td>\n",
       "    </tr>\n",
       "    <tr>\n",
       "      <th>1</th>\n",
       "      <td>review_body</td>\n",
       "      <td>string</td>\n",
       "      <td>False</td>\n",
       "      <td></td>\n",
       "    </tr>\n",
       "    <tr>\n",
       "      <th>2</th>\n",
       "      <td>product_category</td>\n",
       "      <td>string</td>\n",
       "      <td>False</td>\n",
       "      <td></td>\n",
       "    </tr>\n",
       "  </tbody>\n",
       "</table>\n",
       "</div>"
      ],
      "text/plain": [
       "        Column Name    Type  Partition Comment\n",
       "0         sentiment     int      False        \n",
       "1       review_body  string      False        \n",
       "2  product_category  string      False        "
      ]
     },
     "execution_count": 41,
     "metadata": {},
     "output_type": "execute_result"
    }
   ],
   "source": [
    "table = wr.catalog.table(database='dsoaws_deep_learning',\n",
    "                         table='reviews')\n",
    "table"
   ]
  },
  {
   "cell_type": "markdown",
   "metadata": {},
   "source": [
    "<a name='c1w1-2.2.'></a>\n",
    "### 2.2. Create default S3 bucket for Amazon Athena\n",
    "\n",
    "Amazon Athena requires this S3 bucket to store temporary query results and improve performance of subsequent queries.\n",
    "\n",
    "The contents of this bucket are mostly binary and human-unreadable. "
   ]
  },
  {
   "cell_type": "code",
   "execution_count": 42,
   "metadata": {
    "tags": []
   },
   "outputs": [
    {
     "data": {
      "text/plain": [
       "'s3://aws-athena-query-results-003515149894-us-east-1/'"
      ]
     },
     "execution_count": 42,
     "metadata": {},
     "output_type": "execute_result"
    }
   ],
   "source": [
    "# S3 bucket name\n",
    "wr.athena.create_athena_bucket()\n",
    "\n",
    "# EXPECTED OUTPUT\n",
    "# 's3://aws-athena-query-results-ACCOUNT-REGION/'"
   ]
  },
  {
   "cell_type": "markdown",
   "metadata": {},
   "source": [
    "<a name='c1w1-3.'></a>\n",
    "# 3. Visualize data\n",
    "\n",
    "**Reviews dataset - column descriptions**\n",
    "\n",
    "- `sentiment`: The review's sentiment (-1, 0, 1).\n",
    "- `product_category`: Broad product category that can be used to group reviews (in this case digital videos).\n",
    "- `review_body`: The text of the review."
   ]
  },
  {
   "cell_type": "markdown",
   "metadata": {},
   "source": [
    "<a name='c1w1-3.1.'></a>\n",
    "### 3.1. Preparation for data visualization\n",
    "\n",
    "**Imports**"
   ]
  },
  {
   "cell_type": "code",
   "execution_count": 43,
   "metadata": {
    "tags": []
   },
   "outputs": [],
   "source": [
    "import numpy as np\n",
    "import seaborn as sns\n",
    "\n",
    "import matplotlib.pyplot as plt\n",
    "%matplotlib inline\n",
    "%config InlineBackend.figure_format='retina'"
   ]
  },
  {
   "cell_type": "markdown",
   "metadata": {},
   "source": [
    "**Settings**"
   ]
  },
  {
   "cell_type": "markdown",
   "metadata": {},
   "source": [
    "Set AWS Glue database and table name."
   ]
  },
  {
   "cell_type": "code",
   "execution_count": 44,
   "metadata": {
    "tags": []
   },
   "outputs": [],
   "source": [
    "# Do not change the database and table names - they are used for grading purposes!\n",
    "database_name = 'dsoaws_deep_learning'\n",
    "table_name = 'reviews'"
   ]
  },
  {
   "cell_type": "markdown",
   "metadata": {},
   "source": [
    "Set seaborn parameters. You can review seaborn documentation following the [link](https://seaborn.pydata.org/index.html)."
   ]
  },
  {
   "cell_type": "code",
   "execution_count": 45,
   "metadata": {
    "tags": []
   },
   "outputs": [],
   "source": [
    "sns.set_style = 'seaborn-whitegrid'\n",
    "\n",
    "sns.set(rc={\"font.style\":\"normal\",\n",
    "            \"axes.facecolor\":\"white\",\n",
    "            'grid.color': '.8',\n",
    "            'grid.linestyle': '-',\n",
    "            \"figure.facecolor\":\"white\",\n",
    "            \"figure.titlesize\":20,\n",
    "            \"text.color\":\"black\",\n",
    "            \"xtick.color\":\"black\",\n",
    "            \"ytick.color\":\"black\",\n",
    "            \"axes.labelcolor\":\"black\",\n",
    "            \"axes.grid\":True,\n",
    "            'axes.labelsize':10,\n",
    "            'xtick.labelsize':10,\n",
    "            'font.size':10,\n",
    "            'ytick.labelsize':10})"
   ]
  },
  {
   "cell_type": "markdown",
   "metadata": {},
   "source": [
    "Helper code to display values on barplots:"
   ]
  },
  {
   "cell_type": "markdown",
   "metadata": {},
   "source": [
    "**Run SQL queries using Amazon Athena**"
   ]
  },
  {
   "cell_type": "markdown",
   "metadata": {},
   "source": [
    "**Amazon Athena** lets you query data in Amazon S3 using a standard SQL interface. It reflects the databases and tables in the AWS Glue Catalog. You can create interactive queries and perform any data manipulations required for further downstream processing."
   ]
  },
  {
   "cell_type": "markdown",
   "metadata": {},
   "source": [
    "Standard SQL query can be saved as a string and then passed as a parameter into the Athena query. Run the following cells as an example to count the total number of reviews by sentiment. The SQL query here will take the following form:\n",
    "\n",
    "```sql\n",
    "SELECT column_name, COUNT(column_name) as new_column_name\n",
    "FROM table_name\n",
    "GROUP BY column_name\n",
    "ORDER BY column_name\n",
    "```\n",
    "\n",
    "If you are not familiar with the SQL query statements, you can review some tutorials following the [link](https://www.w3schools.com/sql/default.asp)."
   ]
  },
  {
   "cell_type": "markdown",
   "metadata": {},
   "source": [
    "<a name='c1w1-3.2.'></a>\n",
    "### 3.2. How many reviews per sentiment?"
   ]
  },
  {
   "cell_type": "markdown",
   "metadata": {},
   "source": [
    "Set the SQL statement to find the count of sentiments:"
   ]
  },
  {
   "cell_type": "code",
   "execution_count": 46,
   "metadata": {
    "tags": []
   },
   "outputs": [
    {
     "name": "stdout",
     "output_type": "stream",
     "text": [
      "\n",
      "SELECT sentiment, COUNT(sentiment) AS count_sentiment\n",
      "FROM reviews\n",
      "GROUP BY sentiment\n",
      "ORDER BY sentiment\n",
      "\n"
     ]
    }
   ],
   "source": [
    "statement_count_by_sentiment = \"\"\"\n",
    "SELECT sentiment, COUNT(sentiment) AS count_sentiment\n",
    "FROM reviews\n",
    "GROUP BY sentiment\n",
    "ORDER BY sentiment\n",
    "\"\"\"\n",
    "\n",
    "print(statement_count_by_sentiment)"
   ]
  },
  {
   "cell_type": "markdown",
   "metadata": {},
   "source": [
    "Query data in Amazon Athena database cluster using the prepared SQL statement:"
   ]
  },
  {
   "cell_type": "code",
   "execution_count": 47,
   "metadata": {
    "tags": []
   },
   "outputs": [
    {
     "name": "stderr",
     "output_type": "stream",
     "text": [
      "/opt/conda/lib/python3.10/site-packages/awswrangler/_distributed.py:105: FutureWarning: promote has been superseded by mode='default'.\n",
      "  return cls.dispatch_func(func)(*args, **kw)\n"
     ]
    },
    {
     "name": "stdout",
     "output_type": "stream",
     "text": [
      "   sentiment  count_sentiment\n",
      "0         -1             2370\n",
      "1          0             2823\n",
      "2          1            17433\n"
     ]
    }
   ],
   "source": [
    "df_count_by_sentiment = wr.athena.read_sql_query(\n",
    "    sql=statement_count_by_sentiment,\n",
    "    database=database_name\n",
    ")\n",
    "\n",
    "print(df_count_by_sentiment)"
   ]
  },
  {
   "cell_type": "markdown",
   "metadata": {},
   "source": [
    "Preview the results of the query:"
   ]
  },
  {
   "cell_type": "code",
   "execution_count": 48,
   "metadata": {
    "tags": []
   },
   "outputs": [
    {
     "data": {
      "text/plain": [
       "<AxesSubplot:xlabel='sentiment'>"
      ]
     },
     "execution_count": 48,
     "metadata": {},
     "output_type": "execute_result"
    },
    {
     "data": {
      "image/png": "[encoded data removed]",
      "text/plain": [
       "<Figure size 640x480 with 1 Axes>"
      ]
     },
     "metadata": {
      "image/png": {
       "height": 436,
       "width": 573
      }
     },
     "output_type": "display_data"
    }
   ],
   "source": [
    "df_count_by_sentiment.plot(kind='bar', x='sentiment', y='count_sentiment', rot=0)"
   ]
  },
  {
   "cell_type": "markdown",
   "metadata": {},
   "source": [
    "<a name='c1w1-ex-3'></a>\n",
    "### Exercise 3\n",
    "\n",
    "Use Amazon Athena query with the standard SQL statement passed as a parameter, to calculate the total number of reviews per `product_category` in the table ```reviews```.\n",
    "\n",
    "**Instructions**: Pass the SQL statement of the form\n",
    "\n",
    "```sql\n",
    "SELECT category_column, COUNT(column_name) AS new_column_name\n",
    "FROM table_name\n",
    "GROUP BY category_column\n",
    "ORDER BY new_column_name DESC\n",
    "```\n",
    "\n",
    "as a triple quote string into the variable `statement_count_by_category`. Please use the column `sentiment` in the `COUNT` function and give it a new name `count_sentiment`."
   ]
  },
  {
   "cell_type": "code",
   "execution_count": 52,
   "metadata": {
    "tags": []
   },
   "outputs": [
    {
     "name": "stdout",
     "output_type": "stream",
     "text": [
      "\n",
      "SELECT product_category, COUNT(sentiment) AS count_sentiment\n",
      "FROM reviews\n",
      "GROUP BY product_category\n",
      "ORDER BY count_sentiment DESC\n",
      "\n"
     ]
    }
   ],
   "source": [
    "# Replace all None\n",
    "### BEGIN SOLUTION - DO NOT delete this comment for grading purposes\n",
    "statement_count_by_category = \"\"\"\n",
    "SELECT product_category, COUNT(sentiment) AS count_sentiment\n",
    "FROM reviews\n",
    "GROUP BY product_category\n",
    "ORDER BY count_sentiment DESC\n",
    "\"\"\"\n",
    "### END SOLUTION - DO NOT delete this comment for grading purposes\n",
    "print(statement_count_by_category)"
   ]
  },
  {
   "cell_type": "markdown",
   "metadata": {},
   "source": [
    "Query data in Amazon Athena database passing the prepared SQL statement:"
   ]
  },
  {
   "cell_type": "code",
   "execution_count": 53,
   "metadata": {
    "tags": []
   },
   "outputs": [
    {
     "name": "stderr",
     "output_type": "stream",
     "text": [
      "/opt/conda/lib/python3.10/site-packages/awswrangler/_distributed.py:105: FutureWarning: promote has been superseded by mode='default'.\n",
      "  return cls.dispatch_func(func)(*args, **kw)\n"
     ]
    },
    {
     "name": "stdout",
     "output_type": "stream",
     "text": [
      "CPU times: user 177 ms, sys: 18.3 ms, total: 195 ms\n",
      "Wall time: 3.35 s\n"
     ]
    },
    {
     "data": {
      "text/html": [
       "<div>\n",
       "<style scoped>\n",
       "    .dataframe tbody tr th:only-of-type {\n",
       "        vertical-align: middle;\n",
       "    }\n",
       "\n",
       "    .dataframe tbody tr th {\n",
       "        vertical-align: top;\n",
       "    }\n",
       "\n",
       "    .dataframe thead th {\n",
       "        text-align: right;\n",
       "    }\n",
       "</style>\n",
       "<table border=\"1\" class=\"dataframe\">\n",
       "  <thead>\n",
       "    <tr style=\"text-align: right;\">\n",
       "      <th></th>\n",
       "      <th>product_category</th>\n",
       "      <th>count_sentiment</th>\n",
       "    </tr>\n",
       "  </thead>\n",
       "  <tbody>\n",
       "    <tr>\n",
       "      <th>0</th>\n",
       "      <td>Dresses</td>\n",
       "      <td>6145</td>\n",
       "    </tr>\n",
       "    <tr>\n",
       "      <th>1</th>\n",
       "      <td>Knits</td>\n",
       "      <td>4626</td>\n",
       "    </tr>\n",
       "    <tr>\n",
       "      <th>2</th>\n",
       "      <td>Blouses</td>\n",
       "      <td>2983</td>\n",
       "    </tr>\n",
       "    <tr>\n",
       "      <th>3</th>\n",
       "      <td>Sweaters</td>\n",
       "      <td>1380</td>\n",
       "    </tr>\n",
       "    <tr>\n",
       "      <th>4</th>\n",
       "      <td>Pants</td>\n",
       "      <td>1350</td>\n",
       "    </tr>\n",
       "    <tr>\n",
       "      <th>5</th>\n",
       "      <td>Jeans</td>\n",
       "      <td>1104</td>\n",
       "    </tr>\n",
       "    <tr>\n",
       "      <th>6</th>\n",
       "      <td>Fine gauge</td>\n",
       "      <td>1059</td>\n",
       "    </tr>\n",
       "    <tr>\n",
       "      <th>7</th>\n",
       "      <td>Skirts</td>\n",
       "      <td>903</td>\n",
       "    </tr>\n",
       "    <tr>\n",
       "      <th>8</th>\n",
       "      <td>Jackets</td>\n",
       "      <td>683</td>\n",
       "    </tr>\n",
       "    <tr>\n",
       "      <th>9</th>\n",
       "      <td>Lounge</td>\n",
       "      <td>669</td>\n",
       "    </tr>\n",
       "    <tr>\n",
       "      <th>10</th>\n",
       "      <td>Swim</td>\n",
       "      <td>332</td>\n",
       "    </tr>\n",
       "    <tr>\n",
       "      <th>11</th>\n",
       "      <td>Outerwear</td>\n",
       "      <td>319</td>\n",
       "    </tr>\n",
       "    <tr>\n",
       "      <th>12</th>\n",
       "      <td>Shorts</td>\n",
       "      <td>304</td>\n",
       "    </tr>\n",
       "    <tr>\n",
       "      <th>13</th>\n",
       "      <td>Sleep</td>\n",
       "      <td>214</td>\n",
       "    </tr>\n",
       "    <tr>\n",
       "      <th>14</th>\n",
       "      <td>Legwear</td>\n",
       "      <td>158</td>\n",
       "    </tr>\n",
       "    <tr>\n",
       "      <th>15</th>\n",
       "      <td>Intimates</td>\n",
       "      <td>147</td>\n",
       "    </tr>\n",
       "    <tr>\n",
       "      <th>16</th>\n",
       "      <td>Layering</td>\n",
       "      <td>132</td>\n",
       "    </tr>\n",
       "    <tr>\n",
       "      <th>17</th>\n",
       "      <td>Trend</td>\n",
       "      <td>118</td>\n",
       "    </tr>\n",
       "  </tbody>\n",
       "</table>\n",
       "</div>"
      ],
      "text/plain": [
       "   product_category  count_sentiment\n",
       "0           Dresses             6145\n",
       "1             Knits             4626\n",
       "2           Blouses             2983\n",
       "3          Sweaters             1380\n",
       "4             Pants             1350\n",
       "5             Jeans             1104\n",
       "6        Fine gauge             1059\n",
       "7            Skirts              903\n",
       "8           Jackets              683\n",
       "9            Lounge              669\n",
       "10             Swim              332\n",
       "11        Outerwear              319\n",
       "12           Shorts              304\n",
       "13            Sleep              214\n",
       "14          Legwear              158\n",
       "15        Intimates              147\n",
       "16         Layering              132\n",
       "17            Trend              118"
      ]
     },
     "execution_count": 53,
     "metadata": {},
     "output_type": "execute_result"
    }
   ],
   "source": [
    "%%time\n",
    "df_count_by_category = wr.athena.read_sql_query(\n",
    "    sql=statement_count_by_category,\n",
    "    database=database_name\n",
    ")\n",
    "\n",
    "df_count_by_category\n",
    "\n",
    "# EXPECTED OUTPUT\n",
    "# Dresses: 6145\n",
    "# Knits: 4626\n",
    "# Blouses: 2983\n",
    "# Sweaters: 1380\n",
    "# Pants: 1350\n",
    "# ..."
   ]
  },
  {
   "cell_type": "markdown",
   "metadata": {},
   "source": [
    "<a name='c1w1-3.3.'></a>\n",
    "### 3.3. Which product categories are highest rated by average sentiment?"
   ]
  },
  {
   "cell_type": "markdown",
   "metadata": {},
   "source": [
    "Set the SQL statement to find the average sentiment per product category, showing the results in the descending order:"
   ]
  },
  {
   "cell_type": "code",
   "execution_count": 54,
   "metadata": {
    "tags": []
   },
   "outputs": [
    {
     "name": "stdout",
     "output_type": "stream",
     "text": [
      "\n",
      "SELECT product_category, AVG(sentiment) AS avg_sentiment\n",
      "FROM reviews \n",
      "GROUP BY product_category \n",
      "ORDER BY avg_sentiment DESC\n",
      "\n"
     ]
    }
   ],
   "source": [
    "statement_avg_by_category = \"\"\"\n",
    "SELECT product_category, AVG(sentiment) AS avg_sentiment\n",
    "FROM {} \n",
    "GROUP BY product_category \n",
    "ORDER BY avg_sentiment DESC\n",
    "\"\"\".format(table_name)\n",
    "\n",
    "print(statement_avg_by_category)"
   ]
  },
  {
   "cell_type": "markdown",
   "metadata": {},
   "source": [
    "Query data in Amazon Athena database passing the prepared SQL statement:"
   ]
  },
  {
   "cell_type": "code",
   "execution_count": 55,
   "metadata": {
    "tags": []
   },
   "outputs": [
    {
     "name": "stderr",
     "output_type": "stream",
     "text": [
      "/opt/conda/lib/python3.10/site-packages/awswrangler/_distributed.py:105: FutureWarning: promote has been superseded by mode='default'.\n",
      "  return cls.dispatch_func(func)(*args, **kw)\n"
     ]
    },
    {
     "name": "stdout",
     "output_type": "stream",
     "text": [
      "CPU times: user 346 ms, sys: 12.4 ms, total: 358 ms\n",
      "Wall time: 3.57 s\n"
     ]
    }
   ],
   "source": [
    "%%time\n",
    "df_avg_by_category = wr.athena.read_sql_query(\n",
    "    sql=statement_avg_by_category,\n",
    "    database=database_name\n",
    ")"
   ]
  },
  {
   "cell_type": "markdown",
   "metadata": {},
   "source": [
    "Preview the query results in the temporary S3 bucket:  `s3://aws-athena-query-results-ACCOUNT-REGION/`\n",
    "\n",
    "**Instructions**: \n",
    "- open the link\n",
    "- check the name of the S3 bucket\n",
    "- briefly check the content of it"
   ]
  },
  {
   "cell_type": "code",
   "execution_count": 56,
   "metadata": {
    "tags": []
   },
   "outputs": [
    {
     "name": "stderr",
     "output_type": "stream",
     "text": [
      "/tmp/ipykernel_350/920550784.py:1: DeprecationWarning: Importing display from IPython.core.display is deprecated since IPython 7.14, please import from IPython display\n",
      "  from IPython.core.display import display, HTML\n"
     ]
    },
    {
     "data": {
      "text/html": [
       "<b>Review <a target=\"top\" href=\"https://s3.console.aws.amazon.com/s3/buckets/aws-athena-query-results-<bound method Session.account_id of <sagemaker.session.Session object at 0x7fc2a3bd3af0>>-us-east-1?region=us-east-1\">Amazon S3 buckets</a></b>"
      ],
      "text/plain": [
       "<IPython.core.display.HTML object>"
      ]
     },
     "metadata": {},
     "output_type": "display_data"
    }
   ],
   "source": [
    "from IPython.core.display import display, HTML\n",
    "\n",
    "display(HTML('<b>Review <a target=\"top\" href=\"https://s3.console.aws.amazon.com/s3/buckets/aws-athena-query-results-{}-{}?region={}\">Amazon S3 buckets</a></b>'.format(account_id, region, region)))"
   ]
  },
  {
   "cell_type": "markdown",
   "metadata": {},
   "source": [
    "Preview the results of the query:"
   ]
  },
  {
   "cell_type": "code",
   "execution_count": 57,
   "metadata": {
    "tags": []
   },
   "outputs": [
    {
     "data": {
      "text/html": [
       "<div>\n",
       "<style scoped>\n",
       "    .dataframe tbody tr th:only-of-type {\n",
       "        vertical-align: middle;\n",
       "    }\n",
       "\n",
       "    .dataframe tbody tr th {\n",
       "        vertical-align: top;\n",
       "    }\n",
       "\n",
       "    .dataframe thead th {\n",
       "        text-align: right;\n",
       "    }\n",
       "</style>\n",
       "<table border=\"1\" class=\"dataframe\">\n",
       "  <thead>\n",
       "    <tr style=\"text-align: right;\">\n",
       "      <th></th>\n",
       "      <th>product_category</th>\n",
       "      <th>avg_sentiment</th>\n",
       "    </tr>\n",
       "  </thead>\n",
       "  <tbody>\n",
       "    <tr>\n",
       "      <th>0</th>\n",
       "      <td>Layering</td>\n",
       "      <td>0.780303</td>\n",
       "    </tr>\n",
       "    <tr>\n",
       "      <th>1</th>\n",
       "      <td>Jeans</td>\n",
       "      <td>0.746377</td>\n",
       "    </tr>\n",
       "    <tr>\n",
       "      <th>2</th>\n",
       "      <td>Lounge</td>\n",
       "      <td>0.745889</td>\n",
       "    </tr>\n",
       "    <tr>\n",
       "      <th>3</th>\n",
       "      <td>Sleep</td>\n",
       "      <td>0.710280</td>\n",
       "    </tr>\n",
       "    <tr>\n",
       "      <th>4</th>\n",
       "      <td>Shorts</td>\n",
       "      <td>0.707237</td>\n",
       "    </tr>\n",
       "    <tr>\n",
       "      <th>5</th>\n",
       "      <td>Pants</td>\n",
       "      <td>0.705185</td>\n",
       "    </tr>\n",
       "    <tr>\n",
       "      <th>6</th>\n",
       "      <td>Intimates</td>\n",
       "      <td>0.700680</td>\n",
       "    </tr>\n",
       "    <tr>\n",
       "      <th>7</th>\n",
       "      <td>Jackets</td>\n",
       "      <td>0.699854</td>\n",
       "    </tr>\n",
       "    <tr>\n",
       "      <th>8</th>\n",
       "      <td>Skirts</td>\n",
       "      <td>0.696567</td>\n",
       "    </tr>\n",
       "    <tr>\n",
       "      <th>9</th>\n",
       "      <td>Legwear</td>\n",
       "      <td>0.696203</td>\n",
       "    </tr>\n",
       "    <tr>\n",
       "      <th>10</th>\n",
       "      <td>Fine gauge</td>\n",
       "      <td>0.692162</td>\n",
       "    </tr>\n",
       "    <tr>\n",
       "      <th>11</th>\n",
       "      <td>Outerwear</td>\n",
       "      <td>0.683386</td>\n",
       "    </tr>\n",
       "    <tr>\n",
       "      <th>12</th>\n",
       "      <td>Knits</td>\n",
       "      <td>0.653913</td>\n",
       "    </tr>\n",
       "    <tr>\n",
       "      <th>13</th>\n",
       "      <td>Swim</td>\n",
       "      <td>0.644578</td>\n",
       "    </tr>\n",
       "    <tr>\n",
       "      <th>14</th>\n",
       "      <td>Dresses</td>\n",
       "      <td>0.643287</td>\n",
       "    </tr>\n",
       "    <tr>\n",
       "      <th>15</th>\n",
       "      <td>Sweaters</td>\n",
       "      <td>0.641304</td>\n",
       "    </tr>\n",
       "    <tr>\n",
       "      <th>16</th>\n",
       "      <td>Blouses</td>\n",
       "      <td>0.641301</td>\n",
       "    </tr>\n",
       "    <tr>\n",
       "      <th>17</th>\n",
       "      <td>Trend</td>\n",
       "      <td>0.483051</td>\n",
       "    </tr>\n",
       "  </tbody>\n",
       "</table>\n",
       "</div>"
      ],
      "text/plain": [
       "   product_category  avg_sentiment\n",
       "0          Layering       0.780303\n",
       "1             Jeans       0.746377\n",
       "2            Lounge       0.745889\n",
       "3             Sleep       0.710280\n",
       "4            Shorts       0.707237\n",
       "5             Pants       0.705185\n",
       "6         Intimates       0.700680\n",
       "7           Jackets       0.699854\n",
       "8            Skirts       0.696567\n",
       "9           Legwear       0.696203\n",
       "10       Fine gauge       0.692162\n",
       "11        Outerwear       0.683386\n",
       "12            Knits       0.653913\n",
       "13             Swim       0.644578\n",
       "14          Dresses       0.643287\n",
       "15         Sweaters       0.641304\n",
       "16          Blouses       0.641301\n",
       "17            Trend       0.483051"
      ]
     },
     "execution_count": 57,
     "metadata": {},
     "output_type": "execute_result"
    }
   ],
   "source": [
    "df_avg_by_category"
   ]
  },
  {
   "cell_type": "markdown",
   "metadata": {},
   "source": [
    "**Visualization**"
   ]
  },
  {
   "cell_type": "code",
   "execution_count": 58,
   "metadata": {
    "tags": []
   },
   "outputs": [],
   "source": [
    "def show_values_barplot(axs, space):\n",
    "    def _show_on_plot(ax):\n",
    "        for p in ax.patches:\n",
    "            _x = p.get_x() + p.get_width() + float(space)\n",
    "            _y = p.get_y() + p.get_height()\n",
    "            value = round(float(p.get_width()),2)\n",
    "            ax.text(_x, _y, value, ha=\"left\")\n",
    "\n",
    "    if isinstance(axs, np.ndarray):\n",
    "        for idx, ax in np.ndenumerate(axs):\n",
    "            _show_on_plot(ax)\n",
    "    else:\n",
    "        _show_on_plot(axs)"
   ]
  },
  {
   "cell_type": "code",
   "execution_count": 59,
   "metadata": {
    "tags": []
   },
   "outputs": [
    {
     "name": "stderr",
     "output_type": "stream",
     "text": [
      "/opt/conda/lib/python3.10/site-packages/seaborn/_core.py:1225: FutureWarning: is_categorical_dtype is deprecated and will be removed in a future version. Use isinstance(dtype, CategoricalDtype) instead\n",
      "  if pd.api.types.is_categorical_dtype(vector):\n",
      "/opt/conda/lib/python3.10/site-packages/seaborn/_core.py:1225: FutureWarning: is_categorical_dtype is deprecated and will be removed in a future version. Use isinstance(dtype, CategoricalDtype) instead\n",
      "  if pd.api.types.is_categorical_dtype(vector):\n"
     ]
    },
    {
     "data": {
      "image/png": "[encoded data removed]",
      "text/plain": [
       "<Figure size 640x480 with 1 Axes>"
      ]
     },
     "metadata": {
      "image/png": {
       "height": 465,
       "width": 624
      }
     },
     "output_type": "display_data"
    }
   ],
   "source": [
    "# Create plot\n",
    "barplot = sns.barplot(\n",
    "    data = df_avg_by_category, \n",
    "    y='product_category',\n",
    "    x='avg_sentiment', \n",
    "    color=\"b\", \n",
    "    saturation=1\n",
    ")\n",
    "\n",
    "# Set the size of the figure\n",
    "sns.set(rc={'figure.figsize':(15.0, 10.0)})\n",
    "    \n",
    "# Set title and x-axis ticks \n",
    "plt.title('Average sentiment by product category')\n",
    "plt.xticks([-1, 0, 1], ['Negative', 'Neutral', 'Positive'])\n",
    "\n",
    "# Helper code to show actual values afters bars \n",
    "show_values_barplot(barplot, 0.1)\n",
    "\n",
    "plt.xlabel(\"Average sentiment\")\n",
    "plt.ylabel(\"Product category\")\n",
    "\n",
    "plt.tight_layout()\n",
    "# Do not change the figure name - it is used for grading purposes!\n",
    "plt.savefig('avg_sentiment_per_category.png', dpi=300)\n",
    "\n",
    "# Show graphic\n",
    "plt.show(barplot)"
   ]
  },
  {
   "cell_type": "code",
   "execution_count": 60,
   "metadata": {
    "tags": []
   },
   "outputs": [
    {
     "data": {
      "text/plain": [
       "'s3://sagemaker-us-east-1-003515149894/images/avg_sentiment_per_category.png'"
      ]
     },
     "execution_count": 60,
     "metadata": {},
     "output_type": "execute_result"
    }
   ],
   "source": [
    "# Upload image to S3 bucket\n",
    "sess.upload_data(path='avg_sentiment_per_category.png', bucket=bucket, key_prefix=\"images\")"
   ]
  },
  {
   "cell_type": "markdown",
   "metadata": {},
   "source": [
    "Review the bucket on the account.\n",
    "\n",
    "**Instructions**: \n",
    "- open the link\n",
    "- click on the S3 bucket name `sagemaker-us-east-1-ACCOUNT`\n",
    "- open the images folder\n",
    "- check the existence of the image `avg_sentiment_per_category.png`\n",
    "- if you click on the image name, you can see the information about the image file. You can also download the file with the command on the top right Object Actions -> Download / Download as\n",
    "<img src=\"images/download_image_file.png\" width=\"100%\">"
   ]
  },
  {
   "cell_type": "code",
   "execution_count": 61,
   "metadata": {
    "tags": []
   },
   "outputs": [
    {
     "name": "stderr",
     "output_type": "stream",
     "text": [
      "/tmp/ipykernel_350/751241923.py:1: DeprecationWarning: Importing display from IPython.core.display is deprecated since IPython 7.14, please import from IPython display\n",
      "  from IPython.core.display import display, HTML\n"
     ]
    },
    {
     "data": {
      "text/html": [
       "<b>Review <a target=\"top\" href=\"https://s3.console.aws.amazon.com/s3/home?region=us-east-1\">Amazon S3 buckets</a></b>"
      ],
      "text/plain": [
       "<IPython.core.display.HTML object>"
      ]
     },
     "metadata": {},
     "output_type": "display_data"
    }
   ],
   "source": [
    "from IPython.core.display import display, HTML\n",
    "\n",
    "display(HTML('<b>Review <a target=\"top\" href=\"https://s3.console.aws.amazon.com/s3/home?region={}\">Amazon S3 buckets</a></b>'.format(region)))"
   ]
  },
  {
   "cell_type": "markdown",
   "metadata": {},
   "source": [
    "<a name='c1w1-3.4.'></a>\n",
    "### 3.4. Which product categories have the most reviews?\n",
    "\n",
    "Set the SQL statement to find the count of sentiment per product category, showing the results in the descending order:"
   ]
  },
  {
   "cell_type": "code",
   "execution_count": 62,
   "metadata": {
    "tags": []
   },
   "outputs": [
    {
     "name": "stdout",
     "output_type": "stream",
     "text": [
      "\n",
      "SELECT product_category, COUNT(*) AS count_reviews \n",
      "FROM reviews\n",
      "GROUP BY product_category \n",
      "ORDER BY count_reviews DESC\n",
      "\n"
     ]
    }
   ],
   "source": [
    "statement_count_by_category_desc = \"\"\"\n",
    "SELECT product_category, COUNT(*) AS count_reviews \n",
    "FROM {}\n",
    "GROUP BY product_category \n",
    "ORDER BY count_reviews DESC\n",
    "\"\"\".format(table_name)\n",
    "\n",
    "print(statement_count_by_category_desc)"
   ]
  },
  {
   "cell_type": "markdown",
   "metadata": {},
   "source": [
    "Query data in Amazon Athena database passing the prepared SQL statement:"
   ]
  },
  {
   "cell_type": "code",
   "execution_count": 63,
   "metadata": {
    "tags": []
   },
   "outputs": [
    {
     "name": "stderr",
     "output_type": "stream",
     "text": [
      "/opt/conda/lib/python3.10/site-packages/awswrangler/_distributed.py:105: FutureWarning: promote has been superseded by mode='default'.\n",
      "  return cls.dispatch_func(func)(*args, **kw)\n"
     ]
    },
    {
     "name": "stdout",
     "output_type": "stream",
     "text": [
      "CPU times: user 193 ms, sys: 4.14 ms, total: 197 ms\n",
      "Wall time: 3.54 s\n"
     ]
    }
   ],
   "source": [
    "%%time\n",
    "df_count_by_category_desc = wr.athena.read_sql_query(\n",
    "    sql=statement_count_by_category_desc,\n",
    "    database=database_name\n",
    ")"
   ]
  },
  {
   "cell_type": "markdown",
   "metadata": {},
   "source": [
    "Store maximum number of sentiment for the visualization plot:"
   ]
  },
  {
   "cell_type": "code",
   "execution_count": 64,
   "metadata": {
    "tags": []
   },
   "outputs": [
    {
     "name": "stdout",
     "output_type": "stream",
     "text": [
      "Highest number of reviews (in a single category): 6145\n"
     ]
    }
   ],
   "source": [
    "max_sentiment = df_count_by_category_desc['count_reviews'].max()\n",
    "print('Highest number of reviews (in a single category): {}'.format(max_sentiment))"
   ]
  },
  {
   "cell_type": "markdown",
   "metadata": {},
   "source": [
    "**Visualization**"
   ]
  },
  {
   "cell_type": "markdown",
   "metadata": {},
   "source": [
    "<a name='c1w1-ex-4'></a>\n",
    "### Exercise 4\n",
    "\n",
    "Use `barplot` function to plot number of reviews per product category.\n",
    "\n",
    "**Instructions**: Use the `barplot` chart example in the previous section, passing the newly defined dataframe `df_count_by_category_desc` with the count of reviews. Here, please put the `product_category` column into the `y` argument."
   ]
  },
  {
   "cell_type": "code",
   "execution_count": 65,
   "metadata": {
    "tags": []
   },
   "outputs": [
    {
     "name": "stderr",
     "output_type": "stream",
     "text": [
      "/opt/conda/lib/python3.10/site-packages/seaborn/_core.py:1225: FutureWarning: is_categorical_dtype is deprecated and will be removed in a future version. Use isinstance(dtype, CategoricalDtype) instead\n",
      "  if pd.api.types.is_categorical_dtype(vector):\n",
      "/opt/conda/lib/python3.10/site-packages/seaborn/_core.py:1225: FutureWarning: is_categorical_dtype is deprecated and will be removed in a future version. Use isinstance(dtype, CategoricalDtype) instead\n",
      "  if pd.api.types.is_categorical_dtype(vector):\n"
     ]
    },
    {
     "data": {
      "image/png": "[encoded data removed]",
      "text/plain": [
       "<Figure size 1500x1000 with 1 Axes>"
      ]
     },
     "metadata": {
      "image/png": {
       "height": 985,
       "width": 1485
      }
     },
     "output_type": "display_data"
    }
   ],
   "source": [
    "# Create seaborn barplot\n",
    "barplot = sns.barplot(\n",
    "    ### BEGIN SOLUTION - DO NOT delete this comment for grading purposes\n",
    "    data=df_count_by_category_desc, # Replace None\n",
    "    y='product_category', # Replace None\n",
    "    x='count_reviews', # Replace None\n",
    "    ### END SOLUTION - DO NOT delete this comment for grading purposes\n",
    "    color=\"b\",\n",
    "    saturation=1\n",
    ")\n",
    "\n",
    "# Set the size of the figure\n",
    "sns.set(rc={'figure.figsize':(15.0, 10.0)})\n",
    "    \n",
    "# Set title\n",
    "plt.title(\"Number of reviews per product category\")\n",
    "plt.xlabel(\"Number of reviews\")\n",
    "plt.ylabel(\"Product category\")\n",
    "\n",
    "plt.tight_layout()\n",
    "\n",
    "# Do not change the figure name - it is used for grading purposes!\n",
    "plt.savefig('num_reviews_per_category.png', dpi=300)\n",
    "\n",
    "# Show the barplot\n",
    "plt.show(barplot)"
   ]
  },
  {
   "cell_type": "code",
   "execution_count": 66,
   "metadata": {
    "tags": []
   },
   "outputs": [
    {
     "data": {
      "text/plain": [
       "'s3://sagemaker-us-east-1-003515149894/images/num_reviews_per_category.png'"
      ]
     },
     "execution_count": 66,
     "metadata": {},
     "output_type": "execute_result"
    }
   ],
   "source": [
    "# Upload image to S3 bucket\n",
    "sess.upload_data(path='num_reviews_per_category.png', bucket=bucket, key_prefix=\"images\")"
   ]
  },
  {
   "cell_type": "markdown",
   "metadata": {},
   "source": [
    "<a name='c1w1-3.5.'></a>\n",
    "### 3.5. What is the breakdown of sentiments per product category?"
   ]
  },
  {
   "cell_type": "markdown",
   "metadata": {},
   "source": [
    "Set the SQL statement to find the count of sentiment per product category and sentiment:"
   ]
  },
  {
   "cell_type": "code",
   "execution_count": 67,
   "metadata": {
    "tags": []
   },
   "outputs": [
    {
     "name": "stdout",
     "output_type": "stream",
     "text": [
      "\n",
      "SELECT product_category,\n",
      "         sentiment,\n",
      "         COUNT(*) AS count_reviews\n",
      "FROM reviews\n",
      "GROUP BY  product_category, sentiment\n",
      "ORDER BY  product_category ASC, sentiment DESC, count_reviews\n",
      "\n"
     ]
    }
   ],
   "source": [
    "statement_count_by_category_and_sentiment = \"\"\"\n",
    "SELECT product_category,\n",
    "         sentiment,\n",
    "         COUNT(*) AS count_reviews\n",
    "FROM {}\n",
    "GROUP BY  product_category, sentiment\n",
    "ORDER BY  product_category ASC, sentiment DESC, count_reviews\n",
    "\"\"\".format(table_name)\n",
    "\n",
    "print(statement_count_by_category_and_sentiment)"
   ]
  },
  {
   "cell_type": "markdown",
   "metadata": {},
   "source": [
    "Query data in Amazon Athena database passing the prepared SQL statement:"
   ]
  },
  {
   "cell_type": "code",
   "execution_count": 68,
   "metadata": {
    "tags": []
   },
   "outputs": [
    {
     "name": "stderr",
     "output_type": "stream",
     "text": [
      "/opt/conda/lib/python3.10/site-packages/awswrangler/_distributed.py:105: FutureWarning: promote has been superseded by mode='default'.\n",
      "  return cls.dispatch_func(func)(*args, **kw)\n"
     ]
    },
    {
     "name": "stdout",
     "output_type": "stream",
     "text": [
      "CPU times: user 186 ms, sys: 3.24 ms, total: 189 ms\n",
      "Wall time: 3.24 s\n"
     ]
    }
   ],
   "source": [
    "%%time\n",
    "df_count_by_category_and_sentiment = wr.athena.read_sql_query(\n",
    "    sql=statement_count_by_category_and_sentiment,\n",
    "    database=database_name\n",
    ")"
   ]
  },
  {
   "cell_type": "markdown",
   "metadata": {},
   "source": [
    "Prepare for stacked percentage horizontal bar plot showing proportion of sentiments per product category."
   ]
  },
  {
   "cell_type": "code",
   "execution_count": 69,
   "metadata": {
    "tags": []
   },
   "outputs": [
    {
     "name": "stdout",
     "output_type": "stream",
     "text": [
      "Total number of reviews: 22626\n"
     ]
    }
   ],
   "source": [
    "# Create grouped dataframes by category and by sentiment\n",
    "grouped_category = df_count_by_category_and_sentiment.groupby('product_category')\n",
    "grouped_star = df_count_by_category_and_sentiment.groupby('sentiment')\n",
    "\n",
    "# Create sum of sentiments per star sentiment\n",
    "df_sum = df_count_by_category_and_sentiment.groupby(['sentiment']).sum()\n",
    "\n",
    "# Calculate total number of sentiments\n",
    "total = df_sum['count_reviews'].sum()\n",
    "print('Total number of reviews: {}'.format(total))"
   ]
  },
  {
   "cell_type": "markdown",
   "metadata": {},
   "source": [
    "Create dictionary of product categories and array of star rating distribution per category."
   ]
  },
  {
   "cell_type": "code",
   "execution_count": 70,
   "metadata": {
    "tags": []
   },
   "outputs": [],
   "source": [
    "distribution = {}\n",
    "count_reviews_per_star = []\n",
    "i=0\n",
    "\n",
    "for category, sentiments in grouped_category:\n",
    "    count_reviews_per_star = []\n",
    "    for star in sentiments['sentiment']:\n",
    "        count_reviews_per_star.append(sentiments.at[i, 'count_reviews'])\n",
    "        i=i+1;\n",
    "    distribution[category] = count_reviews_per_star"
   ]
  },
  {
   "cell_type": "markdown",
   "metadata": {},
   "source": [
    "Build array per star across all categories."
   ]
  },
  {
   "cell_type": "code",
   "execution_count": 71,
   "metadata": {
    "tags": []
   },
   "outputs": [
    {
     "data": {
      "text/plain": [
       "{'Blouses': [2256, 384, 343],\n",
       " 'Dresses': [4634, 830, 681],\n",
       " 'Fine gauge': [837, 118, 104],\n",
       " 'Intimates': [117, 16, 14],\n",
       " 'Jackets': [550, 61, 72],\n",
       " 'Jeans': [909, 110, 85],\n",
       " 'Knits': [3523, 605, 498],\n",
       " 'Layering': [113, 9, 10],\n",
       " 'Legwear': [126, 16, 16],\n",
       " 'Lounge': [545, 78, 46],\n",
       " 'Outerwear': [254, 29, 36],\n",
       " 'Pants': [1074, 154, 122],\n",
       " 'Shorts': [240, 39, 25],\n",
       " 'Skirts': [714, 104, 85],\n",
       " 'Sleep': [175, 16, 23],\n",
       " 'Sweaters': [1036, 193, 151],\n",
       " 'Swim': [252, 42, 38],\n",
       " 'Trend': [78, 19, 21]}"
      ]
     },
     "execution_count": 71,
     "metadata": {},
     "output_type": "execute_result"
    }
   ],
   "source": [
    "distribution"
   ]
  },
  {
   "cell_type": "code",
   "execution_count": 72,
   "metadata": {
    "tags": []
   },
   "outputs": [
    {
     "data": {
      "text/html": [
       "<div>\n",
       "<style scoped>\n",
       "    .dataframe tbody tr th:only-of-type {\n",
       "        vertical-align: middle;\n",
       "    }\n",
       "\n",
       "    .dataframe tbody tr th {\n",
       "        vertical-align: top;\n",
       "    }\n",
       "\n",
       "    .dataframe thead th {\n",
       "        text-align: right;\n",
       "    }\n",
       "</style>\n",
       "<table border=\"1\" class=\"dataframe\">\n",
       "  <thead>\n",
       "    <tr style=\"text-align: right;\">\n",
       "      <th></th>\n",
       "      <th>1</th>\n",
       "      <th>0</th>\n",
       "      <th>-1</th>\n",
       "    </tr>\n",
       "  </thead>\n",
       "  <tbody>\n",
       "    <tr>\n",
       "      <th>Blouses</th>\n",
       "      <td>75.628562</td>\n",
       "      <td>12.872947</td>\n",
       "      <td>11.498491</td>\n",
       "    </tr>\n",
       "    <tr>\n",
       "      <th>Dresses</th>\n",
       "      <td>75.410903</td>\n",
       "      <td>13.506916</td>\n",
       "      <td>11.082181</td>\n",
       "    </tr>\n",
       "    <tr>\n",
       "      <th>Fine gauge</th>\n",
       "      <td>79.036827</td>\n",
       "      <td>11.142587</td>\n",
       "      <td>9.820585</td>\n",
       "    </tr>\n",
       "    <tr>\n",
       "      <th>Intimates</th>\n",
       "      <td>79.591837</td>\n",
       "      <td>10.884354</td>\n",
       "      <td>9.523810</td>\n",
       "    </tr>\n",
       "    <tr>\n",
       "      <th>Jackets</th>\n",
       "      <td>80.527086</td>\n",
       "      <td>8.931186</td>\n",
       "      <td>10.541728</td>\n",
       "    </tr>\n",
       "    <tr>\n",
       "      <th>Jeans</th>\n",
       "      <td>82.336957</td>\n",
       "      <td>9.963768</td>\n",
       "      <td>7.699275</td>\n",
       "    </tr>\n",
       "    <tr>\n",
       "      <th>Knits</th>\n",
       "      <td>76.156507</td>\n",
       "      <td>13.078253</td>\n",
       "      <td>10.765240</td>\n",
       "    </tr>\n",
       "    <tr>\n",
       "      <th>Layering</th>\n",
       "      <td>85.606061</td>\n",
       "      <td>6.818182</td>\n",
       "      <td>7.575758</td>\n",
       "    </tr>\n",
       "    <tr>\n",
       "      <th>Legwear</th>\n",
       "      <td>79.746835</td>\n",
       "      <td>10.126582</td>\n",
       "      <td>10.126582</td>\n",
       "    </tr>\n",
       "    <tr>\n",
       "      <th>Lounge</th>\n",
       "      <td>81.464873</td>\n",
       "      <td>11.659193</td>\n",
       "      <td>6.875934</td>\n",
       "    </tr>\n",
       "    <tr>\n",
       "      <th>Outerwear</th>\n",
       "      <td>79.623824</td>\n",
       "      <td>9.090909</td>\n",
       "      <td>11.285266</td>\n",
       "    </tr>\n",
       "    <tr>\n",
       "      <th>Pants</th>\n",
       "      <td>79.555556</td>\n",
       "      <td>11.407407</td>\n",
       "      <td>9.037037</td>\n",
       "    </tr>\n",
       "    <tr>\n",
       "      <th>Shorts</th>\n",
       "      <td>78.947368</td>\n",
       "      <td>12.828947</td>\n",
       "      <td>8.223684</td>\n",
       "    </tr>\n",
       "    <tr>\n",
       "      <th>Skirts</th>\n",
       "      <td>79.069767</td>\n",
       "      <td>11.517165</td>\n",
       "      <td>9.413068</td>\n",
       "    </tr>\n",
       "    <tr>\n",
       "      <th>Sleep</th>\n",
       "      <td>81.775701</td>\n",
       "      <td>7.476636</td>\n",
       "      <td>10.747664</td>\n",
       "    </tr>\n",
       "    <tr>\n",
       "      <th>Sweaters</th>\n",
       "      <td>75.072464</td>\n",
       "      <td>13.985507</td>\n",
       "      <td>10.942029</td>\n",
       "    </tr>\n",
       "    <tr>\n",
       "      <th>Swim</th>\n",
       "      <td>75.903614</td>\n",
       "      <td>12.650602</td>\n",
       "      <td>11.445783</td>\n",
       "    </tr>\n",
       "    <tr>\n",
       "      <th>Trend</th>\n",
       "      <td>66.101695</td>\n",
       "      <td>16.101695</td>\n",
       "      <td>17.796610</td>\n",
       "    </tr>\n",
       "  </tbody>\n",
       "</table>\n",
       "</div>"
      ],
      "text/plain": [
       "                    1          0         -1\n",
       "Blouses     75.628562  12.872947  11.498491\n",
       "Dresses     75.410903  13.506916  11.082181\n",
       "Fine gauge  79.036827  11.142587   9.820585\n",
       "Intimates   79.591837  10.884354   9.523810\n",
       "Jackets     80.527086   8.931186  10.541728\n",
       "Jeans       82.336957   9.963768   7.699275\n",
       "Knits       76.156507  13.078253  10.765240\n",
       "Layering    85.606061   6.818182   7.575758\n",
       "Legwear     79.746835  10.126582  10.126582\n",
       "Lounge      81.464873  11.659193   6.875934\n",
       "Outerwear   79.623824   9.090909  11.285266\n",
       "Pants       79.555556  11.407407   9.037037\n",
       "Shorts      78.947368  12.828947   8.223684\n",
       "Skirts      79.069767  11.517165   9.413068\n",
       "Sleep       81.775701   7.476636  10.747664\n",
       "Sweaters    75.072464  13.985507  10.942029\n",
       "Swim        75.903614  12.650602  11.445783\n",
       "Trend       66.101695  16.101695  17.796610"
      ]
     },
     "execution_count": 72,
     "metadata": {},
     "output_type": "execute_result"
    }
   ],
   "source": [
    "df_distribution_pct = pd.DataFrame(distribution).transpose().apply(\n",
    "    lambda num_sentiments: num_sentiments/sum(num_sentiments)*100, axis=1\n",
    ")\n",
    "df_distribution_pct.columns=['1', '0', '-1']\n",
    "df_distribution_pct"
   ]
  },
  {
   "cell_type": "markdown",
   "metadata": {},
   "source": [
    "**Visualization**\n",
    "\n",
    "Plot the distributions of sentiments per product category."
   ]
  },
  {
   "cell_type": "code",
   "execution_count": 73,
   "metadata": {
    "tags": []
   },
   "outputs": [
    {
     "data": {
      "text/plain": [
       "<Figure size 1000x500 with 0 Axes>"
      ]
     },
     "metadata": {},
     "output_type": "display_data"
    },
    {
     "data": {
      "image/png": "[encoded data removed]",
      "text/plain": [
       "<Figure size 1500x1000 with 1 Axes>"
      ]
     },
     "metadata": {
      "image/png": {
       "height": 982,
       "width": 1484
      }
     },
     "output_type": "display_data"
    }
   ],
   "source": [
    "categories = df_distribution_pct.index\n",
    "\n",
    "# Plot bars\n",
    "plt.figure(figsize=(10,5))\n",
    "\n",
    "df_distribution_pct.plot(kind=\"barh\", \n",
    "                         stacked=True, \n",
    "                         edgecolor='white',\n",
    "                         width=1.0,\n",
    "                         color=['green', \n",
    "                                'orange', \n",
    "                                'blue'])\n",
    "\n",
    "plt.title(\"Distribution of reviews per sentiment per category\", \n",
    "          fontsize='16')\n",
    "\n",
    "plt.legend(bbox_to_anchor=(1.04,1), \n",
    "           loc=\"upper left\",\n",
    "           labels=['Positive', \n",
    "                   'Neutral', \n",
    "                   'Negative'])\n",
    "\n",
    "plt.xlabel(\"% Breakdown of sentiments\", fontsize='14')\n",
    "plt.gca().invert_yaxis()\n",
    "plt.tight_layout()\n",
    "\n",
    "# Do not change the figure name - it is used for grading purposes!\n",
    "plt.savefig('distribution_sentiment_per_category.png', dpi=300)\n",
    "plt.show()"
   ]
  },
  {
   "cell_type": "code",
   "execution_count": 74,
   "metadata": {
    "tags": []
   },
   "outputs": [
    {
     "data": {
      "text/plain": [
       "'s3://sagemaker-us-east-1-003515149894/images/distribution_sentiment_per_category.png'"
      ]
     },
     "execution_count": 74,
     "metadata": {},
     "output_type": "execute_result"
    }
   ],
   "source": [
    "# Upload image to S3 bucket\n",
    "sess.upload_data(path='distribution_sentiment_per_category.png', bucket=bucket, key_prefix=\"images\")"
   ]
  },
  {
   "cell_type": "markdown",
   "metadata": {},
   "source": [
    "<a name='c1w1-3.6.'></a>\n",
    "### 3.6. Analyze the distribution of review word counts"
   ]
  },
  {
   "cell_type": "markdown",
   "metadata": {},
   "source": [
    "Set the SQL statement to count the number of the words in each of the reviews:"
   ]
  },
  {
   "cell_type": "code",
   "execution_count": 75,
   "metadata": {
    "tags": []
   },
   "outputs": [
    {
     "name": "stdout",
     "output_type": "stream",
     "text": [
      "\n",
      "    SELECT CARDINALITY(SPLIT(review_body, ' ')) as num_words\n",
      "    FROM reviews\n",
      "\n"
     ]
    }
   ],
   "source": [
    "statement_num_words = \"\"\"\n",
    "    SELECT CARDINALITY(SPLIT(review_body, ' ')) as num_words\n",
    "    FROM {}\n",
    "\"\"\".format(table_name)\n",
    "\n",
    "print(statement_num_words)"
   ]
  },
  {
   "cell_type": "markdown",
   "metadata": {},
   "source": [
    "Query data in Amazon Athena database passing the SQL statement:"
   ]
  },
  {
   "cell_type": "code",
   "execution_count": 76,
   "metadata": {
    "tags": []
   },
   "outputs": [
    {
     "name": "stderr",
     "output_type": "stream",
     "text": [
      "/opt/conda/lib/python3.10/site-packages/awswrangler/_distributed.py:105: FutureWarning: promote has been superseded by mode='default'.\n",
      "  return cls.dispatch_func(func)(*args, **kw)\n"
     ]
    },
    {
     "name": "stdout",
     "output_type": "stream",
     "text": [
      "CPU times: user 190 ms, sys: 1.37 ms, total: 191 ms\n",
      "Wall time: 3.28 s\n"
     ]
    }
   ],
   "source": [
    "%%time\n",
    "df_num_words = wr.athena.read_sql_query(\n",
    "    sql=statement_num_words,\n",
    "    database=database_name\n",
    ")"
   ]
  },
  {
   "cell_type": "markdown",
   "metadata": {},
   "source": [
    "Print out and analyse some descriptive statistics: "
   ]
  },
  {
   "cell_type": "code",
   "execution_count": 77,
   "metadata": {
    "tags": []
   },
   "outputs": [
    {
     "data": {
      "text/plain": [
       "count      22626.0\n",
       "mean     62.709847\n",
       "std      29.993735\n",
       "min            2.0\n",
       "10%           22.0\n",
       "20%           33.0\n",
       "30%           42.0\n",
       "40%           51.0\n",
       "50%           61.0\n",
       "60%           72.0\n",
       "70%           86.0\n",
       "80%           97.0\n",
       "90%          103.0\n",
       "100%         122.0\n",
       "max          122.0\n",
       "Name: num_words, dtype: Float64"
      ]
     },
     "execution_count": 77,
     "metadata": {},
     "output_type": "execute_result"
    }
   ],
   "source": [
    "summary = df_num_words[\"num_words\"].describe(percentiles=[0.10, 0.20, 0.30, 0.40, 0.50, 0.60, 0.70, 0.80, 0.90, 1.00])\n",
    "summary"
   ]
  },
  {
   "cell_type": "markdown",
   "metadata": {},
   "source": [
    "Plot the distribution of the words number per review:"
   ]
  },
  {
   "cell_type": "code",
   "execution_count": 78,
   "metadata": {
    "tags": []
   },
   "outputs": [
    {
     "data": {
      "image/png": "[encoded data removed]",
      "text/plain": [
       "<Figure size 1500x1000 with 1 Axes>"
      ]
     },
     "metadata": {
      "image/png": {
       "height": 842,
       "width": 1259
      }
     },
     "output_type": "display_data"
    }
   ],
   "source": [
    "df_num_words[\"num_words\"].plot.hist(xticks=[0, 16, 32, 64, 128, 256], bins=100, range=[0, 256]).axvline(\n",
    "    x=summary[\"100%\"], c=\"red\"\n",
    ")\n",
    "\n",
    "plt.xlabel(\"Words number\", fontsize='14')\n",
    "plt.ylabel(\"Frequency\", fontsize='14')\n",
    "plt.savefig('distribution_num_words_per_review.png', dpi=300)\n",
    "plt.show()"
   ]
  },
  {
   "cell_type": "code",
   "execution_count": 79,
   "metadata": {
    "tags": []
   },
   "outputs": [
    {
     "data": {
      "text/plain": [
       "'s3://sagemaker-us-east-1-003515149894/images/distribution_num_words_per_review.png'"
      ]
     },
     "execution_count": 79,
     "metadata": {},
     "output_type": "execute_result"
    }
   ],
   "source": [
    "# Upload image to S3 bucket\n",
    "sess.upload_data(path='distribution_num_words_per_review.png', bucket=bucket, key_prefix=\"images\")"
   ]
  },
  {
   "cell_type": "markdown",
   "metadata": {},
   "source": [
    "Upload the notebook into S3 bucket for grading purposes.\n",
    "\n",
    "**Note**: you may need to click on \"Save\" button before the upload."
   ]
  },
  {
   "cell_type": "code",
   "execution_count": 80,
   "metadata": {
    "tags": []
   },
   "outputs": [
    {
     "name": "stdout",
     "output_type": "stream",
     "text": [
      "upload: ./C1_W1_Assignment.ipynb to s3://sagemaker-us-east-1-003515149894/C1_W1_Assignment_Learner.ipynb\n"
     ]
    }
   ],
   "source": [
    "!aws s3 cp ./C1_W1_Assignment.ipynb s3://$bucket/C1_W1_Assignment_Learner.ipynb"
   ]
  },
  {
   "cell_type": "markdown",
   "metadata": {},
   "source": [
    "Please go to the main lab window and click on `Submit` button (see the `Finish the lab` section of the instructions)."
   ]
  },
  {
   "cell_type": "code",
   "execution_count": null,
   "metadata": {},
   "outputs": [],
   "source": []
  }
 ],
 "metadata": {
  "availableInstances": [
   {
    "_defaultOrder": 0,
    "_isFastLaunch": true,
    "category": "General purpose",
    "gpuNum": 0,
    "hideHardwareSpecs": false,
    "memoryGiB": 4,
    "name": "ml.t3.medium",
    "vcpuNum": 2
   },
   {
    "_defaultOrder": 1,
    "_isFastLaunch": false,
    "category": "General purpose",
    "gpuNum": 0,
    "hideHardwareSpecs": false,
    "memoryGiB": 8,
    "name": "ml.t3.large",
    "vcpuNum": 2
   },
   {
    "_defaultOrder": 2,
    "_isFastLaunch": false,
    "category": "General purpose",
    "gpuNum": 0,
    "hideHardwareSpecs": false,
    "memoryGiB": 16,
    "name": "ml.t3.xlarge",
    "vcpuNum": 4
   },
   {
    "_defaultOrder": 3,
    "_isFastLaunch": false,
    "category": "General purpose",
    "gpuNum": 0,
    "hideHardwareSpecs": false,
    "memoryGiB": 32,
    "name": "ml.t3.2xlarge",
    "vcpuNum": 8
   },
   {
    "_defaultOrder": 4,
    "_isFastLaunch": true,
    "category": "General purpose",
    "gpuNum": 0,
    "hideHardwareSpecs": false,
    "memoryGiB": 8,
    "name": "ml.m5.large",
    "vcpuNum": 2
   },
   {
    "_defaultOrder": 5,
    "_isFastLaunch": false,
    "category": "General purpose",
    "gpuNum": 0,
    "hideHardwareSpecs": false,
    "memoryGiB": 16,
    "name": "ml.m5.xlarge",
    "vcpuNum": 4
   },
   {
    "_defaultOrder": 6,
    "_isFastLaunch": false,
    "category": "General purpose",
    "gpuNum": 0,
    "hideHardwareSpecs": false,
    "memoryGiB": 32,
    "name": "ml.m5.2xlarge",
    "vcpuNum": 8
   },
   {
    "_defaultOrder": 7,
    "_isFastLaunch": false,
    "category": "General purpose",
    "gpuNum": 0,
    "hideHardwareSpecs": false,
    "memoryGiB": 64,
    "name": "ml.m5.4xlarge",
    "vcpuNum": 16
   },
   {
    "_defaultOrder": 8,
    "_isFastLaunch": false,
    "category": "General purpose",
    "gpuNum": 0,
    "hideHardwareSpecs": false,
    "memoryGiB": 128,
    "name": "ml.m5.8xlarge",
    "vcpuNum": 32
   },
   {
    "_defaultOrder": 9,
    "_isFastLaunch": false,
    "category": "General purpose",
    "gpuNum": 0,
    "hideHardwareSpecs": false,
    "memoryGiB": 192,
    "name": "ml.m5.12xlarge",
    "vcpuNum": 48
   },
   {
    "_defaultOrder": 10,
    "_isFastLaunch": false,
    "category": "General purpose",
    "gpuNum": 0,
    "hideHardwareSpecs": false,
    "memoryGiB": 256,
    "name": "ml.m5.16xlarge",
    "vcpuNum": 64
   },
   {
    "_defaultOrder": 11,
    "_isFastLaunch": false,
    "category": "General purpose",
    "gpuNum": 0,
    "hideHardwareSpecs": false,
    "memoryGiB": 384,
    "name": "ml.m5.24xlarge",
    "vcpuNum": 96
   },
   {
    "_defaultOrder": 12,
    "_isFastLaunch": false,
    "category": "General purpose",
    "gpuNum": 0,
    "hideHardwareSpecs": false,
    "memoryGiB": 8,
    "name": "ml.m5d.large",
    "vcpuNum": 2
   },
   {
    "_defaultOrder": 13,
    "_isFastLaunch": false,
    "category": "General purpose",
    "gpuNum": 0,
    "hideHardwareSpecs": false,
    "memoryGiB": 16,
    "name": "ml.m5d.xlarge",
    "vcpuNum": 4
   },
   {
    "_defaultOrder": 14,
    "_isFastLaunch": false,
    "category": "General purpose",
    "gpuNum": 0,
    "hideHardwareSpecs": false,
    "memoryGiB": 32,
    "name": "ml.m5d.2xlarge",
    "vcpuNum": 8
   },
   {
    "_defaultOrder": 15,
    "_isFastLaunch": false,
    "category": "General purpose",
    "gpuNum": 0,
    "hideHardwareSpecs": false,
    "memoryGiB": 64,
    "name": "ml.m5d.4xlarge",
    "vcpuNum": 16
   },
   {
    "_defaultOrder": 16,
    "_isFastLaunch": false,
    "category": "General purpose",
    "gpuNum": 0,
    "hideHardwareSpecs": false,
    "memoryGiB": 128,
    "name": "ml.m5d.8xlarge",
    "vcpuNum": 32
   },
   {
    "_defaultOrder": 17,
    "_isFastLaunch": false,
    "category": "General purpose",
    "gpuNum": 0,
    "hideHardwareSpecs": false,
    "memoryGiB": 192,
    "name": "ml.m5d.12xlarge",
    "vcpuNum": 48
   },
   {
    "_defaultOrder": 18,
    "_isFastLaunch": false,
    "category": "General purpose",
    "gpuNum": 0,
    "hideHardwareSpecs": false,
    "memoryGiB": 256,
    "name": "ml.m5d.16xlarge",
    "vcpuNum": 64
   },
   {
    "_defaultOrder": 19,
    "_isFastLaunch": false,
    "category": "General purpose",
    "gpuNum": 0,
    "hideHardwareSpecs": false,
    "memoryGiB": 384,
    "name": "ml.m5d.24xlarge",
    "vcpuNum": 96
   },
   {
    "_defaultOrder": 20,
    "_isFastLaunch": false,
    "category": "General purpose",
    "gpuNum": 0,
    "hideHardwareSpecs": true,
    "memoryGiB": 0,
    "name": "ml.geospatial.interactive",
    "supportedImageNames": [
     "sagemaker-geospatial-v1-0"
    ],
    "vcpuNum": 0
   },
   {
    "_defaultOrder": 21,
    "_isFastLaunch": true,
    "category": "Compute optimized",
    "gpuNum": 0,
    "hideHardwareSpecs": false,
    "memoryGiB": 4,
    "name": "ml.c5.large",
    "vcpuNum": 2
   },
   {
    "_defaultOrder": 22,
    "_isFastLaunch": false,
    "category": "Compute optimized",
    "gpuNum": 0,
    "hideHardwareSpecs": false,
    "memoryGiB": 8,
    "name": "ml.c5.xlarge",
    "vcpuNum": 4
   },
   {
    "_defaultOrder": 23,
    "_isFastLaunch": false,
    "category": "Compute optimized",
    "gpuNum": 0,
    "hideHardwareSpecs": false,
    "memoryGiB": 16,
    "name": "ml.c5.2xlarge",
    "vcpuNum": 8
   },
   {
    "_defaultOrder": 24,
    "_isFastLaunch": false,
    "category": "Compute optimized",
    "gpuNum": 0,
    "hideHardwareSpecs": false,
    "memoryGiB": 32,
    "name": "ml.c5.4xlarge",
    "vcpuNum": 16
   },
   {
    "_defaultOrder": 25,
    "_isFastLaunch": false,
    "category": "Compute optimized",
    "gpuNum": 0,
    "hideHardwareSpecs": false,
    "memoryGiB": 72,
    "name": "ml.c5.9xlarge",
    "vcpuNum": 36
   },
   {
    "_defaultOrder": 26,
    "_isFastLaunch": false,
    "category": "Compute optimized",
    "gpuNum": 0,
    "hideHardwareSpecs": false,
    "memoryGiB": 96,
    "name": "ml.c5.12xlarge",
    "vcpuNum": 48
   },
   {
    "_defaultOrder": 27,
    "_isFastLaunch": false,
    "category": "Compute optimized",
    "gpuNum": 0,
    "hideHardwareSpecs": false,
    "memoryGiB": 144,
    "name": "ml.c5.18xlarge",
    "vcpuNum": 72
   },
   {
    "_defaultOrder": 28,
    "_isFastLaunch": false,
    "category": "Compute optimized",
    "gpuNum": 0,
    "hideHardwareSpecs": false,
    "memoryGiB": 192,
    "name": "ml.c5.24xlarge",
    "vcpuNum": 96
   },
   {
    "_defaultOrder": 29,
    "_isFastLaunch": true,
    "category": "Accelerated computing",
    "gpuNum": 1,
    "hideHardwareSpecs": false,
    "memoryGiB": 16,
    "name": "ml.g4dn.xlarge",
    "vcpuNum": 4
   },
   {
    "_defaultOrder": 30,
    "_isFastLaunch": false,
    "category": "Accelerated computing",
    "gpuNum": 1,
    "hideHardwareSpecs": false,
    "memoryGiB": 32,
    "name": "ml.g4dn.2xlarge",
    "vcpuNum": 8
   },
   {
    "_defaultOrder": 31,
    "_isFastLaunch": false,
    "category": "Accelerated computing",
    "gpuNum": 1,
    "hideHardwareSpecs": false,
    "memoryGiB": 64,
    "name": "ml.g4dn.4xlarge",
    "vcpuNum": 16
   },
   {
    "_defaultOrder": 32,
    "_isFastLaunch": false,
    "category": "Accelerated computing",
    "gpuNum": 1,
    "hideHardwareSpecs": false,
    "memoryGiB": 128,
    "name": "ml.g4dn.8xlarge",
    "vcpuNum": 32
   },
   {
    "_defaultOrder": 33,
    "_isFastLaunch": false,
    "category": "Accelerated computing",
    "gpuNum": 4,
    "hideHardwareSpecs": false,
    "memoryGiB": 192,
    "name": "ml.g4dn.12xlarge",
    "vcpuNum": 48
   },
   {
    "_defaultOrder": 34,
    "_isFastLaunch": false,
    "category": "Accelerated computing",
    "gpuNum": 1,
    "hideHardwareSpecs": false,
    "memoryGiB": 256,
    "name": "ml.g4dn.16xlarge",
    "vcpuNum": 64
   },
   {
    "_defaultOrder": 35,
    "_isFastLaunch": false,
    "category": "Accelerated computing",
    "gpuNum": 1,
    "hideHardwareSpecs": false,
    "memoryGiB": 61,
    "name": "ml.p3.2xlarge",
    "vcpuNum": 8
   },
   {
    "_defaultOrder": 36,
    "_isFastLaunch": false,
    "category": "Accelerated computing",
    "gpuNum": 4,
    "hideHardwareSpecs": false,
    "memoryGiB": 244,
    "name": "ml.p3.8xlarge",
    "vcpuNum": 32
   },
   {
    "_defaultOrder": 37,
    "_isFastLaunch": false,
    "category": "Accelerated computing",
    "gpuNum": 8,
    "hideHardwareSpecs": false,
    "memoryGiB": 488,
    "name": "ml.p3.16xlarge",
    "vcpuNum": 64
   },
   {
    "_defaultOrder": 38,
    "_isFastLaunch": false,
    "category": "Accelerated computing",
    "gpuNum": 8,
    "hideHardwareSpecs": false,
    "memoryGiB": 768,
    "name": "ml.p3dn.24xlarge",
    "vcpuNum": 96
   },
   {
    "_defaultOrder": 39,
    "_isFastLaunch": false,
    "category": "Memory Optimized",
    "gpuNum": 0,
    "hideHardwareSpecs": false,
    "memoryGiB": 16,
    "name": "ml.r5.large",
    "vcpuNum": 2
   },
   {
    "_defaultOrder": 40,
    "_isFastLaunch": false,
    "category": "Memory Optimized",
    "gpuNum": 0,
    "hideHardwareSpecs": false,
    "memoryGiB": 32,
    "name": "ml.r5.xlarge",
    "vcpuNum": 4
   },
   {
    "_defaultOrder": 41,
    "_isFastLaunch": false,
    "category": "Memory Optimized",
    "gpuNum": 0,
    "hideHardwareSpecs": false,
    "memoryGiB": 64,
    "name": "ml.r5.2xlarge",
    "vcpuNum": 8
   },
   {
    "_defaultOrder": 42,
    "_isFastLaunch": false,
    "category": "Memory Optimized",
    "gpuNum": 0,
    "hideHardwareSpecs": false,
    "memoryGiB": 128,
    "name": "ml.r5.4xlarge",
    "vcpuNum": 16
   },
   {
    "_defaultOrder": 43,
    "_isFastLaunch": false,
    "category": "Memory Optimized",
    "gpuNum": 0,
    "hideHardwareSpecs": false,
    "memoryGiB": 256,
    "name": "ml.r5.8xlarge",
    "vcpuNum": 32
   },
   {
    "_defaultOrder": 44,
    "_isFastLaunch": false,
    "category": "Memory Optimized",
    "gpuNum": 0,
    "hideHardwareSpecs": false,
    "memoryGiB": 384,
    "name": "ml.r5.12xlarge",
    "vcpuNum": 48
   },
   {
    "_defaultOrder": 45,
    "_isFastLaunch": false,
    "category": "Memory Optimized",
    "gpuNum": 0,
    "hideHardwareSpecs": false,
    "memoryGiB": 512,
    "name": "ml.r5.16xlarge",
    "vcpuNum": 64
   },
   {
    "_defaultOrder": 46,
    "_isFastLaunch": false,
    "category": "Memory Optimized",
    "gpuNum": 0,
    "hideHardwareSpecs": false,
    "memoryGiB": 768,
    "name": "ml.r5.24xlarge",
    "vcpuNum": 96
   },
   {
    "_defaultOrder": 47,
    "_isFastLaunch": false,
    "category": "Accelerated computing",
    "gpuNum": 1,
    "hideHardwareSpecs": false,
    "memoryGiB": 16,
    "name": "ml.g5.xlarge",
    "vcpuNum": 4
   },
   {
    "_defaultOrder": 48,
    "_isFastLaunch": false,
    "category": "Accelerated computing",
    "gpuNum": 1,
    "hideHardwareSpecs": false,
    "memoryGiB": 32,
    "name": "ml.g5.2xlarge",
    "vcpuNum": 8
   },
   {
    "_defaultOrder": 49,
    "_isFastLaunch": false,
    "category": "Accelerated computing",
    "gpuNum": 1,
    "hideHardwareSpecs": false,
    "memoryGiB": 64,
    "name": "ml.g5.4xlarge",
    "vcpuNum": 16
   },
   {
    "_defaultOrder": 50,
    "_isFastLaunch": false,
    "category": "Accelerated computing",
    "gpuNum": 1,
    "hideHardwareSpecs": false,
    "memoryGiB": 128,
    "name": "ml.g5.8xlarge",
    "vcpuNum": 32
   },
   {
    "_defaultOrder": 51,
    "_isFastLaunch": false,
    "category": "Accelerated computing",
    "gpuNum": 1,
    "hideHardwareSpecs": false,
    "memoryGiB": 256,
    "name": "ml.g5.16xlarge",
    "vcpuNum": 64
   },
   {
    "_defaultOrder": 52,
    "_isFastLaunch": false,
    "category": "Accelerated computing",
    "gpuNum": 4,
    "hideHardwareSpecs": false,
    "memoryGiB": 192,
    "name": "ml.g5.12xlarge",
    "vcpuNum": 48
   },
   {
    "_defaultOrder": 53,
    "_isFastLaunch": false,
    "category": "Accelerated computing",
    "gpuNum": 4,
    "hideHardwareSpecs": false,
    "memoryGiB": 384,
    "name": "ml.g5.24xlarge",
    "vcpuNum": 96
   },
   {
    "_defaultOrder": 54,
    "_isFastLaunch": false,
    "category": "Accelerated computing",
    "gpuNum": 8,
    "hideHardwareSpecs": false,
    "memoryGiB": 768,
    "name": "ml.g5.48xlarge",
    "vcpuNum": 192
   },
   {
    "_defaultOrder": 55,
    "_isFastLaunch": false,
    "category": "Accelerated computing",
    "gpuNum": 8,
    "hideHardwareSpecs": false,
    "memoryGiB": 1152,
    "name": "ml.p4d.24xlarge",
    "vcpuNum": 96
   },
   {
    "_defaultOrder": 56,
    "_isFastLaunch": false,
    "category": "Accelerated computing",
    "gpuNum": 8,
    "hideHardwareSpecs": false,
    "memoryGiB": 1152,
    "name": "ml.p4de.24xlarge",
    "vcpuNum": 96
   },
   {
    "_defaultOrder": 57,
    "_isFastLaunch": false,
    "category": "Accelerated computing",
    "gpuNum": 0,
    "hideHardwareSpecs": false,
    "memoryGiB": 32,
    "name": "ml.trn1.2xlarge",
    "vcpuNum": 8
   },
   {
    "_defaultOrder": 58,
    "_isFastLaunch": false,
    "category": "Accelerated computing",
    "gpuNum": 0,
    "hideHardwareSpecs": false,
    "memoryGiB": 512,
    "name": "ml.trn1.32xlarge",
    "vcpuNum": 128
   },
   {
    "_defaultOrder": 59,
    "_isFastLaunch": false,
    "category": "Accelerated computing",
    "gpuNum": 0,
    "hideHardwareSpecs": false,
    "memoryGiB": 512,
    "name": "ml.trn1n.32xlarge",
    "vcpuNum": 128
   }
  ],
  "instance_type": "ml.t3.medium",
  "kernelspec": {
   "display_name": "Python 3 (Data Science 3.0)",
   "language": "python",
   "name": "python3__SAGEMAKER_INTERNAL__arn:aws:sagemaker:us-east-1:081325390199:image/sagemaker-data-science-310-v1"
  },
  "language_info": {
   "codemirror_mode": {
    "name": "ipython",
    "version": 3
   },
   "file_extension": ".py",
   "mimetype": "text/x-python",
   "name": "python",
   "nbconvert_exporter": "python",
   "pygments_lexer": "ipython3",
   "version": "3.10.6"
  }
 },
 "nbformat": 4,
 "nbformat_minor": 4
}
